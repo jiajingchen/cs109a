{
 "cells": [
  {
   "cell_type": "code",
   "execution_count": 1,
   "metadata": {
    "collapsed": true
   },
   "outputs": [],
   "source": [
    "import numpy as np #imports a fast numerical programming library"
   ]
  },
  {
   "cell_type": "code",
   "execution_count": 2,
   "metadata": {},
   "outputs": [
    {
     "data": {
      "text/plain": [
       "2.1666666666666665"
      ]
     },
     "execution_count": 2,
     "metadata": {},
     "output_type": "execute_result"
    }
   ],
   "source": [
    "np.mean([1.2, 2, 3.3])"
   ]
  },
  {
   "cell_type": "code",
   "execution_count": 3,
   "metadata": {},
   "outputs": [
    {
     "data": {
      "text/plain": [
       "(0.5, 0, 0.5, 9.600000000000001)"
      ]
     },
     "execution_count": 3,
     "metadata": {},
     "output_type": "execute_result"
    }
   ],
   "source": [
    "1/2, 1//2, 1.0/2.0, 3*3.2\n"
   ]
  },
  {
   "cell_type": "code",
   "execution_count": 4,
   "metadata": {},
   "outputs": [
    {
     "name": "stdout",
     "output_type": "stream",
     "text": [
      "4.0 \n",
      " 9 7\n"
     ]
    },
    {
     "data": {
      "text/plain": [
       "1.6666666666666667"
      ]
     },
     "execution_count": 4,
     "metadata": {},
     "output_type": "execute_result"
    }
   ],
   "source": [
    "print(1 + 3.0, \"\\n\", 9, 7)\n",
    "5/3"
   ]
  },
  {
   "cell_type": "code",
   "execution_count": 5,
   "metadata": {
    "collapsed": true
   },
   "outputs": [],
   "source": [
    "a = 1\n",
    "b = 2.0\n"
   ]
  },
  {
   "cell_type": "code",
   "execution_count": 6,
   "metadata": {
    "collapsed": true
   },
   "outputs": [],
   "source": [
    "a = [1, 2, 3]\n"
   ]
  },
  {
   "cell_type": "code",
   "execution_count": 7,
   "metadata": {},
   "outputs": [
    {
     "data": {
      "text/plain": [
       "[1, 2, 3]"
      ]
     },
     "execution_count": 7,
     "metadata": {},
     "output_type": "execute_result"
    }
   ],
   "source": [
    "b = a\n",
    "b"
   ]
  },
  {
   "cell_type": "code",
   "execution_count": 8,
   "metadata": {},
   "outputs": [
    {
     "name": "stdout",
     "output_type": "stream",
     "text": [
      "a [1, 2, 3]\n",
      "b [1, 2, 3]\n",
      "a after change [1, 7, 3]\n",
      "b after change [1, 7, 3]\n"
     ]
    }
   ],
   "source": [
    "print(\"a\", a)\n",
    "print(\"b\", b)\n",
    "a[1] = 7\n",
    "print(\"a after change\", a)\n",
    "print(\"b after change\", b)"
   ]
  },
  {
   "cell_type": "code",
   "execution_count": 9,
   "metadata": {},
   "outputs": [
    {
     "data": {
      "text/plain": [
       "(2, -1.0, 4.0, 10)"
      ]
     },
     "execution_count": 9,
     "metadata": {},
     "output_type": "execute_result"
    }
   ],
   "source": [
    "a = 1\n",
    "b = 2.0\n",
    "a + a, a - b, b * b, 10*a"
   ]
  },
  {
   "cell_type": "code",
   "execution_count": 10,
   "metadata": {},
   "outputs": [
    {
     "data": {
      "text/plain": [
       "False"
      ]
     },
     "execution_count": 10,
     "metadata": {},
     "output_type": "execute_result"
    }
   ],
   "source": [
    "type(a) == float"
   ]
  },
  {
   "cell_type": "code",
   "execution_count": 11,
   "metadata": {},
   "outputs": [
    {
     "data": {
      "text/plain": [
       "True"
      ]
     },
     "execution_count": 11,
     "metadata": {},
     "output_type": "execute_result"
    }
   ],
   "source": [
    "type(a) == int"
   ]
  },
  {
   "cell_type": "code",
   "execution_count": 12,
   "metadata": {},
   "outputs": [
    {
     "name": "stdout",
     "output_type": "stream",
     "text": [
      "[]\n",
      "[1, 2, 3, 4, 5, 6, 7, 8, 9, 10]\n",
      "[1, 2.0, 3, 4.0, 5] [1.0, 3.0, 5.0, 4.0, 2.0]\n"
     ]
    }
   ],
   "source": [
    "empty_list = []\n",
    "float_list = [1., 3., 5., 4., 2.]\n",
    "int_list = [1, 2, 3, 4, 5, 6, 7, 8, 9, 10]\n",
    "mixed_list = [1, 2., 3, 4., 5]\n",
    "print(empty_list)\n",
    "print(int_list)\n",
    "print(mixed_list, float_list)"
   ]
  },
  {
   "cell_type": "code",
   "execution_count": 1,
   "metadata": {},
   "outputs": [
    {
     "ename": "NameError",
     "evalue": "name 'int_list' is not defined",
     "output_type": "error",
     "traceback": [
      "\u001b[0;31m---------------------------------------------------------------------------\u001b[0m",
      "\u001b[0;31mNameError\u001b[0m                                 Traceback (most recent call last)",
      "\u001b[0;32m<ipython-input-1-bb8178418b16>\u001b[0m in \u001b[0;36m<module>\u001b[0;34m()\u001b[0m\n\u001b[0;32m----> 1\u001b[0;31m \u001b[0msquaredlist\u001b[0m \u001b[0;34m=\u001b[0m \u001b[0;34m[\u001b[0m\u001b[0mi\u001b[0m\u001b[0;34m*\u001b[0m\u001b[0mi\u001b[0m \u001b[0;32mfor\u001b[0m \u001b[0mi\u001b[0m \u001b[0;32min\u001b[0m \u001b[0mint_list\u001b[0m\u001b[0;34m]\u001b[0m\u001b[0;34m\u001b[0m\u001b[0m\n\u001b[0m\u001b[1;32m      2\u001b[0m \u001b[0msquaredlist\u001b[0m\u001b[0;34m\u001b[0m\u001b[0m\n",
      "\u001b[0;31mNameError\u001b[0m: name 'int_list' is not defined"
     ]
    }
   ],
   "source": [
    "squaredlist = [i*i for i in int_list]\n",
    "squaredlist"
   ]
  },
  {
   "cell_type": "code",
   "execution_count": 2,
   "metadata": {
    "collapsed": true
   },
   "outputs": [],
   "source": [
    "int_list = [1, 2, 3, 4, 5, 6, 7, 8, 9, 10]"
   ]
  },
  {
   "cell_type": "code",
   "execution_count": 3,
   "metadata": {},
   "outputs": [
    {
     "data": {
      "text/plain": [
       "[1, 4, 9, 16, 25, 36, 49, 64, 81, 100]"
      ]
     },
     "execution_count": 3,
     "metadata": {},
     "output_type": "execute_result"
    }
   ],
   "source": [
    "squaredlist = [i*i for i in int_list]\n",
    "squaredlist"
   ]
  },
  {
   "cell_type": "code",
   "execution_count": 4,
   "metadata": {},
   "outputs": [
    {
     "data": {
      "text/plain": [
       "[1.0, 5.0]"
      ]
     },
     "execution_count": 4,
     "metadata": {},
     "output_type": "execute_result"
    }
   ],
   "source": [
    "float_list = [1., 3., 5., 4., 2.]\n",
    "float_list[:4:2] "
   ]
  },
  {
   "cell_type": "code",
   "execution_count": 5,
   "metadata": {},
   "outputs": [
    {
     "data": {
      "text/plain": [
       "[1.0, 5.0, 2.0]"
      ]
     },
     "execution_count": 5,
     "metadata": {},
     "output_type": "execute_result"
    }
   ],
   "source": [
    "float_list[: :2] "
   ]
  },
  {
   "cell_type": "code",
   "execution_count": 6,
   "metadata": {},
   "outputs": [
    {
     "name": "stdout",
     "output_type": "stream",
     "text": [
      "0 1.0\n",
      "1 3.0\n",
      "2 5.0\n",
      "3 4.0\n",
      "4 2.0\n"
     ]
    }
   ],
   "source": [
    "for i, ele in enumerate(float_list):\n",
    "    print(i,ele)"
   ]
  },
  {
   "cell_type": "code",
   "execution_count": 7,
   "metadata": {},
   "outputs": [
    {
     "data": {
      "text/plain": [
       "[(0, 1.0), (1, 3.0), (2, 5.0), (3, 4.0), (4, 2.0)]"
      ]
     },
     "execution_count": 7,
     "metadata": {},
     "output_type": "execute_result"
    }
   ],
   "source": [
    "list(enumerate(float_list))"
   ]
  },
  {
   "cell_type": "code",
   "execution_count": 8,
   "metadata": {},
   "outputs": [
    {
     "data": {
      "text/plain": [
       "[1.0, 3.0, 5.0, 4.0, 2.0, 0.333]"
      ]
     },
     "execution_count": 8,
     "metadata": {},
     "output_type": "execute_result"
    }
   ],
   "source": [
    "float_list + [.333]"
   ]
  },
  {
   "cell_type": "code",
   "execution_count": 9,
   "metadata": {
    "collapsed": true
   },
   "outputs": [],
   "source": [
    "float_list.append(.444)"
   ]
  },
  {
   "cell_type": "code",
   "execution_count": 10,
   "metadata": {},
   "outputs": [
    {
     "name": "stdout",
     "output_type": "stream",
     "text": [
      "[1.0, 3.0, 5.0, 4.0, 2.0, 0.444]\n"
     ]
    },
    {
     "data": {
      "text/plain": [
       "6"
      ]
     },
     "execution_count": 10,
     "metadata": {},
     "output_type": "execute_result"
    }
   ],
   "source": [
    "print(float_list)\n",
    "len(float_list)"
   ]
  },
  {
   "cell_type": "code",
   "execution_count": 11,
   "metadata": {
    "collapsed": true
   },
   "outputs": [],
   "source": [
    "float_list = float_list + [.333]"
   ]
  },
  {
   "cell_type": "code",
   "execution_count": 12,
   "metadata": {},
   "outputs": [
    {
     "name": "stdout",
     "output_type": "stream",
     "text": [
      "[1.0, 3.0, 5.0, 4.0, 2.0, 0.444, 0.333]\n"
     ]
    },
    {
     "data": {
      "text/plain": [
       "7"
      ]
     },
     "execution_count": 12,
     "metadata": {},
     "output_type": "execute_result"
    }
   ],
   "source": [
    "print(float_list)\n",
    "len(float_list)"
   ]
  },
  {
   "cell_type": "code",
   "execution_count": 13,
   "metadata": {},
   "outputs": [
    {
     "name": "stdout",
     "output_type": "stream",
     "text": [
      "[1.0, 3.0, 4.0, 2.0, 0.444, 0.333]\n"
     ]
    }
   ],
   "source": [
    "del(float_list[2])\n",
    "print(float_list)"
   ]
  },
  {
   "cell_type": "code",
   "execution_count": 14,
   "metadata": {},
   "outputs": [
    {
     "data": {
      "text/plain": [
       "[1, 4, 9, 16, 25, 36, 49, 64, 81, 100]"
      ]
     },
     "execution_count": 14,
     "metadata": {},
     "output_type": "execute_result"
    }
   ],
   "source": [
    "squaredlist = [i*i for i in int_list]\n",
    "squaredlist"
   ]
  },
  {
   "cell_type": "code",
   "execution_count": 15,
   "metadata": {},
   "outputs": [
    {
     "name": "stdout",
     "output_type": "stream",
     "text": [
      "[8, 32, 72, 128, 200]\n"
     ]
    }
   ],
   "source": [
    "comp_list1 = [2*i for i in squaredlist if i % 2 == 0]\n",
    "print(comp_list1)"
   ]
  },
  {
   "cell_type": "code",
   "execution_count": 16,
   "metadata": {},
   "outputs": [
    {
     "data": {
      "text/plain": [
       "[8, 32, 72, 128, 200]"
      ]
     },
     "execution_count": 16,
     "metadata": {},
     "output_type": "execute_result"
    }
   ],
   "source": [
    "comp_list2 = []\n",
    "for i in squaredlist:\n",
    "    if i % 2 == 0:\n",
    "        comp_list2.append(2*i)\n",
    "        \n",
    "comp_list2"
   ]
  },
  {
   "cell_type": "code",
   "execution_count": 31,
   "metadata": {},
   "outputs": [
    {
     "name": "stdout",
     "output_type": "stream",
     "text": [
      "{3, 5, 7, 9, 11, 13, 15, 17, 19, 21, 23, 25, 27, 29, 31, 33, 35, 37, 39, 41, 43, 45, 47, 49, 51, 53, 55, 57, 59, 61, 63, 65, 67, 69, 71, 73, 75, 77, 79, 81, 83, 85, 87, 89, 91, 93, 95, 97, 99}\n"
     ]
    }
   ],
   "source": [
    "prime_list = set([])\n",
    "for num in range(1,100):\n",
    "    for j in range(2,num):\n",
    "        if num%j == 0:\n",
    "            \n",
    "            break\n",
    "        else:\n",
    "            \n",
    "            prime_list.add(num)\n",
    "print (prime_list)"
   ]
  },
  {
   "cell_type": "code",
   "execution_count": 38,
   "metadata": {},
   "outputs": [
    {
     "data": {
      "text/plain": [
       "[1,\n",
       " 2,\n",
       " 3,\n",
       " 4,\n",
       " 5,\n",
       " 6,\n",
       " 7,\n",
       " 8,\n",
       " 9,\n",
       " 10,\n",
       " 11,\n",
       " 12,\n",
       " 13,\n",
       " 14,\n",
       " 15,\n",
       " 16,\n",
       " 17,\n",
       " 18,\n",
       " 19,\n",
       " 20,\n",
       " 21,\n",
       " 22,\n",
       " 23,\n",
       " 24,\n",
       " 25,\n",
       " 26,\n",
       " 27,\n",
       " 28,\n",
       " 29,\n",
       " 30,\n",
       " 31,\n",
       " 32,\n",
       " 33,\n",
       " 34,\n",
       " 35,\n",
       " 36,\n",
       " 37,\n",
       " 38,\n",
       " 39,\n",
       " 40,\n",
       " 41,\n",
       " 42,\n",
       " 43,\n",
       " 44,\n",
       " 45,\n",
       " 46,\n",
       " 47,\n",
       " 48,\n",
       " 49,\n",
       " 50,\n",
       " 51,\n",
       " 52,\n",
       " 53,\n",
       " 54,\n",
       " 55,\n",
       " 56,\n",
       " 57,\n",
       " 58,\n",
       " 59,\n",
       " 60,\n",
       " 61,\n",
       " 62,\n",
       " 63,\n",
       " 64,\n",
       " 65,\n",
       " 66,\n",
       " 67,\n",
       " 68,\n",
       " 69,\n",
       " 70,\n",
       " 71,\n",
       " 72,\n",
       " 73,\n",
       " 74,\n",
       " 75,\n",
       " 76,\n",
       " 77,\n",
       " 78,\n",
       " 79,\n",
       " 80,\n",
       " 81,\n",
       " 82,\n",
       " 83,\n",
       " 84,\n",
       " 85,\n",
       " 86,\n",
       " 87,\n",
       " 88,\n",
       " 89,\n",
       " 90,\n",
       " 91,\n",
       " 92,\n",
       " 93,\n",
       " 94,\n",
       " 95,\n",
       " 96,\n",
       " 97,\n",
       " 98,\n",
       " 99]"
      ]
     },
     "execution_count": 38,
     "metadata": {},
     "output_type": "execute_result"
    }
   ],
   "source": [
    "prime_list=[i for i in range(1,100) if i%1==0]\n",
    "prime_list"
   ]
  },
  {
   "cell_type": "code",
   "execution_count": 46,
   "metadata": {},
   "outputs": [
    {
     "data": {
      "text/plain": [
       "0"
      ]
     },
     "execution_count": 46,
     "metadata": {},
     "output_type": "execute_result"
    }
   ],
   "source": [
    "import numpy as np\n",
    "6% np.array([2,3,4,5]).all()"
   ]
  },
  {
   "cell_type": "code",
   "execution_count": 48,
   "metadata": {},
   "outputs": [
    {
     "data": {
      "text/plain": [
       "[]"
      ]
     },
     "execution_count": 48,
     "metadata": {},
     "output_type": "execute_result"
    }
   ],
   "source": [
    "import numpy as np\n",
    "prime_list=[i for i in range(1,100) if  i % np.array([2,3,4,5]).all()]\n",
    "prime_list"
   ]
  },
  {
   "cell_type": "code",
   "execution_count": 49,
   "metadata": {},
   "outputs": [
    {
     "data": {
      "text/plain": [
       "array([0, 1, 2])"
      ]
     },
     "execution_count": 49,
     "metadata": {},
     "output_type": "execute_result"
    }
   ],
   "source": [
    "np.arange(3)"
   ]
  },
  {
   "cell_type": "code",
   "execution_count": 50,
   "metadata": {},
   "outputs": [
    {
     "data": {
      "text/plain": [
       "array([ 2,  3,  4,  5,  6,  7,  8,  9, 10, 11, 12])"
      ]
     },
     "execution_count": 50,
     "metadata": {},
     "output_type": "execute_result"
    }
   ],
   "source": [
    "np.arange(2,13)"
   ]
  },
  {
   "cell_type": "code",
   "execution_count": 51,
   "metadata": {},
   "outputs": [
    {
     "data": {
      "text/plain": [
       "[]"
      ]
     },
     "execution_count": 51,
     "metadata": {},
     "output_type": "execute_result"
    }
   ],
   "source": [
    "import numpy as np\n",
    "prime_list=[i for i in range(1,10) if  i % np.arange(2,i).all()]\n",
    "prime_list"
   ]
  },
  {
   "cell_type": "code",
   "execution_count": 52,
   "metadata": {},
   "outputs": [
    {
     "data": {
      "text/plain": [
       "array([1, 0, 1, 4, 3, 2, 1])"
      ]
     },
     "execution_count": 52,
     "metadata": {},
     "output_type": "execute_result"
    }
   ],
   "source": [
    "9 % np.arange(2,9)"
   ]
  },
  {
   "cell_type": "code",
   "execution_count": 53,
   "metadata": {},
   "outputs": [
    {
     "data": {
      "text/plain": [
       "0"
      ]
     },
     "execution_count": 53,
     "metadata": {},
     "output_type": "execute_result"
    }
   ],
   "source": [
    "9 % np.arange(2,9).all()"
   ]
  },
  {
   "cell_type": "code",
   "execution_count": 55,
   "metadata": {},
   "outputs": [
    {
     "data": {
      "text/plain": [
       "[4, 6, 8, 9]"
      ]
     },
     "execution_count": 55,
     "metadata": {},
     "output_type": "execute_result"
    }
   ],
   "source": [
    "import numpy as np\n",
    "prime_list=[i for i in range(1,10) if not (i % np.arange(2,i)).all()]\n",
    "prime_list"
   ]
  },
  {
   "cell_type": "code",
   "execution_count": 56,
   "metadata": {},
   "outputs": [
    {
     "data": {
      "text/plain": [
       "[1, 2, 3, 5, 7]"
      ]
     },
     "execution_count": 56,
     "metadata": {},
     "output_type": "execute_result"
    }
   ],
   "source": [
    "import numpy as np\n",
    "prime_list=[i for i in range(1,10) if (i % np.arange(2,i)).all()]\n",
    "prime_list"
   ]
  },
  {
   "cell_type": "code",
   "execution_count": 58,
   "metadata": {},
   "outputs": [
    {
     "data": {
      "text/plain": [
       "[2,\n",
       " 3,\n",
       " 5,\n",
       " 7,\n",
       " 11,\n",
       " 13,\n",
       " 17,\n",
       " 19,\n",
       " 23,\n",
       " 29,\n",
       " 31,\n",
       " 37,\n",
       " 41,\n",
       " 43,\n",
       " 47,\n",
       " 53,\n",
       " 59,\n",
       " 61,\n",
       " 67,\n",
       " 71,\n",
       " 73,\n",
       " 79,\n",
       " 83,\n",
       " 89,\n",
       " 97]"
      ]
     },
     "execution_count": 58,
     "metadata": {},
     "output_type": "execute_result"
    }
   ],
   "source": [
    "import numpy as np\n",
    "prime_list=[i for i in range(2,100) if (i % np.arange(2,i)).all()]\n",
    "prime_list"
   ]
  },
  {
   "cell_type": "code",
   "execution_count": 60,
   "metadata": {},
   "outputs": [
    {
     "data": {
      "text/plain": [
       "[2,\n",
       " 3,\n",
       " 5,\n",
       " 7,\n",
       " 11,\n",
       " 13,\n",
       " 17,\n",
       " 19,\n",
       " 23,\n",
       " 29,\n",
       " 31,\n",
       " 37,\n",
       " 41,\n",
       " 43,\n",
       " 47,\n",
       " 53,\n",
       " 59,\n",
       " 61,\n",
       " 67,\n",
       " 71,\n",
       " 73,\n",
       " 79,\n",
       " 83,\n",
       " 89,\n",
       " 97]"
      ]
     },
     "execution_count": 60,
     "metadata": {},
     "output_type": "execute_result"
    }
   ],
   "source": [
    "prime_list=[]\n",
    "for i in range(2,100):\n",
    "    flag= True\n",
    "    for j in range(2,i):\n",
    "        if i%j ==0:\n",
    "            flag = False\n",
    "    if flag == True:\n",
    "        prime_list.append(i)\n",
    "prime_list"
   ]
  },
  {
   "cell_type": "code",
   "execution_count": 61,
   "metadata": {},
   "outputs": [
    {
     "name": "stdout",
     "output_type": "stream",
     "text": [
      "9\n"
     ]
    },
    {
     "data": {
      "text/plain": [
       "25"
      ]
     },
     "execution_count": 61,
     "metadata": {},
     "output_type": "execute_result"
    }
   ],
   "source": [
    "square = lambda x: x*x\n",
    "print(square(3))\n",
    "\n",
    "\n",
    "hypotenuse = lambda x, y: x*x + y*y\n",
    "\n",
    "## Same as\n",
    "\n",
    "# def hypotenuse(x, y):\n",
    "#     return(x*x + y*y)\n",
    "\n",
    "hypotenuse(3,4)"
   ]
  },
  {
   "cell_type": "code",
   "execution_count": 62,
   "metadata": {},
   "outputs": [
    {
     "data": {
      "text/plain": [
       "5"
      ]
     },
     "execution_count": 62,
     "metadata": {},
     "output_type": "execute_result"
    }
   ],
   "source": [
    "def isprime(n):\n",
    "    flag = True\n",
    "    for num in range(2,n):\n",
    "        if n%num == 0:\n",
    "            flag = False\n",
    "    if flag:\n",
    "        return n\n",
    "isprime(5)"
   ]
  },
  {
   "cell_type": "code",
   "execution_count": 63,
   "metadata": {
    "collapsed": true
   },
   "outputs": [],
   "source": [
    "isprime(100)"
   ]
  },
  {
   "cell_type": "code",
   "execution_count": 64,
   "metadata": {
    "collapsed": true
   },
   "outputs": [],
   "source": [
    "myprimes = [i for i in range(2,100) if isprime(i)]"
   ]
  },
  {
   "cell_type": "code",
   "execution_count": 65,
   "metadata": {},
   "outputs": [
    {
     "data": {
      "text/plain": [
       "[2,\n",
       " 3,\n",
       " 5,\n",
       " 7,\n",
       " 11,\n",
       " 13,\n",
       " 17,\n",
       " 19,\n",
       " 23,\n",
       " 29,\n",
       " 31,\n",
       " 37,\n",
       " 41,\n",
       " 43,\n",
       " 47,\n",
       " 53,\n",
       " 59,\n",
       " 61,\n",
       " 67,\n",
       " 71,\n",
       " 73,\n",
       " 79,\n",
       " 83,\n",
       " 89,\n",
       " 97]"
      ]
     },
     "execution_count": 65,
     "metadata": {},
     "output_type": "execute_result"
    }
   ],
   "source": [
    "myprimes"
   ]
  },
  {
   "cell_type": "code",
   "execution_count": 66,
   "metadata": {},
   "outputs": [
    {
     "data": {
      "text/plain": [
       "{2: 4,\n",
       " 3: 9,\n",
       " 5: 25,\n",
       " 7: 49,\n",
       " 11: 121,\n",
       " 13: 169,\n",
       " 17: 289,\n",
       " 19: 361,\n",
       " 23: 529,\n",
       " 29: 841,\n",
       " 31: 961,\n",
       " 37: 1369,\n",
       " 41: 1681,\n",
       " 43: 1849,\n",
       " 47: 2209,\n",
       " 53: 2809,\n",
       " 59: 3481,\n",
       " 61: 3721,\n",
       " 67: 4489,\n",
       " 71: 5041,\n",
       " 73: 5329,\n",
       " 79: 6241,\n",
       " 83: 6889,\n",
       " 89: 7921,\n",
       " 97: 9409}"
      ]
     },
     "execution_count": 66,
     "metadata": {},
     "output_type": "execute_result"
    }
   ],
   "source": [
    "ps_dict=dict()\n",
    "for i in myprimes:\n",
    "    ps_dict[i]= i**2\n",
    "    \n",
    "ps_dict"
   ]
  },
  {
   "cell_type": "code",
   "execution_count": 69,
   "metadata": {},
   "outputs": [
    {
     "name": "stdout",
     "output_type": "stream",
     "text": [
      "4\n",
      "[3 4]\n",
      "1\n",
      "2\n",
      "3\n",
      "4\n"
     ]
    }
   ],
   "source": [
    "print(len(my_array))\n",
    "print(my_array[2:4])\n",
    "for ele in my_array:\n",
    "    print(ele)"
   ]
  },
  {
   "cell_type": "code",
   "execution_count": 68,
   "metadata": {},
   "outputs": [
    {
     "data": {
      "text/plain": [
       "array([1, 2, 3, 4])"
      ]
     },
     "execution_count": 68,
     "metadata": {},
     "output_type": "execute_result"
    }
   ],
   "source": [
    "my_array = np.array([1, 2, 3, 4])\n",
    "my_array"
   ]
  },
  {
   "cell_type": "code",
   "execution_count": 70,
   "metadata": {},
   "outputs": [
    {
     "name": "stdout",
     "output_type": "stream",
     "text": [
      "2.5\n",
      "2.5\n"
     ]
    }
   ],
   "source": [
    "print(my_array.mean())\n",
    "print(np.mean(my_array))"
   ]
  },
  {
   "cell_type": "code",
   "execution_count": 71,
   "metadata": {},
   "outputs": [
    {
     "name": "stdout",
     "output_type": "stream",
     "text": [
      "The sample mean and standard devation are 0.020464 and 0.969983, respectively.\n"
     ]
    }
   ],
   "source": [
    "normal_array = np.random.randn(1000)\n",
    "print(\"The sample mean and standard devation are %f and %f, respectively.\" %(np.mean(normal_array), np.std(normal_array)))"
   ]
  },
  {
   "cell_type": "code",
   "execution_count": 72,
   "metadata": {},
   "outputs": [
    {
     "name": "stdout",
     "output_type": "stream",
     "text": [
      "The sample mean and standard devation are 0.071966 and 0.924305, respectively.\n"
     ]
    }
   ],
   "source": [
    "normal_array = np.random.randn(100)\n",
    "print(\"The sample mean and standard devation are %f and %f, respectively.\" %(np.mean(normal_array), np.std(normal_array)))"
   ]
  },
  {
   "cell_type": "code",
   "execution_count": 73,
   "metadata": {},
   "outputs": [
    {
     "data": {
      "text/plain": [
       "(5.5037593943973935, 6.4701347310207469)"
      ]
     },
     "execution_count": 73,
     "metadata": {},
     "output_type": "execute_result"
    }
   ],
   "source": [
    "normal_5_7 = 5 + 7*normal_array\n",
    "np.mean(normal_5_7), np.std(normal_5_7)"
   ]
  },
  {
   "cell_type": "code",
   "execution_count": 74,
   "metadata": {
    "scrolled": true
   },
   "outputs": [
    {
     "data": {
      "text/plain": [
       "array([ -1.38041255e+00,   1.06785727e+01,   3.22446630e+00,\n",
       "         7.09964799e+00,   1.36140822e+00,   8.26125548e-01,\n",
       "        -2.57292225e+00,   5.85215429e+00,   1.09091690e+01,\n",
       "         1.90626343e+01,   4.37388015e+00,  -1.89587164e+00,\n",
       "        -4.05423220e+00,  -3.95038302e+00,   3.23593754e+00,\n",
       "        -3.56960798e+00,   4.11072330e+00,   1.25128235e+01,\n",
       "         2.96400422e+00,  -4.82998425e+00,   1.17486258e+00,\n",
       "         1.82815124e+00,   1.54909682e+01,   1.05679546e+01,\n",
       "         9.51701213e+00,   1.04645937e+01,  -2.45295784e+00,\n",
       "         5.80722168e+00,  -6.00963220e+00,  -1.26044430e+00,\n",
       "         6.01318136e-01,   1.63137075e+00,   1.92931082e+01,\n",
       "         1.63231629e+01,   1.21929443e+01,  -5.73507008e-01,\n",
       "         1.94467832e+01,  -4.08641143e+00,   5.80920257e+00,\n",
       "         8.16651630e+00,   2.89280305e+00,   8.37199277e+00,\n",
       "         7.85995706e+00,   1.14087919e+01,   8.39475615e-01,\n",
       "         2.39341789e-01,   6.35213012e+00,   5.92479633e+00,\n",
       "         4.79150906e+00,   2.09833322e+01,  -4.75458390e+00,\n",
       "         8.34226566e+00,   4.67934469e+00,  -8.56248920e-01,\n",
       "         3.97204564e+00,   1.33443505e+01,   9.61040884e+00,\n",
       "         4.74373948e+00,   1.80666374e+01,   1.32320633e+01,\n",
       "         5.85052525e+00,  -1.12615079e+00,   1.90782452e+01,\n",
       "         8.01963759e+00,  -1.01921625e+00,   4.93472129e+00,\n",
       "        -1.23519018e+00,   1.17188569e+01,   6.47406030e+00,\n",
       "         3.76572434e+00,   6.55355200e+00,   4.27751225e+00,\n",
       "         1.46353531e+01,  -5.11970592e-01,   1.13266059e+01,\n",
       "         7.38734845e+00,  -5.11803679e+00,   2.82851720e+00,\n",
       "         1.03164277e-02,   6.94150569e+00,   7.17789286e+00,\n",
       "         3.77681518e+00,   9.67028172e+00,   1.03598755e+01,\n",
       "         2.23509211e+00,   8.30396432e+00,   1.29399609e+01,\n",
       "        -1.13601313e+00,   7.19111392e+00,   2.07252862e+00,\n",
       "         2.09065688e+00,   7.10966882e+00,   1.11525278e+01,\n",
       "        -3.77406805e+00,   1.41746278e+00,   2.37611381e+00,\n",
       "         8.02987787e+00,   2.25053593e+01,   7.87900622e-01,\n",
       "         3.36250680e+00])"
      ]
     },
     "execution_count": 74,
     "metadata": {},
     "output_type": "execute_result"
    }
   ],
   "source": [
    "normal_5_7"
   ]
  },
  {
   "cell_type": "code",
   "execution_count": 81,
   "metadata": {},
   "outputs": [],
   "source": [
    "with open(\"hamlet.txt\",\"r\") as f:\n",
    "    hamlettext = f.read()\n",
    "    "
   ]
  },
  {
   "cell_type": "code",
   "execution_count": 84,
   "metadata": {},
   "outputs": [
    {
     "name": "stdout",
     "output_type": "stream",
     "text": [
      "﻿XXXX\n",
      "HAML\n"
     ]
    }
   ],
   "source": [
    "print (hamlettext[:10])"
   ]
  },
  {
   "cell_type": "code",
   "execution_count": 86,
   "metadata": {},
   "outputs": [
    {
     "name": "stdout",
     "output_type": "stream",
     "text": [
      "<class 'list'>\n",
      "['\\ufeffXXXX', 'HAMLET,', 'PRINCE', 'OF', 'DENMARK', 'by', 'William', 'Shakespeare', 'PERSONS', 'REPRESENTED.']\n",
      "There are 31659 total words in Hamlet.\n"
     ]
    }
   ],
   "source": [
    "# your code here\n",
    "hamletwords = hamlettext.split()\n",
    "print(type(hamletwords))\n",
    "print(hamletwords[0:10])\n",
    "print(\"There are %d total words in Hamlet.\" %len(hamletwords))"
   ]
  },
  {
   "cell_type": "code",
   "execution_count": 88,
   "metadata": {},
   "outputs": [
    {
     "data": {
      "text/plain": [
       "95"
      ]
     },
     "execution_count": 88,
     "metadata": {},
     "output_type": "execute_result"
    }
   ],
   "source": [
    "hamletwords_lc = [word.lower() for word in hamletwords]\n",
    "hamletwords_lc.count(\"thou\")\n"
   ]
  },
  {
   "cell_type": "code",
   "execution_count": 90,
   "metadata": {},
   "outputs": [
    {
     "name": "stdout",
     "output_type": "stream",
     "text": [
      "7456 31659\n"
     ]
    }
   ],
   "source": [
    "\n",
    "# your code here\n",
    "uniquewords_lc = set(hamletwords_lc)\n",
    "\n",
    "print(len(uniquewords_lc), len(hamletwords_lc))"
   ]
  },
  {
   "cell_type": "code",
   "execution_count": 92,
   "metadata": {},
   "outputs": [],
   "source": [
    "worddict={}\n",
    "for item in uniquewords_lc:\n",
    "    worddict[item] = hamletwords_lc.count(item)\n"
   ]
  },
  {
   "cell_type": "code",
   "execution_count": 95,
   "metadata": {},
   "outputs": [
    {
     "name": "stdout",
     "output_type": "stream",
     "text": [
      "[('&c,', 1), (\"&c.'\", 1), ('&c.]', 4), (\"''tis\", 1), (\"'a\", 3), (\"'adieu,\", 1), (\"'alone.'\", 1), (\"'and\", 1), (\"'as\", 1), (\"'beautified'\", 1), (\"'choose\", 1), (\"'closes\", 1), (\"'doubt\", 1), (\"'down\", 1), (\"'em?\", 2), (\"'for,\", 1), (\"'fore\", 1), (\"'friend\", 1), (\"'friend,'\", 1), (\"'gainst\", 5), (\"'gentleman'--\", 1), (\"'gins\", 1), (\"'good\", 2), (\"'havior\", 1), (\"'horatio,\", 1), (\"'i\", 2), (\"'if\", 1), (\"'in\", 1), (\"'it\", 1), (\"'laertes\", 1), (\"'lord\", 1), (\"'man\", 1), (\"'mobled\", 1), (\"'not\", 1), (\"'now\", 1), (\"'noyance;\", 1), (\"'o\", 1), (\"'one\", 1), (\"'s\", 1), (\"'sblood,\", 2), (\"'should'\", 1), (\"'swounds,\", 2), (\"'t\", 2), (\"'the\", 3), (\"'there\", 1), (\"'thine\", 1), (\"'this\", 2), (\"'thus\", 1), (\"'tis\", 70), (\"'tis,\", 1), (\"'to\", 1), (\"'twas\", 5), (\"'tween\", 1), (\"'twere\", 9), (\"'twere,\", 2), (\"'twere--i\", 1), (\"'twill\", 3), (\"'twixt\", 2), (\"'twould\", 1), (\"'we\", 1), (\"'well,\", 1), (\"'while\", 1), (\"'would'\", 1), ('--leave', 1), ('--my', 1), ('1', 36), ('2', 12), ('[a', 4), ('[advancing.]', 1), ('[aside.]', 9), ('[behind.]', 2), ('[beneath.]', 4), ('[breaking', 1), ('[danish', 1), ('[dies.]', 3), ('[digs', 1), ('[draws', 1), ('[draws.]', 1), ('[enter', 61), ('[exeunt', 22), ('[exeunt,', 1), ('[exeunt.]', 13), ('[exit', 19), ('[exit.]', 19), ('[falls', 1), ('[flourish', 1), ('[francisco', 1), ('[ghost', 2), ('[gives', 1), ('[grappling', 1), ('[hamlet', 1), ('[king', 1), ('[laertes', 2), ('[laying', 1), ('[leaps', 2), ('[lying', 1), ('[makes', 1), ('[march', 2), ('[pointing', 1), ('[points', 1), ('[polonius', 1), ('[pours', 1), ('[re-enter', 6), ('[reads.]', 4), (\"[reads]'high\", 1), ('[retires', 1), ('[retiring', 1), ('[scattering', 1), ('[sings.]', 12), ('[sleeps.]', 1), ('[stabs', 1), ('[takes', 1), ('[the', 5), ('[they', 5), ('[throws', 3), ('[to', 10), ('[trumpets', 2), ('[within.]', 6), ('[within]', 1), ('[writing.]', 1), ('a', 527), ('a-cursing', 1), ('a-down,', 1), (\"a-down-a.'\", 1), ('a-foot,', 1), ('a-making,--', 1), ('a-piece', 1), ('a-work;', 1), ('abate', 1), ('abatements', 1), ('abhorred', 1), ('ability', 1), ('able', 1), ('aboard,', 2), ('aboard;', 1), ('abominably.', 1), ('about', 15), ('about,', 1), ('about:', 1), ('above', 2), ('above,', 1), ('above;', 1), ('abridgment', 1), ('abroad;', 1), ('absent', 1), ('absolute', 2), ('abstinence:', 1), ('abstracts', 1), ('absurd', 1), ('absurd;', 1), (\"abus'd;\", 1), ('abuse,', 1), ('abuses', 1), ('accent', 2), ('accepts', 1), ('access', 1), ('accident,', 1), ('accident.', 2), ('accidental', 1), ('accidents;', 1), ('accord', 1), ('according', 2), ('account', 1), ('accounted', 1), ('accurst!', 1), ('accuse', 1), ('ache', 1), ('achievements,', 1), ('acquaint', 1), ('acquire', 1), ('acquittance', 1), ('acres', 1), ('across?', 1), ('act', 12), ('act,', 4), ('act.', 2), ('act:', 1), ('acted;', 1), ('acting', 1), ('action', 7), ('action.', 1), ('action.--soft', 1), ('action;', 1), ('actions', 2), ('actively', 1), ('actor', 2), ('actor.', 1), ('actors', 2), ('acts', 1), ('acts;', 1), ('adam', 1), (\"adam's\", 1), ('adders', 1), ('addicted', 1), ('addition', 1), ('addition,', 1), ('addition;', 1), ('address', 1), ('adheres.', 1), ('adieu!', 2), ('adieu!--', 1), ('adieu,', 1), ('adieu.', 1), (\"adjoin'd;\", 1), ('admirable!', 1), ('admiration', 1), ('admiration.', 1), ('admiration?', 1), ('admit', 2), ('admittance', 1), ('adoption', 1), ('adulterate', 1), (\"advanc'd\", 1), ('advancement', 1), ('advancement.', 1), ('advances.]', 1), ('advantage,', 1), ('adventurous', 1), ('advice,', 2), ('advice;', 1), ('advise', 1), (\"aeneas'\", 1), ('aery', 1), ('afar', 1), ('afeard', 1), ('affair', 2), ('affair.', 1), ('affair:', 1), ('affairs', 1), ('affectation;', 1), ('affection', 1), ('affection!', 1), ('affection,', 2), ('affections', 1), ('afflict', 1), ('affliction', 2), ('affliction,', 1), ('afflicts', 1), ('affrighted!', 1), ('affront', 1), ('afraid', 1), ('after', 10), ('after,', 2), ('after.', 1), ('after.--to', 1), ('afternoon,', 1), ('afterwards,', 1), ('again', 9), ('again!', 4), ('again,', 7), ('again.', 4), ('again.--what', 1), ('again:', 2), ('again;', 2), (\"again;--i'll\", 1), ('again?', 2), ('against', 22), ('against,', 1), ('age', 7), ('age,', 2), ('ago,', 1), ('agreeing;', 1), ('ah', 1), ('ah,', 4), ('aid:', 1), ('aim', 1), (\"aim'd\", 1), ('air', 4), ('air,', 5), ('air.', 2), ('air.--o,', 1), ('air;', 1), ('airs', 1), ('airy', 1), ('alack,', 3), ('alarm', 1), ('alarm,', 1), ('alas!', 1), ('alas,', 10), ('alexander', 5), ('all', 95), (\"all's\", 2), ('all,', 7), ('all,--', 2), ('all,--to', 1), ('all.', 6), ('all.--my', 1), ('all:', 1), ('all:--i', 1), ('all;', 4), ('allegiance!', 1), ('alleys', 1), (\"allow'd.\", 1), ('allow.', 1), ('allowance', 1), ('allowance,', 1), ('allowed', 1), ('almost', 9), ('alone', 6), ('alone.', 2), ('alone;', 1), ('along', 2), ('along:--or', 1), ('aloof', 1), ('aloof;', 1), ('already', 2), ('already,', 1), ('already.', 2), ('already;', 1), ('also', 1), ('altitude', 1), ('altogether.', 1), ('always', 1), ('am', 52), ('am,', 2), ('am.', 1), (\"amaz'd\", 1), ('amaze,', 1), ('amazement', 2), ('ambassador', 1), ('ambassador.', 1), ('ambassadors', 2), ('ambassadors,', 1), ('ambassadors.', 1), ('ambassadors;', 1), ('amber', 1), ('ambiguous', 1), ('ambition', 4), ('ambition,', 1), ('ambition;', 1), ('ambitious', 2), ('ambitious;', 1), ('amble,', 1), ('amen!', 1), ('amiss.', 1), ('amiss:', 1), ('amities;', 1), ('among', 1), ('an', 55), (\"an't\", 1), (\"anchor's\", 1), ('ancient', 1), ('and', 943), (\"and'\", 1), ('and,', 28), ('and,--would', 1), ('angel', 3), ('angel!', 1), ('angels', 2), ('angels!', 1), ('anger.', 1), ('angle', 1), ('angry', 1), ('animals!', 1), ('ankle;', 1), ('annexment,', 1), ('annual', 1), ('anoint', 1), ('anon', 4), ('anon,', 1), ('anon;', 1), ('another', 10), (\"another's\", 1), ('another.', 1), ('another:', 2), ('another?', 1), ('answer', 8), (\"answer'd?\", 1), ('answer,', 3), ('answer.', 2), ('answer;', 1), ('answerest', 1), ('antic', 1), ('anticipation', 1), ('antique', 2), ('antiquity', 1), ('any', 12), ('anything', 3), ('anything,', 1), ('anything--but', 1), ('apart', 1), ('apart,', 1), ('ape,', 2), (\"apoplex'd;\", 1), ('appal', 1), ('apparel', 1), ('apparition', 2), ('appear', 2), (\"appear'd\", 3), ('appear.', 1), ('appears', 2), ('appears:--but', 1), ('appetite', 1), ('applaud', 1), ('appliance', 1), ('appointment', 1), ('apprehension,', 2), ('approve', 2), ('appurtenance', 1), ('apt,', 1), ('apt;', 1), ('aptly', 1), ('ardour', 1), ('are', 126), ('are!', 1), ('are,', 1), ('are.', 2), ('argal,', 3), ('argues', 1), ('argument', 2), ('argument,', 1), ('argument?', 1), ('aright', 1), ('arithmetic', 1), ('arm', 1), (\"arm'd,\", 2), ('arm,', 2), ('arm;', 1), ('arm?', 1), ('armed', 2), ('armed.]', 1), ('armed;', 1), ('armour', 2), ('armour,', 1), ('arms', 3), ('arms!', 1), ('arms,', 1), ('arms.', 1), ('arms:', 1), ('arms;', 1), ('arms?', 1), ('army,', 1), ('arraign', 1), ('arrant', 2), ('arras', 3), ('arras.]', 2), ('arrest,--o,', 1), ('arrests', 1), (\"arriv'd,\", 1), ('arrow', 1), ('arrows', 1), ('arrows,', 1), ('art', 14), ('art,', 1), ('art.', 2), ('artery', 1), ('article', 1), ('article,', 1), ('articles', 1), ('artless', 1), ('as', 216), (\"as's\", 1), ('as,', 2), ('ashamed', 1), ('aside!--here', 1), ('ask', 2), ('asked', 1), ('asking', 1), ('asking?', 1), ('aslant', 1), ('asleep,', 1), ('asleep;', 1), ('aspect,', 1), ('ass', 3), ('ass,--', 1), ('assail', 1), ('assault.', 1), ('assay', 2), (\"assay'd:\", 1), ('assay:', 1), ('assays', 1), ('assigns,', 2), ('assistant', 1), ('assistant,', 1), ('associates', 1), ('assume', 4), (\"assur'd\", 1), (\"assur'd,\", 1), ('assurance', 2), ('assure', 1), ('asunder.', 1), ('at', 86), ('at--closes', 1), ('attend', 1), ('attendant.]', 1), ('attendants', 2), ('attendants.', 1), ('attendants.]', 4), ('attendants].', 1), ('attended.', 1), ('attends', 1), ('attent', 1), ('attractive.', 1), ('attribute.', 1), ('audience', 3), ('audience,', 1), ('audience.', 1), ('audit', 1), ('aught', 5), ('aught,', 2), ('aught,--', 1), ('aught.', 1), ('aught:', 1), ('augury:', 1), ('aunt-mother', 1), ('auspicious', 1), ('author', 2), ('authorities.', 1), ('avoid', 2), ('avoid,', 1), ('avouch', 1), ('awake', 1), ('awake,', 1), ('away', 10), ('away!', 5), ('away!--go', 1), ('away,', 3), ('away.', 4), ('away.--', 1), ('away?', 1), ('awe', 2), ('awhile', 3), ('awhile,', 6), ('awhile.--', 1), ('awhile;', 2), ('awry,', 1), ('axe', 1), ('axe,', 1), ('ay,', 35), ('aye;', 1), (\"b'\", 4), ('babe!', 1), ('baby', 1), ('baby;', 1), ('back', 6), ('back:', 1), ('back?', 1), ('backed', 1), ('backward.', 1), ('bad', 5), ('bad,', 1), ('bade', 1), ('bait', 1), (\"bak'd\", 2), (\"baker's\", 1), ('ban', 1), ('bands.', 1), ('bank', 1), ('baptista:', 1), ('bar', 1), ('barbary', 2), (\"barber's,\", 1), ('bare', 1), (\"barefac'd\", 1), ('barefoot', 1), ('bark', 1), (\"bark'd\", 1), (\"barr'd\", 1), ('barren', 1), ('base', 3), ('base,', 1), ('base;', 1), ('baseness', 1), ('baser', 2), ('basket', 2), ('bastard;', 1), ('bat', 1), ('bat,', 1), ('bated,', 1), ('battalions!', 1), ('batten', 1), ('battery?', 1), ('battlements', 1), ('bawd', 1), ('bawdry,', 1), ('bawds,', 1), ('bawdy', 1), ('be', 201), ('be,', 9), ('be,--that', 1), ('be.', 3), ('be.--horatio,', 1), ('be.--sleeping', 1), ('be:', 1), (\"be:'\", 1), ('be;', 1), ('beam.', 1), ('bear', 14), (\"bear't\", 1), ('bear,', 1), ('beard', 5), (\"beard.--pr'ythee\", 1), ('beards;', 1), ('bearers', 2), ('bearing', 1), ('bears', 2), ('beast', 2), ('beast,', 2), ('beast,--', 1), ('beast:', 1), ('beasts,', 1), ('beasts:', 1), ('beaten', 1), ('beating', 2), ('beating;', 1), ('beats', 1), ('beauteous', 1), ('beautied', 1), ('beauties', 1), ('beautified', 1), ('beauty', 4), ('beauty,', 1), ('beauty.', 1), ('beaver', 1), ('became', 1), ('because', 1), ('beck', 1), ('beckons', 2), ('beckons.]', 1), ('becomes', 3), ('bed', 2), ('bed,', 3), ('bed-rid,', 1), ('bed.', 3), ('bed;', 3), ('bedded', 1), ('beds;', 1), ('bedtime,', 1), ('been', 27), ('been,', 1), ('beer-barrel?', 1), ('beetles', 1), (\"befall'n?\", 1), ('befitted', 1), ('before', 17), ('before,', 3), ('before.', 1), ('beg', 5), ('beg,', 2), ('beget', 1), ('beggar', 2), (\"beggar'd,\", 1), ('beggar.', 1), ('beggars', 1), (\"beggars'\", 1), ('begin', 1), ('begin,', 2), ('begin.', 1), ('begin:--', 1), ('begins', 1), ('begins,', 1), ('beguile', 1), ('beguile.', 1), ('begun', 2), ('begun,--', 1), ('begun.', 1), (\"behav'd,\", 1), ('behaviour', 1), ('behaviour.', 1), ('behind', 5), ('behind,', 1), ('behind.--', 1), ('behold!', 1), ('behooves', 1), ('behove,', 1), ('being', 11), ('being:', 1), ('belief', 1), (\"believ'd\", 1), ('believe', 18), ('believe,', 1), ('belike', 2), ('bell', 2), ('bellow', 1), ('bellowed', 1), ('bells', 1), (\"belov'd,\", 1), ('below', 2), ('below:', 1), ('bend', 3), ('bended', 1), ('beneath.', 1), ('benefit', 1), ('benetted', 1), ('bent', 1), ('bent,', 1), ('bent.--i', 1), ('ber.', 21), ('berattle', 1), ('bernardo', 2), ('bernardo!', 1), ('bernardo,', 2), ('bernardo.]', 3), ('bernardo?', 1), ('beseech', 7), (\"beseech'd\", 1), ('beshrew', 1), ('besides,', 1), ('besmirch', 1), ('bespeak:', 1), ('best', 9), ('best,', 2), ('bestial', 1), ('bestow', 4), (\"bestow'd,\", 1), ('bestowed?', 1), ('bet', 1), ('beteem', 1), ('bethought:', 1), ('betimes?', 1), ('betoken', 1), ('better', 11), (\"better'd,\", 1), ('better,', 1), ('better,--their', 1), ('better:', 2), ('between', 15), ('bevy', 1), ('beware', 2), ('bewept', 1), ('beyond', 2), ('bias,', 1), ('bid', 6), ('bier', 1), ('bilboes.', 1), ('bird', 1), ('bird,', 1), ('birds', 1), ('birth', 1), ('birth,', 1), ('birth,--wherein', 1), ('birth:', 1), ('bisson', 1), ('bites', 1), ('bitter', 2), ('bitter;', 1), ('black', 5), ('black,', 3), ('blackest', 1), ('blame', 1), ('blame.', 2), ('blank', 1), ('blank,', 1), ('blanket,', 1), ('blanks', 1), ('blast', 2), ('blasted', 1), ('blasted,', 1), ('blasting', 1), ('blastments', 1), ('blasts', 1), ('blaze,', 1), ('blazes,', 1), ('blazon', 1), ('bleed', 1), ('bleed.', 1), ('bleeding', 1), ('blench,', 1), (\"bles'd\", 1), (\"bles'd,\", 1), ('bless', 3), ('blessing', 4), ('blessing,', 1), ('blister', 1), ('bloat', 1), ('blood', 8), ('blood,', 4), ('blood,--', 1), ('blood.', 2), ('blood.--list,', 1), ('blood:', 1), ('blood;', 2), ('bloodily', 1), ('bloody', 5), ('bloody,', 2), ('blossoms', 1), ('blow', 2), ('blow,', 1), ('blown', 1), ('blown,', 1), ('blows', 2), ('blue', 1), ('blunted', 1), ('blurs', 1), ('blush', 1), ('blush?', 1), ('board', 1), ('boarded', 1), ('bodes', 1), ('bodies', 3), ('bodies,', 1), ('bodies.--such', 1), ('bodies;', 1), ('bodikin,', 1), ('bodiless', 1), ('bodkin?', 1), ('body', 11), ('body.', 4), ('body;', 1), ('body?', 1), ('boisterous', 1), ('bold', 1), ('bold,', 2), ('bonds', 1), ('bones', 1), ('bones,', 3), ('bonnet', 1), ('bonny', 1), ('book', 1), ('book;', 1), ('books,', 1), ('bore', 4), ('born', 1), ('born,--he', 1), ('born,--it', 1), ('borne', 3), (\"borrow'd\", 1), ('borrower', 1), ('borrowing', 1), ('bosom', 2), ('bosom,', 1), ('bosom:', 1), ('botch', 1), ('both', 22), ('both,', 2), ('both.', 2), ('both;', 1), ('both?', 1), ('boughs', 1), ('bought', 1), ('bound', 2), ('bound,', 3), ('bounded', 1), ('bounds.', 1), ('bounteous;', 1), ('bounty.', 1), ('bourn', 1), ('bout', 1), ('bouts', 1), ('bow', 2), ('bow,', 1), ('bowl', 1), ('box;', 1), ('boy!', 2), ('boy,', 1), ('boys', 1), ('brain', 2), ('brain!', 1), ('brain,', 2), ('brain:', 1), ('brainish', 1), ('brains', 2), ('brains!', 1), ('brains,', 1), ('brains.', 1), ('branches;', 1), ('brands', 1), ('brave', 2), ('brave,', 1), ('bravery', 1), ('bray', 1), (\"braz'd\", 1), ('brazen', 1), ('breach', 1), ('bread;', 1), ('breadth', 1), ('break', 7), ('break.', 1), ('breaking', 1), ('breaks', 1), ('breaks,', 1), ('breast:', 1), ('breath', 4), ('breath,', 2), ('breath.--', 1), ('breath;', 1), ('breath?', 1), ('breathe', 3), ('breathe;', 1), ('breathes', 1), ('breathing', 2), ('breed', 1), ('breed.', 1), ('breeder', 1), ('breeding', 1), ('brevity', 1), ('bride-bed', 1), ('brief', 2), ('brief,', 2), ('brief:--your', 1), ('bring', 12), ('bringing', 1), ('brings', 1), ('broad', 2), ('broke.', 1), ('broke;', 1), ('broken', 1), ('brokers,--', 1), ('brooch', 1), ('brood;', 1), ('brook,', 1), ('brook.', 1), ('brothel,--or', 1), ('brother', 3), (\"brother's\", 7), ('brother,', 1), ('brother.', 4), ('brother;', 1), ('brothers', 1), ('brothers.', 1), ('brought', 5), ('brought,', 1), ('brow', 2), ('brow,', 1), ('brow;', 1), ('brows:', 1), ('bruit', 1), ('brute', 1), ('brutus', 1), ('bubbles', 1), ('budge;', 1), ('buffets', 1), ('bugs', 1), ('build', 1), ('builds', 2), ('built', 1), ('bulk', 1), ('bulk;', 1), ('bulwark', 1), ('bung-hole?', 1), ('burden!', 1), ('burial', 1), ('burial,--', 1), ('burial.', 3), ('buried', 5), ('buried,', 1), ('burn', 1), ('burn,', 1), ('burning', 2), ('burns,', 2), ('burnt', 1), ('burst', 3), ('business', 8), ('business,', 1), ('business.', 2), ('busy', 1), ('but', 228), ('but,', 30), ('button.', 1), ('buttons', 1), ('buy,', 1), ('buyer', 1), ('buys', 1), ('buzz!', 1), ('buzz,', 1), ('buzzers', 1), ('by', 111), (\"by'r\", 2), ('by-and-by', 1), ('by-and-by.', 1), ('by.', 1), ('by.--they', 1), ('cabin,', 1), ('caesar,', 1), ('caesar;', 1), (\"cain's\", 1), ('calamity', 1), ('calendar', 1), ('calf', 1), ('calf-skins', 1), ('call', 22), (\"call'd;--unhand\", 1), (\"call't\", 1), ('called', 1), ('calls', 4), ('calm', 2), ('calmly,', 1), ('calumnious', 1), ('calumny.', 1), ('calves', 1), ('came', 9), ('camel', 1), ('camel?', 1), ('can', 32), ('can:', 1), ('can;', 1), ('candied', 1), ('canker', 2), ('cannon', 4), ('cannon,', 1), ('cannoneer', 1), ('cannons', 1), ('cannot', 25), ('cannot,', 1), ('cannot.', 3), ('canon', 1), (\"canoniz'd\", 1), ('canopy,', 1), ('canst', 3), ('cap', 2), ('cap-a-pe,', 1), ('capability', 1), ('capable', 1), ('capable.--do', 1), ('capital', 2), ('capitol;', 1), ('capons', 1), ('caps,', 1), ('capt.', 7), ('captain,', 1), ('captain.', 1), ('captains', 1), ('carbuncles,', 1), ('card', 1), ('card,', 1), ('carefully', 1), ('careless', 1), ('carnal,', 1), ('carouses', 1), ('carp', 1), ('carpenter?', 2), ('carriage', 1), ('carriages,', 3), ('carriages:', 1), ('carriages?', 1), ('carried', 1), ('carries', 1), ('carrion,--have', 1), ('carry', 3), ('carrying,', 1), ('cart', 1), ('carters.', 1), ('carve', 1), ('case,', 1), ('cases,', 1), ('cast', 6), ('castle.', 15), ('casual', 1), ('cat', 1), ('cataplasm', 1), ('catch', 2), ('caught', 2), ('cause', 11), ('cause,', 4), ('cause:', 1), ('cause;', 1), ('cautel', 1), ('caution,--i', 1), ('caviare', 1), ('cease', 2), ('celebrated,', 1), ('celestial', 1), ('celestial,', 1), ('cell,', 1), ('cellarage,--', 1), ('censure', 3), ('censure,', 1), ('centre.', 1), ('cerements;', 1), ('ceremony', 2), ('ceremony:', 1), ('certain', 4), ('certain.', 1), ('certainty', 1), ('chalice', 1), ('challenger', 1), ('chamber', 1), ('chamber,', 2), ('chamber.', 1), ('chamberlain.', 1), (\"chameleon's\", 1), ('chance', 1), ('chance,', 1), ('chances', 2), ('change', 3), ('change;', 1), ('changeling', 1), ('changes,', 1), ('chanson', 1), ('chap-fallen?', 1), ('chapel.', 2), ('chapless,', 1), ('character.', 1), (\"character:--'naked!'--\", 1), ('charge', 4), ('charge,', 2), ('charge,--', 1), ('charge.', 1), ('chariest', 1), ('charitable', 1), ('charitable,', 1), ('charity,', 1), ('charm;', 1), ('chase.', 1), ('chaste', 3), ('chaunted', 1), ('checking', 1), ('cheek,', 1), ('cheek;', 1), ('cheer', 3), ('cheerfully', 2), ('cherub', 1), ('chide,', 1), ('chief', 3), ('chiefest', 1), ('chiefly', 1), ('child', 1), ('child.', 1), ('children', 1), ('children,', 1), ('children?', 1), ('choice', 5), ('choice,', 1), ('choler.', 2), ('choose', 4), ('chopine.', 1), ('chorus,', 1), ('chough;', 1), ('christian', 4), ('christian,', 1), ('christian.--come,', 1), ('christians,', 1), ('chronicles', 1), ('church.', 1), ('church;', 1), ('churches', 1), ('churchyard.', 1), ('churchyards', 1), ('churlish', 1), ('cicatrice', 1), (\"circumscrib'd\", 1), ('circumstance', 2), ('circumstance,', 2), ('circumstance.', 1), ('circumstance?', 1), ('circumstances', 1), ('circumvent', 1), ('city.', 1), ('city?', 1), ('clad,', 1), ('claim', 1), (\"clamb'ring\", 1), ('clamour', 1), ('clapped', 1), ('claudio:--he', 1), ('claudius,', 1), (\"claw'd\", 1), ('clay', 2), ('clay,', 1), ('clear', 1), ('clearly', 1), ('cleave', 1), ('cleft', 1), ('clemency,', 1), ('clepe', 1), ('cliff', 1), ('climature', 1), ('cloak,', 1), ('close', 1), ('close,', 1), ('close;', 1), ('closely', 1), ('closes', 2), ('closet', 2), ('closet:', 1), ('clothe', 1), ('clothes', 1), ('clothes,', 1), ('cloud', 1), ('clouds', 2), ('clouds,', 2), ('clout', 1), ('clouts.', 1), ('clown', 1), ('clown.', 45), ('clown.]', 1), ('clowns', 1), ('clowns,', 2), ('clutch,', 1), ('coach!--good', 1), ('coagulate', 1), ('cock', 3), ('cock,', 2), ('cock.', 1), ('cockle', 1), ('coil,', 1), ('coinage', 1), ('cold', 2), ('cold,', 2), ('cold.', 1), ('cold;', 1), ('coldly', 2), ('collateral', 1), ('colleagued', 1), ('collected', 1), ('collected,', 1), ('collection,', 1), ('collection;', 1), ('colour', 2), ('colour,', 1), ('colour:', 1), ('colour;', 1), (\"columbines:--there's\", 1), (\"com'st\", 1), ('combat;', 1), ('combated;', 1), ('combination', 1), ('combined', 1), ('come', 54), ('come!', 1), ('come,', 28), ('come.', 5), ('come.--another', 1), ('come:', 2), (\"come:--'the\", 1), ('come;', 7), ('come;--', 1), ('come?', 1), ('comedy,', 2), ('comes', 19), ('comes!', 1), ('comes.', 2), ('comes:', 1), ('comes;', 1), ('comest', 1), ('comfort', 1), ('coming', 5), ('coming.', 1), ('coming:', 1), ('comma', 1), ('command', 4), ('command,', 1), ('command,--', 1), ('command:', 1), ('command;', 2), ('command?', 1), ('commanded.', 1), ('commandment', 3), ('commandment:', 1), ('commands', 1), ('commencement', 1), ('commend', 4), ('commendable', 1), ('commended', 1), ('comment', 1), ('commerce', 1), ('commingled', 1), ('commission', 2), ('commission:', 1), ('commission;', 2), ('common', 5), ('common,--all', 1), ('common.', 1), ('commune', 1), ('commutual', 1), ('compact,', 1), ('companies', 1), ('companions', 1), ('company,', 1), ('compare', 1), ('compass;', 1), (\"compell'd,\", 1), ('compelled', 1), ('competent', 1), ('complete', 1), ('complexion', 1), ('complexion,', 1), ('complexion.', 1), ('comply', 2), (\"compos'd\", 1), ('compost', 1), ('compound', 1), ('compounded', 1), ('compulsatory,', 1), ('compulsive', 1), ('comrade.', 1), (\"conceal'd\", 1), ('conceit', 3), ('conceit.', 1), ('conceit?', 1), ('conceited', 1), ('conceive:--friend,', 1), ('conception', 1), ('concernancy,', 1), ('concernings', 1), ('concluded', 1), ('conclusions,', 1), ('condolement', 1), ('confederate', 1), ('conference.', 1), ('confess', 4), ('confess,', 1), ('confess.', 1), ('confession', 3), (\"confin'd\", 1), ('confine', 1), ('confine:', 1), ('confines,', 1), ('confound', 2), ('confront', 1), ('confusion,', 1), ('congregation', 1), ('conjectures', 1), (\"conjoin'd,\", 1), ('conjunctive', 1), ('conjuration', 1), ('conjure', 1), ('conjures', 1), ('conjuring', 1), ('conqueror:', 1), ('conquest', 1), ('conscience', 5), ('conscience!', 1), ('conscience.', 1), ('conscience;', 1), ('consent', 2), ('consent!', 1), ('consent:', 1), (\"consequence'--ay,\", 1), ('consequence,', 1), (\"consequence,'\", 1), ('consequence;', 1), ('consider', 2), (\"consider'd\", 1), ('considered:', 1), ('consonancy', 1), ('constant', 1), ('constantly.', 1), ('consummation', 1), ('contagion', 1), ('contagion,', 1), ('contagious', 1), ('containing', 1), ('contend', 1), ('content', 2), ('content.', 1), ('contents,', 1), ('continent', 2), ('continual', 1), ('contract,', 1), ('contracted', 1), ('contraction', 1), ('contrary', 1), ('contrive', 2), ('contriving,', 1), ('controversy:', 1), ('contumely,', 1), ('convenience', 1), ('conveniently.', 1), ('conversation', 1), ('converse,', 1), ('convert', 2), ('converted', 1), ('convey', 1), ('conveyance', 1), ('conveyances', 1), ('convocation', 1), ('convoy', 1), ('cool', 1), (\"cop'd\", 1), ('copied', 1), ('cor.', 1), ('core,', 1), ('cornelius,', 3), ('cornelius.]', 3), ('corner', 1), ('coronation;', 1), ('coronet', 1), ('corpse', 1), ('corrupted', 1), ('corruption', 1), ('corruption,', 2), ('corse', 2), ('corse,', 1), ('corses', 1), ('cost', 2), ('costly', 1), ('coted', 1), ('couch', 2), ('couched', 1), ('could', 30), ('could,', 2), ('counsel,', 1), ('counsel.--come,', 1), ('counsel;', 1), ('counsellor', 1), ('count', 3), ('countenance', 4), ('countenance,', 1), ('counter,', 1), ('counterfeit', 1), ('countries', 1), ('country', 1), (\"country's\", 1), ('country,', 1), ('country.', 1), ('countrymen.--', 1), ('couple', 1), ('couplets', 1), ('course', 4), ('course.', 1), ('courses', 1), ('court', 4), ('court,', 1), ('court?', 1), ('courteous', 1), ('courtesy', 1), ('courtier', 1), (\"courtier's,\", 1), ('courtier,', 2), ('courtier.', 6), ('courtiers:', 1), ('cousin', 3), ('cousin,', 1), (\"cov'nant,\", 1), ('coward,--i', 1), ('coward?', 1), ('cowards', 1), (\"cozen'd\", 1), (\"cozenage--is't\", 1), ('crab,', 1), ('crack', 1), ('cracked', 1), ('cracks', 1), ('craft', 1), ('craft.', 1), ('crafts', 1), ('crafty', 1), ('crash', 1), ('craven', 1), ('craves', 1), ('crawling', 1), ('creation', 1), ('creature', 2), ('creatures', 1), ('creatures,', 2), ('credent', 1), ('creep', 1), ('crescent,', 1), ('crew', 1), ('crew.', 1), ('crib', 1), ('cried', 2), ('cried,', 1), ('crier', 1), ('cries', 4), ('crimeful', 1), ('crimes', 3), ('croaking', 1), ('crocodile?', 1), ('crook', 1), ('cross', 1), ('crowflowers,', 1), ('crowing', 1), ('crown', 1), ('crown,', 4), ('crown.', 1), ('crowner', 1), ('crowns', 1), ('crows.]', 1), ('cruel,', 2), ('crust', 1), ('cry', 4), ('cry!', 1), ('cuckold', 1), ('cudgel', 1), ('cue', 1), ('cuffs', 1), ('cunning', 3), ('cunning.', 1), ('cunnings,--', 1), ('cup', 1), ('cup.', 1), ('cup;', 2), ('cups;', 1), ('curb', 2), ('curd,', 1), ('cure', 1), ('curiously', 1), ('curls;', 1), ('currents', 2), ('curse', 1), ('cursed', 4), ('custom', 7), ('custom,', 1), ('custom?', 1), ('customary', 1), ('cut', 2), ('cutpurse', 1), (\"cyclops'\", 1), ('dagger.', 1), ('daggers', 2), ('daily', 1), ('daintier', 1), ('daisies,', 1), ('daisy:--i', 1), ('dalliance', 1), ('dally;', 1), ('dallying.', 1), ('damn', 1), (\"damn'd\", 4), (\"damn'd,\", 1), ('damnable', 1), ('damnation:--to', 1), ('damned', 6), ('damon', 1), ('dane,', 2), ('dane.', 2), ('dane.--', 1), ('dane;', 1), ('danes', 1), ('danes.', 3), ('danger', 2), ('danger,', 1), ('danger.--', 1), ('danger:', 1), ('dangerous', 4), ('dangerous,', 1), ('danish', 4), ('danish:', 1), ('danskers', 1), (\"dar'd\", 1), (\"dar'st\", 1), ('dare', 5), ('dare,', 1), ('dark', 1), ('darkest', 1), ('daughter', 7), ('daughter,', 2), ('daughter,--have', 1), ('daughter.', 3), ('daughter.--my', 1), ('daughter:--yet', 1), ('daughter?', 1), ('daughters,', 1), ('dawning', 1), ('day', 12), ('day,', 5), ('day.', 1), ('day:', 1), ('day;', 1), ('day?', 1), ('days', 5), ('days.', 1), ('dead', 18), ('dead!', 1), ('dead!--nay,', 1), ('dead,', 6), ('dead.', 4), ('dead:', 1), ('dead;', 1), ('dead?', 1), ('deal', 1), ('dealt', 1), ('dear', 27), ('dear,', 1), ('dearest', 2), ('dearly', 1), ('dearly;', 1), ('dearth', 1), ('death', 15), ('death!', 1), ('death,', 11), ('death,--', 1), ('death-bed,', 1), ('death.', 6), ('death:', 1), ('death;', 2), ('deaths', 1), ('debate', 1), ('debatement', 1), ('debt:', 1), ('decayer', 1), ('deceived.', 2), (\"deck'd,\", 1), ('declension,', 1), ('decline', 1), ('declines', 1), ('declining', 1), ('deed', 7), ('deed!', 1), ('deed!--almost', 1), ('deed,', 1), ('deed;', 1), ('deeds', 1), ('deep', 4), ('deeply', 1), ('deer', 1), ('defeat', 2), ('defeated', 1), ('defeats', 1), ('defect,', 2), ('defective', 1), ('defence,', 1), ('defence?', 1), ('defend', 3), ('define', 1), ('definement', 1), ('defy', 1), ('deject', 1), ('dejected', 1), ('delay', 1), ('delay,', 1), ('delays', 1), ('deliberate', 1), ('delicate', 2), ('delight', 3), ('delights', 2), ('delights.', 1), (\"deliver'd,\", 1), ('deliver,', 1), ('deliver.', 1), ('delivered', 1), ('delve', 1), ('delver,--', 1), ('demand', 2), ('demanded', 1), ('demands', 1), ('demands,', 1), (\"demi-natur'd\", 1), ('demonstrated', 1), ('denied', 1), ('denies', 1), ('denmark', 9), (\"denmark's\", 3), ('denmark,', 3), ('denmark.', 5), ('denmark.--madam,', 1), ('denmark:', 2), ('denmark?', 2), ('denmark?--what,', 1), ('denote', 1), ('deny', 2), ('depart.', 1), ('departed', 1), ('depend', 1), ('depends', 1), (\"depriv'd\", 1), ('deprive', 1), ('desert,', 1), ('desert.', 1), ('deserve,', 1), ('deserved', 1), (\"design'd,\", 1), ('desire', 3), ('desire,', 1), ('desire.', 1), ('desire:', 1), ('desire;', 1), ('desires', 3), ('desires.', 1), ('desirous', 1), ('desk', 1), ('desperate', 6), ('desperation', 1), ('desperation,', 1), (\"despis'd\", 1), ('despite', 1), ('destroy!', 1), ('destroy:', 1), ('detecting,', 1), ('determination', 1), ('determine', 1), ('device,', 1), ('devices', 1), ('devil', 5), ('devil!', 1), ('devil,', 1), ('devil:', 1), (\"devis'd\", 1), ('devise', 1), (\"devotion's\", 1), ('devoutly', 1), ('dew', 2), ('dew!', 1), ('dews', 1), ('dexterity', 1), ('diadem', 2), ('diameter,', 1), (\"dicers'\", 1), ('diction', 1), ('did', 59), ('did,', 2), ('did.', 1), ('did;', 4), ('didest', 1), ('dido,', 1), ('didst', 4), ('die', 2), ('die,', 2), ('die,--as', 1), ('die,--to', 2), ('died', 2), ('died,', 1), ('died:--they', 1), ('dies', 2), ('dies.--i', 1), ('dies.]', 2), ('diet,', 1), ('diet:', 1), ('difference.', 1), (\"difference.--there's\", 1), ('differences,', 1), ('different,', 1), ('dig', 2), ('digested', 1), (\"digg'd:\", 1), ('dignity', 1), ('dignity:', 1), ('dilated', 1), ('dild', 1), ('diligence', 1), ('dip', 1), ('dipping', 1), ('dire', 1), ('direct', 4), ('directions', 1), ('directly', 2), ('dirge', 1), ('dirt.', 1), ('dirt?', 1), ('dirty', 1), ('disappointed,', 1), ('disasters', 1), ('disclaiming', 1), (\"disclos'd,\", 1), (\"disclos'd:\", 1), ('disclose', 1), ('discomfort', 1), ('discord', 1), ('discourse', 4), ('discourse,', 1), ('discourse?', 1), ('discovery,', 1), ('discretion', 2), ('discretion.', 2), ('disease,', 1), ('diseased:', 1), ('diseases', 1), ('dish:', 1), ('dishes,', 1), ('dishonour', 2), ('disjoint', 1), ('dislike', 1), ('dismal;', 2), ('dismantled', 1), ('dismay.', 1), ('dispatch', 1), (\"dispatch'd:\", 1), ('dispatch,', 1), ('disposition', 3), ('disposition,', 1), ('disposition.', 1), ('distance.]', 1), ('distant', 1), ('distemper', 1), ('distemper.', 1), ('distemper?', 1), ('distempered.', 1), (\"distill'd\", 1), ('distilment;', 1), ('distinguish,', 1), ('distract:', 1), ('distracted', 2), ('distracted,', 1), ('distraction', 1), ('distraction.', 1), ('distress,', 1), ('distrust', 1), ('distrust,', 1), ('ditchers,', 1), ('divide', 2), ('divided', 1), ('divine', 1), ('divinity', 2), ('divulging,', 1), ('dizzy', 1), ('do', 128), (\"do't\", 2), (\"do't,\", 3), (\"do't.\", 1), (\"do't.--dost\", 1), (\"do't:\", 1), (\"do't;--and\", 1), ('do,', 13), ('do,--that', 1), ('do:', 3), (\"do;'\", 1), ('do?', 3), ('doctor;', 1), ('document', 1), ('does', 25), ('does--what', 1), ('dog', 1), ('dog,', 1), ('dogs!', 1), ('doing', 1), ('dole,--', 1), ('dominions', 1), ('done', 6), ('done!', 1), ('done,', 8), ('done,--must', 1), ('done.', 2), ('done:', 1), ('done;', 1), ('done?', 2), (\"donn'd\", 1), (\"doom'd\", 1), ('doom,', 1), ('doomsday', 2), ('doomsday.', 1), ('door', 2), ('door,', 1), ('door.', 1), ('door.--o', 1), ('door.]', 1), ('doors', 3), ('dost', 13), ('dotes', 1), ('doth', 27), ('double', 6), ('doublet', 1), ('doubt', 9), ('doubt,', 1), ('doubtful', 1), ('doubtful;', 1), ('doubts', 1), ('douts', 1), ('dove!', 1), ('dove,', 1), ('down', 11), ('down!', 1), ('down,', 7), ('down,--', 1), ('down-gyved', 1), ('down.', 3), ('down:--he', 1), ('down;', 3), ('down?', 1), ('dowry,--', 1), ('dozen', 3), ('drab,', 1), ('drabbing:--you', 1), (\"dragg'd\", 1), ('dragging', 1), ('drains', 1), ('dram', 1), ('draughts', 1), ('draw', 9), ('draws', 2), ('dread', 5), ('dreaded', 1), ('dreadful', 3), ('dreadfully', 1), ('dream', 4), ('dream.', 1), ('dream:--ay,', 1), ('dreams', 1), ('dreams,', 1), ('dreams.', 1), ('dreamt', 1), ('dressed', 1), ('drift', 3), ('drift;', 1), ('drink', 6), ('drink!--i', 1), ('drink!--o', 1), ('drink,', 5), ('drink.', 1), ('drink.--hamlet,', 1), ('drinking,', 1), ('drinks', 2), ('drive', 2), ('driven', 1), ('drives;', 1), ('drooping.', 1), ('drop', 1), ('dropping', 1), ('droppings', 1), ('drossy', 1), ('drown', 5), (\"drown'd!\", 1), (\"drown'd,\", 2), (\"drown'd.\", 1), (\"drown'd?\", 1), ('drowned', 2), ('drowns', 1), ('drugs', 1), ('drum', 1), ('drunk', 1), ('drunkards,', 1), ('dry', 2), ('dry,--', 1), ('ducat,', 1), ('ducats', 2), ('ducats,', 1), ('due', 1), ('dug', 1), (\"duke's\", 1), ('dull', 5), ('dull,', 1), ('duller', 1), ('dulls', 1), ('dumb', 3), ('dumb,', 1), ('dumb;', 2), ('dungeons,', 1), (\"dupp'd\", 1), ('dust', 3), ('dust,', 1), ('dust:', 1), ('dust;', 1), ('dust?', 1), ('duties', 1), ('duty', 9), ('duty,', 1), ('duty.', 2), ('duty?', 1), ('dwelling', 1), ('dye', 1), ('dying', 1), (\"e'en\", 12), (\"e'er\", 1), ('each', 11), ('eager', 2), ('eale', 1), ('ear', 10), ('ear,', 3), ('ear.', 3), ('ear:', 1), ('earnest', 1), ('ears', 5), ('ears,', 2), ('ears.', 1), ('ears.]', 1), ('ears;', 1), ('earth', 12), ('earth!', 2), ('earth,', 6), ('earth.', 1), ('earth;', 1), ('earth;--', 1), ('earth?', 1), ('earthly', 1), ('ease', 1), ('ease,', 3), ('easier', 1), ('easily', 1), ('easiness', 1), ('easiness.', 1), ('easing.', 1), ('east', 1), ('eastward', 1), ('easy', 1), ('easy;', 1), ('eat', 4), ('eat,', 1), ('eaten:', 1), ('eats', 1), ('eats,', 1), ('eclipse:', 1), ('ecstacy', 1), ('ecstasy', 2), ('ecstasy!', 1), ('ecstasy:', 1), ('edge', 1), ('edge,', 1), ('edge.', 1), ('edified', 1), ('effect', 4), ('effect,', 2), ('effect;', 1), ('effects', 1), ('effects:', 1), ('egg-shell.', 1), ('eight', 1), ('eisel?', 1), ('either', 6), ('elder', 1), ('eldest', 1), ('election', 3), ('element:', 1), ('eleven', 1), ('eloquent', 1), ('else', 12), ('else,', 1), ('else,--be', 1), ('else.', 1), ('else?', 3), ('elsinore.', 6), ('elsinore?', 2), (\"embark'd:\", 1), ('embrace', 2), ('embracing', 1), ('emperor', 1), ('emphasis?', 1), ('empire', 2), ('employ', 1), ('employment', 1), ('employment;', 1), ('empty', 1), ('emulate', 1), ('enact', 1), ('enact?', 1), ('enactures', 1), ('encompassment', 1), ('encounter', 1), (\"encounter'd.\", 1), ('encounter:', 1), ('encounter;', 1), (\"encumber'd\", 1), ('end', 10), ('end,', 2), ('end,--', 2), ('end.', 2), ('end:', 1), ('endeavour', 1), ('ended.--', 1), ('ending,', 1), ('ends', 1), ('ends,', 1), ('endure', 1), ('enemies.', 1), ('enemies;', 1), ('enemy', 1), ('enemy.', 2), (\"engag'd!\", 1), ('enginer', 1), ('england', 7), ('england!', 2), ('england!--', 1), (\"england's\", 1), ('england,', 2), ('england.', 2), ('england:', 1), ('england;', 4), ('england?', 1), ('english', 2), (\"enlarg'd\", 1), ('enmity', 1), ('enough', 5), ('enough,', 1), ('enough;', 1), ('enquire', 1), ('enseamed', 1), ('enter', 5), ('enterprise', 1), ('enterprise,', 1), ('enterprises', 1), ('enters.]', 1), ('entertainment', 4), ('entrance', 1), ('entreat', 3), ('entreated', 1), ('entreatments', 1), ('entreaty,', 1), ('entreaty.', 1), ('envenom', 1), (\"envenom'd\", 1), (\"envenom'd:\", 1), ('envious', 1), ('enviously', 1), ('envy', 2), ('epitaph', 2), ('equal', 2), ('equivocation', 1), ('ere', 12), ('err;', 1), ('erring', 1), ('errors', 1), ('eruption', 1), ('escape', 2), ('escoted?', 1), ('especial', 1), ('especially', 1), ('especially,', 1), ('espials,--', 1), ('essentially', 1), ('estate', 1), ('estate.', 2), (\"esteem'd\", 1), ('estimation', 1), ('et', 1), ('eternal', 2), ('eterne,', 1), ('eternity.', 1), ('even', 21), ('even,', 2), ('event,--', 1), ('event;', 1), ('events,--', 1), ('ever', 11), ('ever-preserved', 1), ('ever.', 1), ('ever:', 1), ('everlasting', 1), ('evermore,', 1), ('every', 8), ('everything', 2), ('evidence.', 1), ('evil', 1), ('evil,', 1), ('evil?', 1), ('exact', 1), ('exactly,', 1), ('examples,', 1), ('exceed', 1), ('exceedingly,', 1), ('excellence', 2), ('excellence;', 1), ('excellent', 9), ('excellent,', 1), ('except', 2), ('exception', 1), ('exchange', 1), ('exchange,', 1), ('excitements', 1), ('exclaim', 1), ('excrements,', 1), ('excuse.--ho,', 1), ('exercise', 2), ('exercises;', 1), ('exhort', 1), ('exit.', 1), ('expectancy', 1), ('expel', 2), ('expend', 1), ('expense;', 1), ('exploit,', 1), ('exposing', 1), ('expostulate', 1), ('express', 3), (\"express'd\", 1), ('extant,', 1), ('extent', 1), ('exterior', 1), ('extolment,', 1), ('extorted', 1), ('extravagant', 1), ('extremity', 1), ('extremity.', 1), ('eyases,', 1), ('eye', 4), ('eye!--', 1), ('eye,', 6), ('eye.', 3), ('eye;', 1), ('eyelids', 1), ('eyes', 10), ('eyes,', 5), ('eyes.', 2), ('eyes.--pray', 1), ('eyes:', 1), ('eyes;', 2), ('eyes?', 2), ('face', 6), ('face,', 1), ('face.', 1), ('face;', 1), ('face?', 2), ('faces', 1), ('faces,', 1), ('faction', 1), ('faculties', 1), ('faculties!', 1), ('faded', 1), ('fadoms', 1), (\"fail'd\", 1), ('fail,', 1), ('fail;', 1), ('fain', 4), ('fair', 15), ('fair,', 4), ('fair:', 1), ('fair?', 1), ('fairly', 1), ('fairy', 1), ('faith,', 12), ('faith.', 2), ('faith:', 1), ('faith;', 2), ('faithful', 2), ('faithful.', 1), ('falconers,', 1), ('fall', 6), (\"fall'n\", 2), ('fall,', 1), ('fall.', 1), ('fall:', 1), ('falling', 1), ('falling-off', 1), ('falls', 3), ('falls,', 2), ('falls.', 1), ('falls.]', 2), ('false', 6), ('falsehood', 1), ('falsely', 1), ('fame', 1), ('fame,', 1), ('familiar,', 1), ('famous', 1), ('fancy,', 1), ('fancy:', 1), ('fancy;', 1), (\"fang'd,--\", 1), ('fanned', 1), ('fantastic', 1), ('fantastically', 1), ('fantasy', 1), ('fantasy,', 1), ('fantasy?', 1), ('far', 10), ('far.', 1), ('fardels', 1), ('fare', 6), ('fares', 2), ('farewell', 1), ('farewell!', 2), ('farewell,', 3), ('farewell.', 8), ('farewell:', 2), ('farewell;', 1), ('farm', 2), ('fashion', 5), ('fashion,', 1), ('fashion.', 1), ('fashion;', 1), ('fast', 1), ('fast;', 1), ('fast?', 2), ('fat', 5), ('fat,', 1), ('fate', 1), ('fate,', 1), ('fates', 1), ('fates,', 1), ('father', 26), ('father!', 2), (\"father's\", 18), ('father,', 6), ('father,--methinks', 1), ('father.', 7), ('father:', 1), ('father;', 7), ('father?', 2), ('fathers,', 2), ('fatness', 1), ('fatted', 1), ('fault', 4), ('fault:', 1), ('faults', 2), ('faults,', 1), ('favour', 3), ('favour,', 1), ('favourite', 1), ('favours:', 1), ('favours?', 1), ('fawning.', 1), ('fay,', 1), ('fear', 13), (\"fear'd\", 1), ('fear,', 3), ('fear-surprised', 1), ('fear:', 2), ('fear;', 1), ('fear?', 1), ('fearful', 1), ('fearing', 1), ('fears', 2), ('feast', 2), ('feast.', 1), ('feather.', 1), ('feathers--if', 1), ('feats,', 1), ('feature', 1), ('fed', 2), ('fee.', 1), ('fee;', 2), ('feed', 4), ('feed,', 1), ('feed?', 1), ('feeds', 1), ('feel', 1), ('feeling', 2), ('feeling,', 1), ('feelingly', 1), ('feels', 1), ('feet,', 1), ('feet.]', 1), ('felicity', 1), ('fell', 8), ('fell,', 1), ('fellies', 1), ('fellow', 6), (\"fellow's\", 1), ('fellow,', 1), ('fellow-student.', 1), ('fellow.--whose', 1), ('fellow:', 1), ('fellows', 3), ('fellowship', 1), ('fellowship,', 1), ('female', 1), ('fencing,', 1), ('fennel', 1), ('fertile:', 1), ('fetch', 2), ('fetters', 1), ('few', 2), ('few,', 1), ('fiction,', 1), ('fie', 3), ('fie!', 2), ('fie!--hold,', 1), ('field,', 1), ('fiends!', 1), ('fierce', 1), ('fiery', 3), ('fifty,', 1), ('fight', 2), ('fight?', 1), ('fighting', 2), ('figure', 2), ('figure,', 1), ('figure;', 1), ('figure?', 1), ('filial', 1), ('fill.', 1), ('film', 1), ('find', 17), (\"find'st\", 1), ('finding', 1), ('finding,', 1), ('finds', 3), ('fine', 6), ('fine,', 3), ('fine.', 1), ('fines,', 2), ('finger', 2), (\"finger'd\", 1), ('fingers', 3), ('fingers,', 1), ('fire', 2), ('fire!', 1), ('fire,', 3), ('fire,--why,', 1), ('fire.', 1), ('fire:', 2), ('fire;', 2), ('fires,', 1), ('firm', 1), ('firmament,', 1), ('first', 13), ('first,', 2), ('first.', 1), ('first.]', 1), ('first;', 2), ('fish', 2), ('fishmonger.', 1), ('fishmonger:', 1), ('fit', 8), ('fit,', 2), ('fit.', 1), ('fit;', 1), ('fitness', 1), ('fits', 2), ('fitted.', 1), ('fitting', 1), ('five', 2), ('five,', 1), (\"fix'd\", 3), ('flagon', 1), ('flame', 2), ('flames', 2), ('flaming', 2), ('flash', 1), ('flashes', 1), ('flat', 2), ('flat,', 1), ('flats', 1), (\"flatter'd?\", 1), ('flatter;', 1), ('flattering', 1), ('flaw!', 1), ('flaxen', 1), ('flesh', 4), ('flesh;', 1), ('flies,', 1), ('flights', 1), ('flints,', 1), ('flood,', 1), ('flourish', 2), ('flourish.', 1), ('flourish;', 1), ('flourishes,', 1), ('flowers.]', 2), ('flowers:', 1), ('flowers;', 1), ('flush', 1), ('flushing', 1), ('fly', 4), ('fly,', 1), ('foe', 1), ('foe,', 1), ('foh!--about,', 1), ('foil', 1), ('foil,', 1), ('foils', 3), ('foils,', 1), ('foils;', 2), ('folded', 1), ('folk', 1), ('follow', 14), (\"follow'd\", 1), ('follow,', 2), ('follow.', 1), ('follow:--your', 1), ('follow;', 1), ('follow?', 1), ('followed', 1), ('followed?', 1), ('following.]', 1), ('following;', 1), ('follows', 1), ('follows,', 2), ('follows:', 1), ('folly', 1), ('fond', 1), ('food', 1), ('food,', 1), ('fool', 4), ('fool,', 1), ('fool.', 1), ('fool;', 1), ('foolery;', 1), ('foolish', 3), ('fools', 1), ('fools!', 1), ('foot', 1), ('foot.', 1), ('foot;', 1), ('for', 231), (\"for's\", 2), (\"for't.\", 1), (\"for't:\", 1), ('for,', 6), ('for.', 7), ('for;', 1), ('for?', 2), ('forbear', 1), ('forbid', 2), (\"forc'd\", 2), ('force', 2), ('force,--', 1), ('forces', 1), ('forces.]', 1), ('forcing', 1), ('fordo', 1), ('fordoes', 1), ('forehead', 2), ('foreign', 1), ('foreknowing', 1), ('foresaid', 1), ('forest', 1), ('forestall', 1), ('forestalled', 1), ('forfeit,', 1), (\"forg'd\", 1), ('forged', 1), ('forgeries', 1), ('forgery', 1), ('forget', 3), ('forget.', 1), ('forgetting', 1), ('forgive', 2), ('forgiveness', 1), ('forgone', 1), ('forgot', 2), (\"forgot!'\", 1), ('forgot,', 1), ('forgot:', 1), ('forgotten', 1), ('form', 11), ('form,', 2), ('formal', 1), ('former', 2), ('former,', 1), ('forms', 1), ('forms,', 2), ('fort.', 4), ('forth', 5), ('forth,', 1), ('forth.--', 1), ('forthwith', 1), ('fortified', 1), ('fortinbras', 2), ('fortinbras,', 7), ('fortinbras,--', 1), ('fortinbras.', 2), ('fortinbras:', 1), ('fortinbras;', 2), ('forts', 1), ('fortune', 3), ('fortune!', 1), (\"fortune's\", 5), ('fortune,', 4), ('fortune:', 1), ('fortune;', 1), ('fortune?', 1), ('fortunes', 2), ('forty', 1), ('forty,', 1), ('forward', 1), ('forward,', 1), ('fought', 1), ('foul', 9), (\"foul'd,\", 1), ('foul,', 2), ('found', 4), ('found,', 1), ('four', 4), ('fox,', 1), ('frame', 1), ('frame,', 3), ('fran.', 8), ('france', 2), ('france,', 1), ('france;', 2), ('francisco,', 1), ('francisco.', 1), ('frankly', 2), ('free', 9), ('free,', 1), ('free-footed.', 1), ('free;', 1), ('freely', 2), ('freely,', 1), ('freely;', 1), ('freeze', 1), ('french', 4), ('french,', 1), ('frenchman', 1), ('fret', 1), ('fretful', 1), ('fretted', 1), ('friend', 4), ('friend!', 1), ('friend,', 1), ('friend.', 1), ('friend;', 3), ('friend?', 1), ('friending', 1), ('friends', 7), ('friends!', 3), ('friends,', 5), ('friends.', 2), ('friends.--o,', 1), ('friends:', 1), ('friends;', 1), ('friendship,', 1), ('frighted', 1), ('frock', 1), ('from', 95), ('from.', 1), ('front', 1), ('frontier?', 1), ('frost', 1), (\"frown'd\", 1), ('frowningly?', 1), ('fruit', 2), ('fruitful', 1), ('fruits', 1), (\"fulfill'd\", 1), ('full', 9), ('full,', 2), ('function', 1), ('functions', 1), ('funeral', 1), ('funeral,', 1), ('funeral.', 1), ('furnish', 1), ('further', 9), ('further,', 1), ('further.', 1), ('further?', 1), ('fust', 1), ('gaged', 1), ('gain', 2), ('gain-giving', 1), ('gait', 2), ('gall', 2), (\"gall'd\", 1), ('gallant', 1), ('galled', 1), ('gallows', 3), ('gallows-maker;', 1), ('galls', 2), ('gambol', 1), ('gambols?', 1), ('gaming,', 2), ('gaming;', 1), ('gape', 1), ('garb;', 1), ('garbage.', 1), ('garden', 1), ('garden,', 1), ('gardeners,', 1), ('garland', 1), ('garlands', 1), ('garments,', 1), (\"garrison'd.\", 1), ('gates', 1), ('gather', 1), ('gather,', 2), ('gaudy:', 1), ('gave', 8), (\"gave't\", 1), ('gem', 1), ('gender', 1), ('general', 6), ('general;', 1), ('generous', 2), ('generous,', 1), ('gent.', 3), ('gentle', 5), ('gentleman', 4), ('gentleman,', 2), ('gentleman.', 3), (\"gentleman.'\", 1), ('gentleman.]', 1), ('gentleman;', 1), ('gentleman?', 2), ('gentlemen', 2), ('gentlemen!', 1), ('gentlemen!--', 1), ('gentlemen,', 7), ('gentlemen;--', 1), ('gentlewoman,', 1), ('gently:', 1), ('gentry', 1), ('gentry;', 1), ('german', 1), ('gertrude,', 9), ('gertrude:--', 1), ('gertrude;', 2), ('gertrude?', 1), ('gestures', 1), ('get', 9), ('gets', 1), ('ghost', 5), ('ghost!', 1), (\"ghost's\", 1), ('ghost,', 4), ('ghost.', 14), ('ghost.]', 6), ('giant-like?--', 1), ('gib,', 1), ('gibber', 1), ('gibes', 1), ('gifts', 2), ('gifts,', 1), ('gifts,--', 1), ('gifts;', 1), ('gilded', 1), ('girdle,', 1), ('girl,', 1), ('gis', 1), ('give', 58), ('give,', 2), ('given', 10), ('givers', 1), ('gives', 6), ('giving', 3), ('glad', 4), ('glares!', 1), ('glass', 2), ('glassy', 1), ('glean,', 1), ('gleaned,', 1), ('glimpses', 1), ('globe.', 1), ('glow;', 1), ('glowworm', 1), ('go', 48), ('go,', 11), ('go.', 6), ('go:', 2), ('go;', 2), ('goblin', 1), ('goblins', 1), ('god', 15), ('god!', 5), (\"god's\", 2), ('god,', 6), ('god-a-mercy.', 1), ('god-kissing', 1), ('god.--god', 1), ('god?', 2), ('godlike', 1), ('gods', 1), ('gods,', 1), ('gods.', 1), ('goes', 10), ('goes,', 2), ('goes,--mark', 1), ('goes.', 1), ('going', 2), ('gold,', 1), ('golden', 3), ('gone', 3), ('gone!', 1), ('gone,', 6), ('gone:', 1), ('gone;', 2), ('gone?', 1), ('gonzago', 1), (\"gonzago'?\", 1), (\"gonzago's\", 1), ('gonzago:', 1), ('good', 88), ('good!', 1), ('good,', 2), ('good-night.', 2), ('good-night.--', 1), ('good-night.--indeed,', 1), ('good-night:', 1), ('good-will', 1), ('good.', 3), ('good:', 2), ('good;', 2), ('goodly', 3), ('goodman', 1), ('goodness', 1), ('goodness,', 1), ('goose-quills', 1), ('gore,', 1), ('gorge', 1), ('got', 2), ('govern', 1), ('grace', 9), ('grace,', 3), ('grace;', 1), ('graces', 1), ('graces;', 1), ('gracious', 4), ('gracious;', 1), ('grained', 1), ('grand', 1), ('grandsire', 1), ('grant', 1), ('grapple', 2), ('grass', 2), ('grating', 1), ('gratis;', 1), ('grave', 5), (\"grave's\", 1), ('grave,', 1), ('grave-diggers.', 1), (\"grave-maker;'\", 1), ('grave-maker?', 1), ('grave-makers:', 1), ('grave-making?', 1), ('grave.', 1), ('grave.]', 3), ('grave?', 2), ('graveness.--two', 1), ('graves', 2), ('great', 24), ('great,', 2), ('greatly', 1), ('greatness', 1), ('greeks:', 1), ('green', 2), ('green,', 1), ('greenly', 1), ('greet', 1), ('greeted,', 1), ('greeting', 1), ('greetings', 1), ('grew', 1), ('grey', 1), ('grief', 8), ('grief,', 3), ('grief:', 1), ('grief;', 2), ('griefs', 1), (\"griev'd,--\", 1), ('grieve', 1), ('grieve;', 1), ('grieves,', 1), ('grinding', 1), ('grinning?', 1), ('grizzled,--no?', 1), ('groan.', 1), ('groaning', 1), ('groans:', 1), (\"grop'd\", 1), ('gross', 3), ('grosser', 1), ('grossly,', 1), ('ground', 2), ('ground,', 2), ('ground,as', 1), ('ground.', 2), ('ground.--', 1), ('ground:', 1), ('ground?', 1), ('groundlings,', 1), ('grounds', 1), ('grow', 7), ('grow:', 1), ('growing', 1), ('grown', 4), ('grows', 4), (\"grows'--the\", 1), ('grunt', 1), ('guard', 1), ('guard,', 1), ('guard?', 1), ('guarded,', 1), ('guards!--what', 1), ('guest', 2), ('guil.', 32), ('guil.,', 1), ('guil.]', 2), ('guild.', 1), ('guild.],', 1), ('guildenstern', 4), ('guildenstern!', 3), ('guildenstern,', 6), ('guildenstern.', 1), ('guildenstern.]', 14), ('guildenstern;--and', 1), ('guildenstern?', 1), ('guilt', 2), ('guilt,', 1), ('guiltless', 1), ('guilty', 3), ('guilty,', 3), ('gules;', 1), ('gulf', 1), ('gum;', 1), ('guts', 2), ('gyves', 1), ('ha', 1), ('ha!', 2), ('ha!--come,', 1), (\"ha'\", 3), (\"ha't\", 1), (\"ha't:\", 1), ('ha,', 2), ('ha?', 2), ('habit', 3), ('habit,', 1), ('habits', 1), ('had', 44), ('hadst', 3), ('hail', 1), ('hair', 1), ('hairs,', 1), ('half', 4), ('half.', 1), ('halfpenny.', 1), ('hall', 2), ('hall:', 2), (\"hallow'd\", 1), ('halt', 1), ('ham.', 358), ('hamlet', 28), ('hamlet!', 6), ('hamlet!--', 1), (\"hamlet's\", 9), (\"hamlet's.]\", 1), ('hamlet,', 26), ('hamlet,--', 2), ('hamlet,--with', 1), ('hamlet.', 12), (\"hamlet.'\", 3), (\"hamlet.'--come,\", 1), ('hamlet.]', 9), ('hamlet:', 5), ('hamlet;', 4), ('hamlet?', 4), ('hammers', 1), ('hams:', 1), ('hand', 12), ('hand!', 1), ('hand,', 4), ('hand,--sends', 1), ('hand.', 1), ('hand?', 1), ('hands', 6), ('hands,', 4), ('hands.', 1), ('hands:', 1), ('handsaw.', 1), ('handsome', 1), ('hang', 3), ('hang,', 1), ('hangers', 1), ('hangers,', 1), ('hangers.', 1), ('hap', 1), ('haply', 3), ('happen.', 1), ('happily', 1), ('happily,', 1), ('happiness', 1), ('happy', 3), ('haps,', 1), ('harbingers', 1), ('hard', 4), ('hard;', 1), ('hardy', 1), ('hark', 1), ('harlot', 1), (\"harlot's\", 1), ('harmony;', 1), ('harping', 1), ('harrow', 1), ('harrows', 1), ('harsh', 1), ('harsh;', 1), ('harshly', 1), ('hart', 1), ('has', 14), ('hast', 14), ('hast,', 2), ('haste', 10), ('haste.', 3), ('hasten', 1), ('hasty', 1), ('hat', 1), ('hat.]', 1), ('hatch', 1), ('hatchment', 1), ('hate', 1), ('hath', 62), ('hath,', 2), ('haunt', 1), ('have', 174), (\"have't.--\", 1), ('have,', 3), ('have.', 1), ('have?', 2), ('having', 2), ('havoc.--o', 1), ('hawk', 1), ('hazard', 1), ('he', 202), (\"he'll\", 1), (\"he's\", 11), ('he,', 7), ('he,--and', 1), ('he.', 2), ('he?', 2), ('head', 17), ('head,', 2), ('head-shake,', 1), ('head.', 4), ('head.]', 1), ('head:', 1), ('head;', 1), ('heads:', 2), ('health', 4), ('health,', 1), ('health.--', 1), ('healthful', 1), ('hear', 23), ('hear.', 6), ('hear?', 3), ('heard', 9), ('heard,', 5), ('hearer:', 1), ('hearers', 1), ('hearers?', 1), ('hearing', 3), ('hearing,', 2), ('hears', 3), ('hearsed', 1), ('heart', 10), (\"heart's\", 1), ('heart,', 6), ('heart,--for', 1), ('heart.', 2), ('heart.--good', 1), ('heart:', 3), ('heart;', 4), ('heart?', 2), ('heartache,', 1), ('heartily', 1), ('heartily.', 1), ('heartily;', 1), ('hearts', 1), ('hearts,', 1), ('heat', 2), ('heat,', 1), ('heat,--extinct', 1), ('heathen?', 1), ('heaven', 20), ('heaven!', 1), ('heaven!--', 1), (\"heaven's\", 1), ('heaven,', 8), ('heaven-kissing', 1), ('heaven.', 3), ('heaven:', 1), ('heaven;', 7), ('heaven?', 2), ('heavenly', 2), ('heavens', 3), ('heavens!', 3), ('heavens,', 2), ('heaves', 1), ('heavily', 1), ('heavy', 5), ('heavy,', 1), ('heavy-headed', 1), ('hebenon', 1), (\"hecate's\", 1), ('hectic', 1), ('hecuba', 1), ('hecuba,', 1), ('hecuba.', 1), ('hecuba?', 1), ('hedge', 1), ('heed', 2), ('heedful', 1), ('heel', 1), ('heel,', 1), ('heels', 3), ('height,', 1), ('heir', 1), ('held', 2), ('hell', 4), ('hell,', 5), ('hell?', 1), ('hellish', 1), ('help', 4), ('help!', 1), ('help,', 7), ('helpful', 1), ('helps', 1), ('hems,', 1), ('hence', 3), ('hence:', 1), ('hent:', 1), ('her', 76), ('her,', 7), ('her.', 5), ('her?', 3), ('herald', 1), ('heraldry', 1), ('heraldry,', 1), ('herb', 1), ('hercules', 2), ('hercules:', 1), ('here', 33), ('here!', 2), (\"here's\", 8), ('here,', 13), ('here,--', 1), ('here.', 1), ('here.--gracious,', 1), ('here?', 2), ('hereafter', 1), ('herein', 3), ('herein;', 1), ('herod:', 1), ('heroes', 1), ('herself', 5), ('herself:', 1), ('hey', 2), ('hey-day', 1), ('hic', 1), ('hid', 1), ('hid,', 1), ('hide', 4), ('hide?', 1), ('hideous', 1), ('hideous,', 1), ('hies', 1), ('high', 3), ('higher', 1), ('highest', 1), ('highly,--not', 1), ('highness;', 1), ('hill', 1), ('hill:', 2), ('hillo,', 1), ('hilts,', 1), ('him', 122), ('him!', 5), ('him,', 25), ('him,--', 2), ('him.', 22), ('him.--', 2), ('him.]', 1), ('him:', 9), ('him;', 6), (\"him;--but,'\", 1), ('him;--do', 1), ('him?', 1), ('himself', 10), ('himself,', 2), ('himself.', 3), ('himself.--', 1), ('himself;', 5), ('hinges', 1), ('hire', 1), ('his', 295), ('his:', 1), ('his;', 1), ('historical-pastoral,', 1), ('history,', 1), ('history.', 1), ('hit', 2), ('hit,', 2), ('hit.', 1), ('hit;', 1), ('hither', 1), ('hither,', 5), ('hither?', 2), ('hitherto', 2), ('hits', 1), ('hits.', 1), ('hits:', 1), ('ho!', 6), ('ho,', 6), ('hoar', 1), ('hobby-horse', 1), ('hobby-horse,', 1), ('hoist', 1), ('hold', 24), (\"hold'st\", 1), ('hold,', 1), ('holding', 1), ('holds', 4), ('holds,', 1), ('hole', 1), ('holla!', 1), ('hollow', 1), ('holy', 2), ('homage', 1), ('home', 2), ('home!', 1), ('home,', 1), ('home:', 2), ('honest', 6), ('honest,', 2), ('honest.', 1), ('honest;', 1), ('honest?', 1), ('honesty', 4), ('honesty?', 1), ('honey', 1), ('honeying', 1), ('honour', 5), (\"honour'd\", 3), (\"honour'd,\", 1), (\"honour's\", 1), ('honour,', 1), ('honour,--', 1), ('honour.', 3), ('honourable', 2), ('honourable.', 1), ('honoured', 1), ('honours.', 1), ('hoodman-blind?', 1), ('hoops', 1), (\"hop'd\", 1), ('hope', 5), ('hope!', 1), ('hope,', 2), ('hopes;', 1), ('hor.', 110), ('hor.,', 1), ('horatio', 7), ('horatio!', 4), ('horatio!--', 1), ('horatio,', 16), ('horatio,--or', 1), ('horatio.', 4), ('horatio.--wretched', 1), ('horatio.]', 8), ('horatio:--welcome,', 1), ('horatio;', 2), ('horatio?--', 1), ('horrible', 1), ('horrible!', 3), ('horrid', 2), ('horridly', 2), ('horrors,--he', 1), ('horse', 1), ('horse,', 1), ('horse,--', 1), ('horseback:', 1), ('horses', 1), ('horses:', 1), ('host', 1), ('hot', 5), ('hot.', 1), ('hour', 5), ('hour,', 2), ('hour.', 1), ('hourly', 1), ('hours', 1), ('hours.', 1), ('house', 2), (\"house's\", 1), ('house.', 3), ('houses', 1), ('hover', 1), ('how', 84), ('how,', 1), ('how.', 1), ('how?', 1), (\"howe'er\", 1), ('howling.', 1), ('howsoever', 1), ('hue', 1), ('huge', 1), ('hugger-mugger', 1), ('hum!', 1), ('humanity', 1), ('humble,', 1), ('humbly', 5), ('humorous', 1), ('humour,', 1), ('hundred', 1), ('hundred.', 1), ('hung', 1), ('hunts', 1), ('hurt', 1), ('hurt.', 1), ('hurts', 1), ('husband', 6), (\"husband's\", 2), ('husband,', 1), ('husband.--look', 1), ('husbandry.', 1), ('husbands.--begin,', 1), ('hush', 1), ('hymen', 1), ('hyperion', 1), (\"hyperion's\", 1), ('hypocrite;', 1), ('hypocrites,--', 1), ('hyrcanian', 1), ('i', 510), ('i!', 2), (\"i'\", 22), (\"i'll\", 56), (\"i'm\", 1), (\"i've\", 1), ('i,', 17), ('i.', 8), ('i:', 1), ('i;', 2), ('i?', 1), ('ice,', 1), ('ice.', 1), ('idle', 2), ('idle:', 1), ('idol,', 1), ('if', 109), (\"if't\", 3), ('if,', 2), ('ignorance', 1), ('ignorance.', 1), ('ignorance;', 1), ('ignorant', 1), ('ignorant,', 1), ('ignorant,--', 1), ('ii.', 6), ('iii.', 4), ('ilium,', 1), ('ill', 5), ('ill-breeding', 1), ('ill:', 1), ('illo,', 1), ('ills', 1), ('illume', 1), ('illusion!', 1), ('image', 3), ('image,', 2), ('imagination', 3), ('imagination.', 1), ('imaginations', 1), ('imagine,--', 1), ('imitated', 1), ('immediate', 2), ('immediately.', 1), ('imminent', 1), ('imminent.', 1), ('immortal', 1), ('impart', 4), ('impartment', 1), ('impasted', 1), ('impatient;', 1), ('imperfections', 1), ('imperial', 1), ('imperious', 1), ('impetuous', 1), ('impious', 1), ('implements', 1), ('implorators', 1), ('imponed,', 2), ('important', 1), ('importing', 3), ('imports', 4), (\"importun'd\", 1), ('importunate;', 1), ('importunity.', 1), ('imposthume', 1), ('impotence', 1), ('impotent', 1), ('impress', 1), ('impression;', 1), ('imputation', 1), ('in', 420), (\"in's\", 5), (\"in't\", 1), (\"in't,\", 2), (\"in't.\", 1), (\"in't.--\", 1), (\"in't:\", 1), (\"in't;\", 1), (\"in't;--\", 1), (\"in't?\", 3), ('in,', 2), ('in,--he', 1), ('in,--the', 1), (\"in-urn'd,\", 1), ('in.', 8), ('incapable', 1), (\"incens'd.\", 1), (\"incens'd.--let\", 1), ('incensed', 1), ('incest.', 1), ('incestuous', 2), ('incestuous,', 2), ('inch', 1), (\"inclin'd.--\", 1), ('inclination', 2), ('inclining?', 1), ('incontinency;', 1), ('incorporal', 1), (\"incorps'd\", 1), ('incorrect', 1), ('increase', 1), ('indeed', 5), ('indeed,', 18), ('indeed.', 6), ('indeed?', 1), ('indentures?', 1), ('index?', 1), ('indifferent', 3), ('indifferently', 1), ('indirections', 1), ('indiscretion', 1), ('indite', 1), ('individable,', 1), (\"indu'd\", 1), ('inexplicable', 1), ('infallibly', 1), ('infants', 1), ('infect', 1), ('infected,', 1), ('infects', 1), ('infinite', 4), ('influence', 1), ('inform', 2), ('infusion', 1), ('ingenious', 1), ('inheritance', 1), ('inheritor', 1), ('inhibition', 1), ('inky', 1), ('inmost', 1), ('innocent', 1), ('innovation.', 1), ('inoculate', 1), ('inquiry', 1), ('insert', 1), ('insinuation', 1), ('insolence', 1), ('instance', 1), ('instances', 1), ('instant', 4), ('instantly', 1), ('instructs', 1), ('instrument', 2), ('instrumental', 1), ('intend', 1), ('intent', 1), ('intent;', 1), ('intents', 1), ('inter', 1), ('interim', 1), ('interpret', 1), ('into', 31), ('into,', 1), ('intruding', 1), ('inventorially', 1), (\"inventors'\", 1), ('investments', 1), ('invisible', 1), ('invite', 1), ('invites', 1), ('invulnerable,', 1), ('inward', 3), ('is', 320), ('is!', 2), (\"is't\", 10), (\"is't,\", 5), (\"is't--crowner's\", 1), (\"is't;\", 1), ('is,', 10), ('is,--', 1), ('is.', 3), ('is:--we', 1), ('is;', 3), ('is;--and', 1), ('israel,', 1), ('issue', 2), ('it', 324), ('it!', 4), (\"it's\", 2), ('it,', 34), ('it,--i', 1), ('it,--let', 1), ('it,--might', 1), ('it.', 24), ('it.--you', 1), ('it:', 12), ('it:--stay,', 1), ('it;', 5), ('it?', 4), ('it?--', 1), ('italian;', 1), ('itself', 21), ('itself,', 2), ('itself?', 1), ('iv.', 4), ('jade', 1), ('jangled,', 1), ('jaw;', 1), ('jawbone,', 1), ('jaws', 1), ('jealousy', 1), ('jealousy!', 1), ('jelly', 1), ('jephthah,', 2), ('jephthah?', 1), ('jest,', 2), ('jest;', 1), ('jester.', 1), ('jig', 1), ('jig,', 1), ('jig-maker!', 1), ('jocund', 1), ('john-a-dreams,', 1), ('join', 2), ('joint-labourer', 1), ('joint:--o', 1), ('jointly', 1), ('jointress', 1), ('jot', 1), ('jot;', 1), ('journeymen', 1), ('journeys', 1), ('jove', 2), ('jowls', 1), ('joy', 5), ('joy,', 1), ('joy,--', 2), ('joyfully', 1), ('joys', 1), ('joys,', 1), ('judge', 2), ('judge;', 1), ('judges,', 1), ('judgment', 4), ('judgment!', 1), ('judgment,', 2), ('judgment.', 1), ('judgment:', 1), ('judgments', 2), ('judgments,', 1), ('judicious', 1), ('juggled', 1), ('juice', 1), ('julius', 2), ('jump', 2), ('just', 2), ('justice;', 1), ('justly', 3), ('keen,', 1), ('keen.', 1), ('keep', 16), ('keep,', 1), ('keeps', 5), ('kept', 4), ('kettle', 1), ('kettle-drum', 1), ('key', 1), ('kibe.--how', 1), ('kick', 1), ('kill', 4), (\"kill'd\", 4), (\"kill'd,\", 1), (\"kill'd:\", 1), ('killed', 1), ('kills', 2), ('kin,', 1), ('kin.', 1), ('kind', 10), ('kind!', 1), ('kind:', 1), ('kindless', 1), ('king', 40), ('king!', 3), (\"king!'\", 2), (\"king's\", 8), ('king,', 21), ('king,--', 1), ('king,attended.]', 1), ('king.', 113), ('king.]', 3), ('king:', 4), ('king;', 3), ('king?', 4), ('king?--sirs,', 1), ('kingdom', 2), ('kingdom,', 1), ('kingdom.', 2), ('kingly', 1), ('kings', 1), ('kings;', 1), (\"kiss'd\", 1), ('kisses', 2), ('kisses,', 1), ('kites', 1), ('knave', 3), ('knave.', 2), ('knavery!', 1), ('knavery.', 1), ('knaves,', 1), ('knavish', 2), ('knee', 1), ('kneels,', 1), ('kneels.]', 1), ('knees', 1), ('knees;', 1), ('knew', 5), (\"knew'st\", 1), ('knife', 1), ('knight', 1), ('knock', 1), ('knocked', 1), ('knocking', 1), ('knotted', 1), ('know', 57), (\"know';\", 1), (\"know'st\", 2), (\"know't,\", 1), ('know,', 12), ('know.', 2), ('know;', 3), ('knowest', 1), ('knowing', 1), ('knowledge', 1), ('known', 5), ('known,', 1), ('known.', 1), ('known;', 1), ('knows', 1), ('knows,', 2), ('la,', 1), ('labour', 1), (\"labour'd\", 1), ('labour:', 1), ('laboursome', 1), ('lack', 5), (\"lack'd\", 1), ('lack.', 1), ('lacks', 1), ('ladies', 1), ('ladies,', 1), ('ladies;', 2), ('lads,', 1), ('lady', 4), (\"lady's\", 1), ('lady,', 7), ('lady.', 1), ('lady?', 2), ('ladyship', 1), ('laer.', 62), ('laertes', 6), ('laertes!', 1), (\"laertes'\", 1), (\"laertes's\", 1), ('laertes,', 18), ('laertes,--', 1), ('laertes.', 3), ('laertes.]', 2), ('laertes:', 1), ('laertes;', 3), ('laertes?', 5), ('laertes]', 1), ('laid', 6), ('lain', 1), ('lament', 1), ('lament;', 1), ('lamond.', 1), ('land,', 3), ('land.', 1), ('land;', 1), ('lands', 3), ('lands,', 1), ('lank', 1), ('lap?', 2), (\"laps'd\", 1), ('lapwing', 1), ('larded', 2), ('large', 1), ('larger', 1), ('lash', 1), ('last', 11), ('last,', 2), ('last,--a', 1), ('last;', 1), ('lasting', 1), ('lasting;', 1), ('late', 5), ('late,', 1), ('late,--but', 1), ('late.', 1), ('late:', 1), ('late?', 1), ('laugh', 4), ('laugh,', 2), ('law', 3), (\"law's\", 1), ('law,', 1), ('law.', 1), ('law;', 1), ('law?', 1), ('lawless', 2), ('lawyer?', 1), ('lay', 9), ('laying', 2), ('lays', 1), ('lazar-like,', 1), ('lead', 4), ('leads', 1), ('lean', 1), ('leans', 1), ('leaping', 1), ('learning;', 1), ('least,', 2), ('leave', 20), ('leave,', 1), ('leave.', 4), ('leave?', 2), ('leaves', 2), ('leaves,', 1), ('lecherous,', 1), ('lecture', 1), ('led', 1), ('left', 2), ('left.', 1), ('legs.', 1), ('leisure', 2), ('leisure,', 1), ('leisure.', 1), ('lend', 4), ('lender', 1), ('lends', 1), ('length', 2), ('length;', 1), ('length?', 1), ('lenten', 1), ('leperous', 1), ('less', 6), ('less,', 2), ('lesser', 1), ('lesson', 1), ('lest', 4), ('let', 92), (\"let's\", 10), ('lethe', 1), ('lets', 3), ('letter', 1), ('letters', 6), ('letters,', 1), ('letters;', 1), ('level', 2), ('levied', 1), ('levies,', 1), ('levies;', 1), ('lewdness', 1), ('liar;', 1), ('liberal', 3), ('libertine,', 1), ('liberty', 2), ('liberty,', 1), ('liberty.', 1), ('liberty;', 1), ('license,', 1), ('lick', 1), ('lids', 1), ('lie', 8), ('lie,', 2), ('lief', 1), ('liege,', 2), ('liege:', 1), ('liegemen', 1), ('lies', 6), ('liest', 2), ('liest.', 1), ('life', 13), ('life,', 11), ('life,--', 1), ('life-rendering', 1), ('life.', 4), ('life:', 1), ('life;', 2), ('life?', 1), ('lifted', 1), ('light', 6), ('light!', 1), ('light.', 1), ('light:--away!', 1), ('lighted', 1), ('lightest', 1), ('lightness;', 1), ('lights', 1), ('lights!', 1), ('lights,', 2), ('like', 75), ('like,', 2), ('like.', 2), ('like:--it', 1), ('likelihood', 1), ('likely,', 1), ('likely.', 1), ('likeness:', 1), ('likes', 3), ('likewise', 1), ('limbs', 1), ('limbs,', 1), ('limed', 1), ('line', 1), ('line;--let', 1), ('lines', 2), ('lines.', 1), (\"link'd,\", 1), (\"lion's\", 1), ('lips', 1), ('lips,', 1), ('liquid', 1), ('liquor', 1), ('liquor.', 1), ('lisp,', 1), ('list', 3), ('list!--', 1), ('list,', 2), ('lists,', 1), ('little', 15), ('little,', 1), ('little.', 2), ('littlest', 1), (\"liv'd!\", 1), (\"liv'st;\", 1), ('live', 12), ('live,', 1), ('live.', 1), ('live;', 1), ('lived,', 1), ('livery', 2), ('livery,', 1), ('lives', 4), ('living', 2), ('lo!', 1), ('lo,', 2), ('load', 1), ('loam', 1), ('loam;', 1), ('loan', 1), ('loathsome', 1), ('lobby.', 2), ('lock', 2), (\"lock'd,\", 1), (\"lock'd:\", 1), ('locks', 1), (\"lodg'd\", 1), ('lodge,', 1), ('lofty', 1), ('loggets', 1), ('loins,', 1), ('loneliness.--we', 1), ('long', 12), ('long.', 1), ('long:--but', 1), ('long;', 1), ('long?', 2), ('longed', 1), ('longer', 3), ('longer,', 1), ('longer,--married', 1), ('longer.', 1), ('look', 30), (\"look'd\", 3), ('look,', 5), ('look?', 1), ('looked', 1), ('looking', 1), ('looks', 4), ('looks,', 2), ('looks;', 2), ('loose', 1), ('loose!', 1), ('loosed', 1), ('lord', 16), ('lord!', 12), ('lord,', 81), ('lord,--', 5), ('lord.', 60), ('lord.]', 2), ('lord:', 4), ('lord;', 14), ('lord?', 27), (\"lord?'\", 1), ('lords,', 3), ('lords.', 1), ('lordship', 4), ('lordship!', 1), ('lordship,', 1), ('lordship.', 1), ('lordship?', 1), ('lose', 6), ('lose.', 1), ('loser?', 1), ('loses', 1), ('losing', 1), ('loss', 1), ('lost', 4), ('lost,', 2), ('lost:', 1), ('lost;', 1), ('lot,', 1), ('loth', 1), ('loud', 1), ('loud,', 2), ('loudly', 1), (\"lov'd\", 4), ('love', 41), ('love!', 1), ('love,', 11), ('love--', 1), ('love.', 5), ('love.--how', 1), ('love.]', 1), ('love;', 4), ('love?', 2), ('loved', 2), ('loved:', 1), ('lover', 1), ('loves', 3), ('loves,', 2), ('loves.', 2), ('loving', 3), ('lovingly;', 1), ('low', 1), ('lowest', 1), ('luc.', 1), ('lucianus,', 1), ('lucianus.]', 1), ('lug', 1), ('lunacies.', 1), ('lunacy.', 1), ('lunacy?', 1), ('lungs', 1), ('lungs?', 1), ('lust', 1), ('lust,', 1), ('luxury', 1), ('lying:', 1), ('machine', 1), ('mad', 11), ('mad!', 1), ('mad,', 3), ('mad.', 2), ('mad:', 2), ('mad?', 2), ('madam!', 2), ('madam,', 6), ('madam,--to', 1), ('madam.', 1), ('madam;', 1), ('made', 26), ('made,', 2), ('made,--', 1), ('made.', 1), ('madness', 11), ('madness,', 5), ('madness,--thoughts', 1), ('madness.', 2), ('madness:', 2), ('madness?', 1), ('maggots', 1), ('maggots:', 1), ('magic', 1), ('maid', 3), (\"maid's\", 1), ('maid,', 3), ('maiden', 2), ('maids', 1), (\"maids'\", 1), ('maimed', 1), ('main', 3), ('main,--', 1), ('mainly', 1), ('maintains', 1), ('majestical', 1), ('majestical,', 1), ('majesties', 2), ('majesty', 10), ('majesty,', 2), ('majesty.', 3), ('majesty;', 1), ('make', 53), ('make,', 1), ('make,--', 1), ('makes', 17), ('making', 3), ('malefactions;', 1), ('malicious', 2), ('mallecho;', 1), ('man', 33), ('man!', 1), (\"man's\", 5), ('man,', 9), ('man.', 5), ('man;', 3), ('mandate;', 1), ('manner', 1), ('manners,', 1), ('manners;--that', 1), ('mantle', 1), ('many', 17), ('many.', 1), ('mar.', 35), ('marble', 1), ('marcellus', 2), ('marcellus!', 1), ('marcellus,', 4), ('marcellus.', 1), ('marcellus.]', 3), ('marcellus?', 1), ('march', 2), ('march.', 1), ('march.]', 1), ('march?', 1), ('marching.]', 1), ('margent', 1), ('mark', 9), ('mark,', 1), ('mark.', 4), ('market', 1), ('marriage', 2), ('marriage,', 1), ('marriage-vows', 1), ('marriage.', 1), ('marriage;', 1), ('marriages:', 1), ('married', 1), ('married:--', 1), ('marrow', 1), ('marry', 2), ('marry!', 1), ('marry,', 13), (\"mars's\", 1), ('mars,', 1), ('marshal', 1), ('mart', 1), ('martial', 1), ('marvel', 1), ('marvellous', 2), ('mason,', 2), ('mass', 1), ('mass,', 4), ('massy', 1), (\"master's\", 1), ('masterly', 1), ('masters', 1), ('masters;', 1), ('match', 1), (\"match'd,\", 1), ('matin', 1), (\"matron's\", 1), ('matter', 12), ('matter,', 3), ('matter,--', 1), ('matter.', 4), ('matter:', 3), ('matter;', 1), ('matter?', 3), ('matters', 1), ('matters?', 1), ('may', 65), ('may!', 1), ('may,', 1), ('may.', 2), ('may;', 1), ('mayst', 1), ('mazard', 1), ('me', 142), ('me!', 4), ('me!--', 1), (\"me'?\", 1), ('me,', 33), ('me,--', 1), ('me,--with', 1), ('me.', 21), ('me.--stay,', 1), ('me.--well,', 1), ('me:', 10), (\"me:'\", 1), ('me:--this', 1), ('me:--we', 1), ('me;', 8), ('me?', 8), ('me?--', 1), ('mean', 2), ('mean,', 7), ('mean?', 1), ('meaning:', 1), ('means', 13), ('means,', 5), ('means.', 2), ('meant', 3), ('meant?', 1), ('meantime', 2), ('meats', 1), ('medicine', 1), ('meditation', 1), ('meed', 1), ('meet', 4), ('meet.', 3), ('meet.--', 1), ('meeting', 1), ('meeting:', 1), ('melancholy', 1), ('melancholy,--', 1), ('mellow', 1), ('melodious', 1), ('melt', 1), ('melt,', 1), ('memory', 7), ('memory,', 2), ('memory;', 1), ('men', 8), (\"men's\", 3), ('men,', 1), ('men,--', 1), ('men.', 1), ('mend', 1), ('mercury', 1), ('mercy', 3), ('mercy,', 1), ('mercy:', 1), ('mere', 3), ('merely', 1), ('merely.', 1), ('merit', 2), ('mermaid-like,', 1), ('merriment,', 1), ('merry,', 1), ('merry?', 1), ('mess.', 2), ('mess;', 1), ('message,', 1), ('messenger', 1), ('messenger.]', 2), ('messengers,', 2), ('met', 1), ('metal', 1), ('metals', 1), ('methinks', 3), ('methinks.', 1), ('method', 1), ('method,', 1), ('methought', 4), ('mettle', 1), ('mew,', 1), ('miching', 1), ('middle', 2), ('midnight', 1), ('might', 28), (\"might';--\", 1), ('might,', 2), ('mightier:', 1), ('mightiest', 1), ('mighty', 1), ('mighty,--you', 1), ('milch', 1), ('milk,', 1), ('milky', 1), (\"milldew'd\", 1), ('million,', 1), ('millions', 1), ('mincing', 1), ('mind', 7), (\"mind's\", 2), ('mind,', 2), ('mind,--though', 1), ('mind.', 1), ('mind;', 1), ('minds', 1), ('minds.', 1), ('mine', 25), ('mine!', 1), ('mine,', 1), ('mine,--', 1), ('mine,--an', 1), ('mine.', 2), ('mine;', 2), ('mineral', 1), ('mines', 1), ('mining', 1), ('minister.', 1), ('ministering', 1), ('ministers', 1), ('minute;', 1), ('minutes', 1), ('miraculous', 1), ('mirror', 1), ('mirror,', 1), ('mirth', 1), ('mirth,', 1), ('mischance', 2), ('mischief.', 1), ('miss', 1), ('mistook', 1), ('mistress', 2), ('mistress!', 1), ('mixture', 1), ('moan:', 1), ('mobled', 2), ('mock', 4), ('mockery.', 1), ('model', 1), ('moderate', 1), ('modesties', 1), ('modesty', 3), ('modesty;', 1), ('moiety', 1), ('moist', 1), ('mole', 1), ('mole!', 1), ('moment', 1), ('moment,', 1), ('monarchs', 1), ('monday', 1), ('money', 2), ('monster', 1), ('monsters', 1), ('monstrous', 1), ('month,', 1), ('month,--', 1), ('month;', 2), ('months', 3), ('months,', 1), ('monument:', 1), ('mood', 1), ('moods,', 1), ('moon', 1), ('moon,', 2), ('moon:', 2), ('moons', 1), ('moor?', 1), ('mope.', 1), ('more', 76), ('more!', 1), ('more,', 7), ('more.', 5), ('more:', 4), ('more:--the', 1), ('more;', 3), ('moreover', 1), ('morn', 1), ('morn,', 2), ('morning', 4), ('morning;', 1), ('morrow,', 1), ('mortal', 5), (\"mortis'd\", 1), ('most', 82), ('mote', 1), ('mother', 13), ('mother!', 1), ('mother!--but', 1), (\"mother's\", 6), ('mother,', 13), ('mother.', 6), ('mother.--', 1), ('mother.--come,', 1), ('mother:', 2), ('mother;', 1), ('mothers,', 1), ('motion', 1), ('motion,', 2), ('motion:', 1), ('motive', 2), ('motive,', 3), ('mould', 1), ('moult', 1), ('mount', 1), ('mount,', 1), ('mountain', 3), ('mountains', 1), ('mountains,', 1), ('mountebank,', 1), (\"mourn'd\", 1), ('mourners', 1), ('mourning', 1), ('mouse', 1), ('mouse-trap.', 1), ('mouse;', 1), ('mouth', 2), ('mouth,', 4), ('mouthed,', 1), ('mouths', 2), (\"mov'd,\", 1), ('move', 5), ('move;', 1), ('moves', 2), ('moving,', 1), ('much', 44), ('much,', 3), ('much:', 1), ('muddied,', 1), ('muddy', 1), ('muddy-mettled', 1), ('multitude,', 1), ('murder', 6), ('murder!', 2), ('murder!--', 1), ('murder!--pray', 1), (\"murder'd,\", 1), ('murder,', 1), ('murder,--', 1), ('murder.', 1), ('murderer', 2), ('murderer;', 1), ('murdering', 1), ('murderous,', 1), ('murders:', 1), ('music', 2), ('music!', 2), ('music,', 1), ('music.', 2), ('music:', 1), ('must', 58), ('must,', 1), ('must:', 1), ('musty.', 1), ('mute', 1), ('mutes', 1), ('mutes,', 1), ('mutine', 1), ('mutinies', 1), ('my', 512), ('myself', 4), ('myself,', 2), ('myself,--', 2), ('myself,--lawful', 1), ('myself.', 2), ('myself;', 1), ('mystery;', 1), ('naked', 1), ('name', 6), (\"name's\", 1), ('name,', 3), ('name.', 1), ('name;', 1), ('napkin,', 1), ('narrow', 1), ('nasty', 1), ('nation', 2), ('nation.', 1), ('nations:', 1), ('native', 4), ('natural', 4), ('natural,', 1), ('nature', 15), (\"nature's\", 2), ('nature,', 8), ('nature:', 1), ('nature;', 3), ('natures.', 1), ('naught,', 1), ('naught:', 1), ('nave', 1), ('nay', 1), ('nay,', 24), (\"ne'er\", 3), ('near', 7), ('near,', 1), ('near.', 1), ('near;', 1), ('nearer', 2), ('necessaries', 1), ('necessary', 2), ('necessity,', 1), ('neck', 2), ('neck:', 1), ('need', 3), ('need,', 1), ('needful', 2), ('needs', 7), ('neglect.', 1), ('neglected', 2), ('negligence,', 1), ('neighbour', 1), (\"neighbour'd\", 1), ('neither', 5), ('neither,', 3), ('neither.', 1), ('neither;', 1), ('nemean', 1), ('nephew', 3), (\"nephew's\", 2), (\"neptune's\", 2), ('nero', 1), ('nerve.--', 1), ('nettles,', 1), ('neutral', 1), ('never', 24), ('never,', 2), ('new', 3), ('new-born', 1), (\"new-hatch'd,\", 1), ('newly', 1), ('news', 6), ('news,', 1), ('news.', 1), ('news?', 2), ('next', 3), ('next,', 2), ('nickname', 1), ('niggard', 1), ('night', 11), ('night!', 1), (\"night's\", 1), ('night,', 13), ('night.', 3), ('night:', 2), ('night;', 1), ('nighted', 1), ('nightly', 1), ('nights', 3), ('nill', 1), ('nine', 2), ('nine;', 1), ('niobe,', 1), ('nipping', 1), ('no', 107), ('no!', 2), ('no,', 27), ('no.', 3), ('no;', 2), ('no?', 1), ('nobility', 1), ('noble', 17), ('nobler', 1), ('noblest', 1), ('nods,', 1), ('noise', 6), ('noise:', 1), ('noise?', 1), ('nomination', 1), ('nonce;', 1), ('none', 9), ('none,', 1), ('none.', 1), ('none:', 1), ('none;', 1), ('nonny', 1), ('nonny,', 2), ('nor', 37), ('norman', 1), ('norman.', 1), ('normandy,--', 1), ('north-north-west:', 1), ('northerly.', 1), ('norway', 2), ('norway,', 7), ('norway.', 1), ('norway;', 2), ('norway?', 1), ('nose', 1), ('nose?', 1), ('not', 270), ('not,', 18), ('not,--lost', 1), ('not.', 8), ('not:', 4), ('not:--withdraw;', 1), ('not;', 4), ('not?', 5), ('note', 5), ('note;', 1), ('noted', 1), ('notes,', 1), ('nothing', 19), ('nothing!', 1), (\"nothing's\", 1), ('nothing,', 3), ('nothing.', 3), ('nothing:', 2), ('nothing;', 2), ('now', 48), ('now!', 6), ('now,', 32), ('now-a-days', 1), ('now.', 3), ('now;', 4), ('now?', 4), ('nowhere', 1), ('numbers', 1), ('numbers;', 1), ('nunnery,', 3), ('nunnery.', 1), ('nunnery:', 1), ('nutshell,', 1), ('o', 46), (\"o'\", 11), (\"o'er\", 13), (\"o'er,\", 1), (\"o'er-crows\", 1), (\"o'er-leavens\", 1), (\"o'er-raught\", 1), (\"o'erbears\", 1), (\"o'erdoing\", 1), (\"o'ergrowth\", 1), (\"o'erhanging\", 1), (\"o'erhasty\", 1), (\"o'erhear\", 1), (\"o'ermaster't\", 1), (\"o'erreaches;\", 1), (\"o'errule\", 1), (\"o'ersized\", 1), (\"o'erstep\", 1), (\"o'ersways\", 1), (\"o'erteemed\", 1), (\"o'erthrown!\", 1), (\"o'ertook\", 1), (\"o'ertop\", 1), (\"o'erweigh\", 1), (\"o'erwhelm\", 1), ('o,', 57), ('oath,', 2), ('oaths:', 1), ('obedience,', 2), ('obey', 4), ('obey,', 3), ('obeys;', 1), ('object', 1), ('objects,', 1), ('obligation', 1), ('obligation,', 1), ('oblivion,', 1), ('obscure', 1), ('obsequies', 1), ('obsequious', 1), (\"observ'd\", 1), ('observance,', 1), ('observance.', 1), ('observant', 1), ('observation', 1), ('observe', 3), ('observers,--quite,', 1), ('obstinate', 1), ('occasion', 2), ('occasion.', 1), ('occasions', 2), ('occulted', 1), ('occurrents,', 1), ('ocean,', 1), ('odd', 2), (\"odd's\", 1), ('odds', 1), ('odds.', 2), ('of', 667), ('of!--hold', 1), ('of,', 1), ('of.', 1), ('of:', 1), ('of?', 1), ('off', 13), ('off,', 3), ('off.', 2), ('off.]', 1), ('off;', 1), ('offal:', 1), ('offence', 5), (\"offence's\", 1), ('offence,', 1), ('offence.', 1), ('offence?', 2), ('offences', 1), ('offend', 1), ('offended.', 3), ('offendendo;', 1), (\"offender's\", 1), ('offends', 1), ('offer', 2), (\"offer'd\", 1), ('offer,', 1), ('office,', 1), ('officer.', 2), ('officers', 1), ('officers,', 1), ('offices.', 1), ('oft', 11), ('oft.', 1), ('often', 3), ('old', 19), ('old,', 1), ('olympus.', 1), ('omen', 1), ('ominous', 1), ('on', 109), ('on!--you', 1), (\"on't!\", 1), (\"on't,\", 1), (\"on't,--frailty,\", 1), (\"on't.\", 1), (\"on't:\", 1), (\"on't;\", 1), (\"on't?\", 3), ('on,', 4), ('on,--', 3), ('on.', 6), ('on.--', 1), ('on:', 2), ('on;', 3), ('once', 11), ('once!', 1), ('once,--but', 1), ('once.', 2), ('once:', 1), ('once;', 2), ('one', 34), ('one,', 3), ('one,--', 1), ('one.', 4), ('one.--to', 1), ('one;', 3), ('one?', 1), ('ones', 2), ('only', 6), (\"op'd\", 1), ('ope', 1), ('open', 2), (\"open'd,\", 1), ('operant', 1), ('oph.', 58), ('ophelia', 1), ('ophelia!', 3), ('ophelia!--', 1), ('ophelia!--nymph,', 1), (\"ophelia's\", 1), ('ophelia,', 12), (\"ophelia,'--\", 1), ('ophelia--', 1), ('ophelia.]', 5), ('ophelia:', 1), ('ophelia;', 2), ('ophelia?', 2), ('opinion,', 1), ('opinions', 1), ('opinions;', 1), (\"oppos'd\", 1), ('opposed', 1), ('opposing', 1), ('opposite', 1), ('opposites.', 1), ('opposition', 1), ('opposition,', 1), (\"oppress'd\", 1), ('oppression', 1), (\"oppressor's\", 1), ('or', 109), ('or,', 2), ('or,--not', 1), ('orb', 1), ('orbed', 1), ('orchard,', 2), ('order', 2), ('order,', 1), ('orderly', 1), ('ordinant.', 1), ('ordnance', 3), ('ore', 1), ('organ,', 2), ('organ.', 1), ('origin', 1), ('origin,--', 1), ('orisons', 1), ('osr.', 25), ('osric', 1), ('osric,', 3), ('osric.', 1), ('osric.]', 2), ('osric;', 1), ('ossa', 1), ('ostentation,--', 1), ('other', 11), ('other,--', 1), ('other;', 3), ('others', 2), ('others,', 1), ('others.', 1), ('others.]', 2), ('otherwise:', 1), ('otherwise?', 1), ('otherwise?--', 1), ('our', 119), ('ours,', 2), ('ourself', 2), ('ourself;', 1), ('ourselves', 9), ('ourselves,', 1), ('ourselves.', 2), ('ourselves.--[to', 1), ('out', 43), ('out,', 7), ('out-herods', 1), ('out.', 2), ('out.--adieu,', 1), ('out.]', 1), ('out:', 1), ('out;', 1), ('outbreak', 1), ('outface', 1), ('outlive', 1), ('outlives', 1), ('outrageous', 1), (\"outstretch'd\", 1), ('outward', 2), ('outward,', 1), ('over', 4), ('over-happy;', 1), ('overcame', 1), ('overcome', 1), ('overdone', 1), ('overdone,', 1), ('overlooked', 1), ('overpeering', 1), ('overthrown;', 1), ('owl', 1), ('own', 35), ('own.', 1), ('own:', 1), ('own;', 1), ('owner', 1), ('p.', 9), ('pace', 1), ('pace:', 1), ('packet;', 1), ('packing:', 1), ('paddling', 1), ('paddock,', 1), ('pagan,', 1), ('pah!', 1), ('paid', 1), ('pain,', 1), ('paint', 1), ('painted', 2), ('painting', 1), ('paintings', 1), ('pair', 2), ('pale', 6), ('pale.', 1), ('pale:', 1), ('pales', 1), ('palm', 2), ('palmy', 1), ('palpable', 1), ('panders', 1), ('pangs', 1), ('pansies,', 1), ('paper.]', 1), ('paradox,', 1), ('paragon', 1), ('parching', 1), ('parchment', 1), ('pardon', 4), (\"pardon'd\", 2), (\"pardon't,\", 1), ('pardon,', 1), ('pardon.', 1), ('paris;', 1), ('parle,', 1), ('parley.', 1), ('part', 19), ('part,', 5), ('part:', 1), ('partial,', 1), ('particular', 7), ('particular:', 1), ('partisan?', 1), ('parts', 3), ('party', 1), ('pass', 5), ('pass,', 1), ('passage,', 1), ('passage?', 1), ('passages', 1), ('passes', 1), ('passeth', 1), ('passing', 3), ('passion', 6), (\"passion's\", 1), ('passion,', 4), ('passion.', 1), ('passionate', 2), ('past,', 1), ('past.', 1), ('past;', 1), ('pastime.', 1), ('pastime?', 1), ('pastoral,', 1), ('pastoral-comical,', 1), ('pastors', 1), ('pat,', 1), ('patch', 2), ('patches!--', 1), ('pate', 4), ('path', 1), ('patience', 3), ('patience!', 1), ('patience.', 1), ('patient', 2), ('patient:', 1), ('patiently.', 1), ('patrick,', 1), ('pause', 1), ('pause,', 1), ('pause:', 2), ('pay', 3), ('pay,', 1), ('pays', 1), ('peace', 2), ('peace!', 1), ('peace,', 2), ('peace-parted', 1), ('peace.', 3), ('peace;', 2), ('peak,', 1), ('peal', 1), ('pearl', 1), ('peasant', 2), ('peating', 1), ('pebbles', 1), ('peculiar', 1), ('peep', 1), ('peep;', 1), ('peevish', 1), ('pelican,', 1), ('pelion', 1), ('pendant', 1), ('penetrable', 1), ('people', 1), (\"perceiv'd\", 1), ('perceive?', 1), ('perchance', 3), ('perchance,', 2), ('perdition', 1), ('perdy.', 1), ('perfect', 1), ('perfections:--but', 1), (\"perform'd\", 1), (\"perform'd,\", 1), ('perform:', 1), ('performance.', 1), ('perfume', 2), ('perhaps', 4), ('perhaps,', 1), ('perilous', 1), ('periwig-pated', 1), ('permanent,', 1), ('pernicious', 1), ('perpend.', 1), ('persevere', 1), ('person', 2), ('person,', 1), ('person:', 1), ('personal', 1), ('persons', 2), ('persuade', 1), ('perturbed', 1), ('perusal', 1), ('peruse', 1), ('pester', 1), ('pestilence', 1), ('pestilent', 2), ('petard:', 1), ('petition;', 1), ('petty', 2), ('philosophy', 1), ('philosophy.', 1), (\"phoebus'\", 1), ('phrase', 5), ('phrase,', 3), ('phrase:', 1), ('phrase;', 1), ('physic', 1), ('pickaxe', 1), ('picked', 2), ('pickers', 1), ('picture', 1), ('picture,', 1), ('pictures', 1), ('piece', 5), ('piece,', 1), ('pierce', 1), (\"pigeon-liver'd,\", 1), ('pile', 1), (\"pin's\", 1), ('pinch', 1), ('pioner!--once', 1), ('pious', 3), ('pipe', 1), ('pipe?', 2), ('pirate', 1), ('pit', 2), ('pit!', 1), ('piteous', 3), ('pith', 3), ('pitied.', 1), ('pitiful', 1), ('pity', 3), ('pity;', 1), (\"plac'd\", 1), (\"plac'd,\", 1), ('place', 4), ('place,', 3), ('place.', 2), ('placed', 1), ('places', 1), ('plague', 1), ('plague,', 1), ('plain', 2), ('planets', 1), ('plastering', 1), ('platform', 2), ('platform,', 1), ('platform.', 1), ('plausive', 1), ('plautus', 1), ('play', 17), (\"play'd\", 2), (\"play's\", 1), ('play,', 4), ('play,--and', 1), ('play,--i', 1), ('play.', 11), ('play.--', 1), ('play.]', 4), ('play:', 1), ('play;', 2), ('play?', 2), ('played', 1), ('player', 2), ('player.', 2), ('player.]', 1), ('players', 11), ('players,', 3), ('players,--as', 1), ('players.', 2), ('players.]', 4), ('players;', 1), ('playing,', 2), ('plays', 1), (\"pleas'd\", 1), ('pleasant', 1), ('please', 9), ('please.', 1), ('please;', 2), ('pleased', 1), ('pleasing', 1), ('pleasure', 2), ('pleasure.', 1), ('pleasure:', 1), ('pleasures', 1), ('pleasures,', 1), ('pledge.', 1), ('plentiful', 1), ('plot', 1), ('plots', 2), ('pluck', 3), ('plucks', 2), ('plum-tree', 1), ('plunge', 1), ('plurisy,', 1), ('ply', 1), ('pocket!', 1), ('pocky', 1), ('poem', 1), ('poet', 1), ('point', 5), ('point:', 1), ('points', 1), ('poison', 6), (\"poison'd\", 2), (\"poison'd.\", 1), (\"poison'd:\", 1), ('poisoner', 2), ('poisoning?--', 1), ('poisons', 1), ('pol.', 86), ('polack', 2), ('polack:', 1), ('polack;', 1), ('polacks', 1), ('poland,', 2), ('poland.', 1), ('pole', 2), ('policy', 1), ('politic', 1), ('politician,', 1), ('poll:', 1), ('polonius', 3), (\"polonius'\", 1), (\"polonius's\", 2), ('polonius,', 6), ('polonius.', 3), ('polonius.]', 19), ('polonius?', 3), ('pomp;', 1), ('ponderous', 1), ('poniards,', 1), ('pooh!', 1), ('poor', 20), (\"popp'd\", 1), ('porches', 1), ('porcupine:', 1), ('portal!', 1), ('portentous', 1), ('portraiture', 1), ('positively', 1), ('possess', 1), (\"possess'd\", 1), ('possession', 1), ('posset', 1), ('possible', 2), ('possible?', 2), ('post', 1), ('post-haste', 1), ('post.', 1), ('postscript', 1), ('posy', 1), ('potency.', 1), ('potent', 2), ('potently', 1), ('potion.--is', 1), ('pound!', 1), ('pour', 1), (\"pour'd\", 1), ('pours', 1), ('power', 7), ('power;', 1), ('powerfully', 1), ('powers', 2), ('powers,', 1), ('pox,', 1), (\"pr'ythee,\", 2), ('practice', 2), ('practice,', 1), ('practice:', 1), ('practices', 1), (\"prais'd\", 1), ('praise', 1), ('praise,', 1), ('praised', 1), ('praises', 1), ('pranks', 1), ('prate', 1), ('pray', 23), (\"pray'st\", 1), ('pray,', 1), ('pray.', 2), ('pray;', 1), ('prayer', 2), ('prayers,', 2), ('praying;', 1), ('preaching', 1), ('precedent', 2), ('preceding', 1), ('precepts', 2), ('precious', 2), ('precisely', 1), ('precurse', 1), ('pregnant', 2), ('prenominate', 1), (\"prepar'd\", 1), ('preparation', 1), ('preparations,', 1), ('prepare', 3), ('presence', 2), ('presence;', 1), ('present', 4), ('presently', 2), ('presently.', 2), ('presently:--o,', 1), ('presentment', 1), ('pressure.', 1), ('pressures', 1), ('prettiness.', 1), ('pretty', 2), ('prevent', 1), ('prevent,', 1), ('prey', 1), ('priam', 2), (\"priam's\", 1), ('priam,', 1), ('priam.--', 1), ('prick', 1), (\"prick'd\", 1), ('pride,', 1), ('priest,', 1), ('priest.', 3), ('priests,', 1), ('primal', 1), ('primrose', 1), ('primy', 1), ('prince', 2), ('prince,', 2), ('prince;', 1), ('princes', 1), ('prison', 2), ('prison,', 1), ('prison-house,', 1), ('prison.', 2), ('prisoner', 1), ('prisoner.', 1), ('prithee', 1), ('private', 1), ('privates', 1), ('privy', 1), ('prize', 1), ('pro.', 1), ('probation.', 1), ('proceed', 1), ('proceed?', 1), ('proceeded', 1), ('proceeding', 1), ('process', 1), ('process;', 2), ('procession;', 1), ('proclaim', 2), (\"proclaim'd\", 1), ('proclaims', 2), ('prodigal', 2), ('profane', 1), ('profanely,', 1), ('profession.', 1), ('profit', 2), ('profit,', 1), ('profound', 2), ('profoundest', 1), ('progress', 1), ('project', 1), ('prologue', 3), ('prologue,', 1), ('prologue.]', 1), ('prolongs', 1), (\"promis'd\", 2), ('promise,', 1), ('promise-crammed:', 1), ('promontory;', 1), ('prompted', 1), (\"pronounc'd:\", 1), ('pronounced', 1), ('pronouncing', 1), ('proof', 3), ('proof,', 1), ('proof.', 2), ('proper', 2), ('property', 4), ('prophesy', 2), ('prophetic', 1), ('proportions', 1), ('propose', 1), ('propose,', 1), ('proposer', 1), ('props', 1), ('prosperously', 1), ('protestation', 1), ('protests', 1), ('proud', 2), ('proud,', 1), (\"prov'd\", 2), (\"prov'd,--that\", 1), ('prove', 2), ('prove,', 1), ('proverb', 1), ('provide:', 1), ('provided', 1), ('providence', 2), ('provincial', 1), ('provoke', 1), ('public', 1), (\"puff'd\", 1), (\"puff'd,\", 1), (\"pull'd\", 1), ('pulse,', 1), ('punish', 1), (\"punish'd\", 1), ('puppets', 1), ('purchases,', 1), ('pure', 2), ('pure:', 1), ('purer', 1), (\"purg'd\", 1), ('purgation', 1), ('purging', 2), ('purples,', 1), ('purport', 1), (\"purpos'd\", 1), (\"purpos'd,\", 1), ('purpose', 6), ('purpose,', 3), ('purpose,--to', 1), ('purpose.', 2), ('purposes', 1), ('purposes.', 1), ('purposes;', 1), ('purse', 2), ('purse,', 1), (\"pursu'd\", 1), (\"pursu'st\", 1), ('pursue', 2), ('pursy', 1), ('push.--', 1), ('put', 24), ('puts', 4), ('pyrrhus', 4), (\"pyrrhus'\", 3), ('pyrrhus,', 1), ('pyrrhus,--he', 1), ('pyrrhus:--', 1), ('quaintly', 1), ('quake', 1), ('qualifies', 1), ('quality', 3), ('quality:', 1), ('quantity', 3), ('quantity;', 1), ('quarrel', 1), ('quarrel;', 1), ('quarrelling,', 1), ('quarry', 1), (\"quarter'd,\", 1), ('queen', 19), ('queen!', 1), (\"queen'\", 1), (\"queen'?\", 1), ('queen,', 15), ('queen,--', 1), ('queen.', 76), ('queen.]', 3), ('queen:', 1), ('queen?', 1), ('quest', 1), ('question', 9), ('question,', 3), ('question.', 2), ('question:--', 1), ('question;', 1), ('questionable', 1), ('quick', 6), ('quick:', 1), ('quick;', 1), ('quickly', 1), ('quickness:', 1), ('quicksilver,', 1), ('quiddits', 1), ('quiet', 4), ('quiet.', 1), ('quietly', 1), ('quietus', 1), ('quillets,', 1), ('quills', 1), ('quintessence', 1), ('quit', 2), ('quite', 3), ('quoted', 1), ('quoth', 1), ('rabble', 1), ('race', 1), ('rack', 1), ('radiant', 1), ('rage', 1), ('rage!', 1), ('rage;', 1), ('rages,', 1), ('rags,', 1), ('rain', 1), (\"rain'd\", 1), (\"rais'd\", 1), ('range.', 1), ('rank', 5), ('rank,', 2), ('ranker', 1), ('ranker.', 1), ('rankly', 1), ('rant', 1), ('rapier', 2), ('rapier,', 1), ('rapiers', 2), ('rapiers,', 1), ('rare,', 1), ('rareness', 1), ('rascal,', 1), ('rash', 1), ('rash,', 2), ('rashly,', 1), ('rashness', 1), (\"rat!'\", 1), ('rat,', 1), ('rat?', 1), ('rate', 1), ('rate,', 1), ('rather', 4), ('rather,', 1), ('ratified', 1), ('ratifiers', 1), ('ravel', 1), ('raven', 1), ('raves,', 1), ('raw', 1), ('rawer', 1), ('razed', 1), ('re-deliver', 1), ('re-deliver.', 1), ('re-speaking', 1), ('re-word;', 1), ('reach,', 1), ('reaches', 1), ('read', 2), ('read,', 3), ('read.', 1), ('readiness', 1), ('reading.', 1), ('reading.]', 1), ('ready,', 1), ('ready.', 1), ('ready;', 1), ('ready?', 1), ('really.', 1), ('realm', 1), ('rear', 1), ('reason', 8), ('reason!', 1), ('reason,', 3), ('reason.', 1), ('reason;', 1), ('reasons,', 1), ('reasons;', 1), ('rebellion', 1), ('rebellious', 2), ('rebels,', 1), ('rebuke', 1), (\"receiv'd\", 2), ('receive', 7), ('received', 1), ('receives', 1), ('reckless', 1), ('reckon', 1), ('reckoning', 1), ('recks', 1), ('recognizances,', 1), ('reconcilement', 1), ('recorders!--', 1), ('recorders.]', 1), ('recorders:--let', 1), ('records,', 1), ('recount', 1), ('recover', 3), ('recoveries,', 1), ('recoveries:', 1), ('recovery', 1), ('red', 1), ('red?', 1), ('reechy', 1), ('reels;', 1), ('reform', 1), (\"reform'd\", 1), ('refrain', 1), ('regard,', 2), ('regards', 1), ('region', 1), ('region;', 1), ('reigns', 1), ('relative', 1), ('relief', 1), (\"reliev'd\", 1), (\"reliev'd,\", 1), ('religion', 1), ('religious', 1), ('relish', 2), ('remain', 2), ('remainder', 1), ('remains', 2), ('remains,', 1), ('remedy.', 1), ('remember', 6), (\"remember'd.\", 1), ('remember,', 2), ('remember,--', 1), ('remember:', 1), ('remember?', 1), ('remembrance', 2), ('remembrance.', 1), ('remembrance;', 1), ('remembrances', 1), ('remiss,', 1), ('remorse', 1), ('remorseless,', 1), ('remote', 1), ('remove,', 1), ('remove:', 1), ('removed', 1), ('rend', 1), ('render', 1), ('rendezvous.', 1), ('repair', 2), ('repast', 1), ('repel', 1), ('repent', 1), ('repent;', 1), ('repent?', 1), ('repentance', 1), ('replication', 1), ('replies', 1), ('reply.', 1), ('reply:', 1), ('report', 5), ('repose', 1), ('represented.', 1), ('repugnant', 1), ('repulsed,--a', 1), ('reputation', 1), ('request.', 1), ('requiem', 1), ('requite', 2), ('resemble', 1), ('resembles', 1), (\"reserv'd\", 1), ('reserve', 1), ('residence,', 1), ('resolutes,', 1), ('resolution', 1), ('resolve', 1), ('resort,', 1), ('respect', 2), ('respects', 1), ('responsive', 1), ('rest', 10), ('rest!', 2), ('rest,', 2), ('rest;', 1), ('restore', 1), (\"restrain'd,\", 1), ('rests?', 1), ('retain', 1), ('retire', 1), ('retirement,', 1), ('retrograde', 1), ('return', 3), (\"return'd\", 2), (\"return'd--\", 1), (\"return'd.\", 1), ('return,', 1), ('return.', 1), ('returneth', 1), ('returns,', 1), ('returns,--puzzles', 1), ('reveal', 1), ('revel', 1), ('revels,', 1), (\"reveng'd\", 1), (\"reveng'd,\", 1), (\"reveng'd.--that\", 1), ('revenge', 5), ('revenge!', 1), ('revenge,', 2), ('revenge.', 3), (\"revenge.'\", 1), ('revengeful,', 1), ('revenue', 1), ('reverend', 1), ('reverted', 1), (\"revisit'st\", 1), ('revolution,', 1), ('rewards', 1), ('rewards,', 1), ('rey.', 13), ('reynaldo,', 2), ('reynaldo.', 1), ('reynaldo.]', 2), ('reynaldo?', 1), ('rhapsody', 1), ('rhenish', 2), ('rheum;', 1), ('rhymed.', 1), ('riband', 1), ('rich', 1), ('rich,', 1), ('rich;', 1), ('richer', 2), ('right', 4), ('right!--', 1), ('right,', 2), ('right.', 2), ('right;', 2), ('rightly', 1), ('rights', 2), ('ring.--masters,', 1), ('ring?', 1), ('riotous', 1), ('ripe', 1), ('rise', 1), ('rise,', 1), ('rises', 2), ('rises.', 1), ('rite', 1), ('rites', 1), ('rites,', 1), ('rites?', 1), ('rivals', 1), ('river', 1), ('rivet', 1), ('roar', 1), ('roar?', 1), ('roars', 1), ('roasted', 1), ('robe,', 1), ('robin', 1), ('robustious', 1), ('rock', 1), ('rogue', 1), ('rogue!', 1), ('romage', 1), ('roman', 2), ('rome,', 1), ('rome,--', 1), ('rood,', 1), ('roof', 1), ('room', 14), ('room.--', 1), ('ros', 1), ('ros,', 1), ('ros.', 51), ('roscius', 1), ('rose', 4), ('rosemary,', 1), ('rosencrantz', 15), ('rosencrantz!', 1), ('rosencrantz,', 8), ('rosencrantz.]', 1), ('rosencrantz:', 1), ('roses', 1), ('rot?', 1), ('rots', 1), ('rotten', 2), ('rough-hew', 1), ('roughly', 1), ('roughly.', 1), ('round', 6), ('rouse', 1), ('rouse,', 1), ('rouse;', 1), ('roused', 1), ('row', 1), ('royal', 3), ('royally:', 1), ('rub', 1), ('rub;', 1), ('rude', 2), ('rue', 2), ('rugged', 2), ('ruin.', 1), (\"rul'd\", 1), (\"rul'd;\", 2), ('rule,', 1), ('run', 2), ('runs', 2), ('russet', 1), ('rusty?', 1), ('sable', 2), ('sables', 1), ('sables.', 1), ('sacred', 1), ('sadly', 1), ('sadness;', 1), ('safe', 2), ('safely', 1), ('safely,', 1), ('safety', 3), ('safety,', 1), ('safety,--', 1), ('said', 8), ('said,', 3), ('said.', 2), ('said;', 2), ('sail,', 2), ('sail.', 1), ('sailor.', 2), ('sailors,', 3), ('sailors.]', 1), ('saint', 3), ('salary,', 1), (\"sale,'--\", 1), ('sallets', 1), ('salt', 2), ('salt,', 1), ('salvation', 1), ('salvation?', 1), ('same', 10), ('same,', 1), ('same.', 1), ('sanctified', 1), ('sanctuarize;', 1), ('sandal', 1), ('sanity', 1), ('sans', 1), ('sat', 2), ('sate', 1), ('satirical', 1), ('satisfaction;', 1), ('satisfied', 1), ('satyr;', 1), ('savageness', 1), ('save', 5), (\"saviour's\", 1), ('savoury,', 1), ('saw', 12), (\"saw't.\", 1), ('saws', 1), ('say', 32), ('say!', 1), (\"say'st\", 1), (\"say'st:\", 1), ('say,', 14), ('say,--', 1), ('say.', 2), ('say;', 1), ('say?', 1), ('say?--', 1), ('saying', 1), ('says', 7), ('says:', 1), ('scale', 2), ('scandal', 1), ('scandal.', 1), (\"scann'd:\", 1), ('scant', 1), ('scanter', 1), ('scape', 2), ('scarce', 2), ('scarcely', 2), (\"scarf'd\", 1), ('scene', 23), ('scene.', 1), ('scenes,', 1), ('scent', 1), (\"scholar's,\", 1), ('scholar;', 1), ('scholars,', 1), ('school', 1), ('schoolfellows,--', 1), ('sconce', 1), ('scope', 2), ('scope!', 1), ('scopes', 1), ('scorn', 1), ('scorns', 1), ('scourge', 2), (\"scratch'd\", 1), (\"screen'd\", 1), ('scrimers', 1), ('scripture', 1), ('scripture?', 1), ('scruple', 1), ('scuffling,', 1), ('scullion!', 1), ('se', 1), ('sea', 4), ('sea,', 2), ('sea-fight;', 1), ('sea-gown', 1), (\"seal'd\", 4), (\"seal'd:\", 1), (\"seal'd?\", 1), ('seal,', 2), ('seal:', 1), ('seals', 1), ('search.', 1), ('seas,', 1), ('season', 5), (\"season'd\", 1), ('season,', 1), ('seasons', 1), ('seat', 1), ('seat;', 1), ('seated', 1), ('second', 10), ('second,', 1), ('secrecy', 2), ('secrecy,', 1), ('secret', 2), ('secret,', 1), ('secret?', 1), ('secrets', 1), ('secure', 2), ('seduce!--won', 1), ('see', 31), ('see!', 1), (\"see'st\", 1), (\"see't.\", 1), ('see,', 4), ('see.', 3), ('see:', 2), ('see:--', 2), ('see;', 1), ('see?', 1), ('seed;', 1), ('seeing', 2), ('seeing,', 1), ('seeing;', 1), ('seek', 9), ('seeks', 1), (\"seeks.'\", 1), ('seem', 9), (\"seem'd\", 2), ('seem;', 1), ('seeming', 2), ('seeming-virtuous', 1), ('seeming.', 1), ('seems', 5), ('seems,', 1), ('seems.', 1), ('seen', 17), ('seen,', 3), ('seen.', 1), ('seen;', 1), ('sees', 1), (\"seiz'd\", 1), ('select', 1), ('self', 1), ('self-slaughter!', 1), ('semblable', 1), ('send', 4), ('sending', 1), ('sending.', 1), ('sends', 3), ('seneca', 1), ('sense', 7), ('sense,', 3), ('sense.', 2), ('sense:', 1), ('senseless', 2), ('sensible', 1), ('sensibly', 1), ('sent', 12), ('sent;', 1), ('sepulchre,', 1), ('sequel', 1), ('sequent', 1), ('sere;', 1), ('sergeant,', 1), ('serious', 1), ('serpent', 2), (\"serv'd\", 1), (\"serv'd;\", 1), ('servant', 2), ('servant.', 1), ('servant.]', 2), ('servants', 1), ('servants;', 1), ('serve', 2), ('serves', 2), ('service', 4), ('service,--two', 1), ('service.', 3), ('set', 22), ('sets', 2), ('settled', 1), ('seven', 1), ('several', 1), ('severally;', 1), ('sewing', 1), ('sexton', 1), (\"sexton's\", 1), ('shadow', 1), (\"shadow's\", 1), ('shadow.', 2), ('shadows.', 1), ('shake', 2), ('shakespeare', 1), ('shaking', 1), ('shall', 106), ('shall,', 7), ('shall;', 1), ('shalt', 5), ('shame', 4), ('shame!', 3), ('shame,', 1), ('shameful', 1), ('shape', 3), ('shape,', 1), ('shape:', 1), ('shape;', 1), ('shapes', 2), ('shards,', 1), ('share.', 1), (\"shark'd\", 1), ('sharp', 1), ('shatter', 1), ('she', 43), (\"she'll\", 2), (\"she's\", 2), ('she,', 3), ('she,--', 1), ('sheen', 1), ('sheep', 1), ('sheep-skins?', 1), ('sheet;', 1), ('sheeted', 1), ('sheets!', 1), ('shelf', 1), ('shell', 1), ('shent,', 1), ('shepherds', 1), ('shift', 1), ('shine:', 1), ('ship', 1), ('ship;', 1), (\"shipp'd\", 1), ('shipwright,', 2), ('shipwrights,', 1), ('shirt;', 1), ('shocks', 1), ('shoe?', 1), ('shoes', 1), ('shoes,', 1), ('shook', 1), ('shoon.', 1), ('shoot.', 1), ('short', 3), ('short,', 1), ('short:', 1), ('shortens', 1), ('shortly', 4), ('shot', 7), ('shot,--may', 1), ('should', 55), ('shoulder', 2), ('shoulder.]', 1), ('shouldst', 2), ('shove', 1), ('shovel,', 1), ('show', 20), (\"show'd\", 1), ('show,', 2), ('show;', 1), ('showers.', 1), ('showing:', 1), ('shown,', 1), ('shows', 9), ('shreds', 1), ('shrewdly;', 1), ('shrill-sounding', 1), ('shriving-time', 1), ('shroud', 1), ('shrouding', 1), ('shrunk', 1), ('shuffled', 1), ('shuffling,', 1), ('shuffling;--there', 1), ('shut', 1), ('sick', 4), ('sicklied', 1), ('sickly', 2), ('sickness', 1), ('sickness,', 1), ('side', 1), ('side.', 1), ('sides.', 1), ('sides.--how', 1), ('sides;', 1), ('siege.', 1), ('sift', 1), ('sigh', 2), ('sigh,', 2), ('sighs.', 1), ('sight', 3), ('sight,', 3), ('sight.', 1), ('sight;--', 1), ('sight?', 1), ('signet', 1), ('signify', 2), ('silence', 4), ('silence.', 1), (\"silver'd.\", 1), ('simple', 1), ('simples', 1), ('sin', 1), (\"sin's\", 1), ('sin,', 1), ('since', 15), ('since,', 2), ('since?', 1), ('sinews', 1), ('sinews,', 1), ('sing', 4), ('sing?', 1), ('singeing', 1), ('singeth', 1), ('single', 2), ('sings', 1), ('sings.]', 1), ('sinners?', 1), ('sins', 1), ('sipping,', 1), ('sir!', 2), ('sir,', 38), (\"sir,'\", 1), ('sir,--it', 1), ('sir--', 1), ('sir.', 12), ('sir.--', 1), ('sir:', 5), ('sir:--pronounce.', 1), ('sir;', 7), ('sir?', 6), ('sirs,', 1), ('sirs.', 1), ('sister', 2), (\"sister's\", 1), ('sister,', 3), ('sister;', 1), ('sit', 8), ('sith', 2), ('sits', 3), ('sits:', 1), ('sitting', 1), ('six', 4), ('sixteen', 1), (\"siz'd,\", 1), ('skill', 2), ('skill.', 1), ('skin', 1), ('skirts', 1), ('skull', 4), ('skull,', 2), ('skull.]', 3), ('skull].', 1), ('skyish', 1), ('slain', 1), ('slain!', 1), ('slain,', 1), ('slain:', 1), ('slain;', 1), ('slain?--o,', 1), ('slander', 1), ('slander,--', 1), ('slanders,', 1), ('slaughter:', 1), ('slaughters;', 1), ('slave', 4), (\"slave's\", 1), ('slave,', 1), ('slay', 1), ('sledded', 1), ('sleep', 4), ('sleep!', 1), ('sleep,', 1), ('sleep,--', 1), ('sleep.', 1), ('sleep:', 2), ('sleep;--', 1), ('sleep?', 1), (\"sleeper's\", 1), ('sleeping', 2), ('sleeping,', 1), ('sleeps', 2), ('sleeps:--say', 1), ('slender', 1), ('slight', 1), ('slightly', 1), ('slightly,', 1), ('slings', 1), ('slips', 1), ('sliver', 1), ('slow', 3), ('small', 1), ('smart', 1), (\"smear'd\", 1), ('smelling', 1), ('smells', 1), ('smelt', 1), ('smile,', 2), ('smiles', 1), ('smiling', 2), ('smiling,', 1), ('smooth', 2), ('smoothness.', 1), ('smote', 1), ('snatches', 1), ('snow,', 3), ('snow?', 1), ('snuff', 1), ('so', 143), ('so!--you', 1), ('so,', 16), (\"so,'\", 2), ('so,--as', 1), ('so.', 10), (\"so.'\", 1), ('so:', 8), ('so:--', 1), ('so;', 5), (\"so;'\", 1), ('so?', 7), ('soaks', 1), ('sober,', 1), ('society', 1), (\"soe'er\", 1), ('soft', 2), ('soft!', 5), ('soft,', 1), ('softly', 1), ('soil', 2), (\"soil'd\", 1), ('sold', 1), ('soldier', 2), (\"soldier's,\", 1), ('soldier;', 1), ('soldiers', 2), (\"soldiers'\", 1), ('soldiers,', 3), ('sole', 1), ('solemn', 3), ('soles', 1), ('solicited.--the', 1), ('solicitings,', 1), ('solid', 1), ('solidity', 1), ('some', 54), ('something', 12), ('something-settled', 1), ('something:--where', 1), ('sometime', 3), ('sometimes', 3), ('somever', 1), ('son', 11), (\"son's\", 1), ('son,', 5), ('son--', 1), ('son.', 2), ('son.--', 1), ('son.--go,', 1), ('son?', 1), ('song?', 1), ('songs,', 1), ('songs?', 1), ('sons,', 1), ('soon.--', 1), ('sooner', 2), ('sore', 3), ('sorrow', 4), ('sorrow,', 1), ('sorrow:', 1), ('sorrows', 1), ('sorry', 2), ('sorry,', 1), ('sorry,--', 1), ('sort', 2), ('sort,', 1), ('sorts', 1), ('soul', 17), ('soul!', 3), (\"soul's\", 1), ('soul,', 10), ('soul,--', 1), ('soul:', 1), ('soul;', 2), ('souls', 1), ('souls,', 2), ('souls.', 1), ('souls?', 1), ('sound', 3), ('sound,', 3), ('sound.', 1), ('sounded,', 1), ('source', 2), ('southerly', 1), ('sovereign', 3), ('sovereignty', 1), ('space,', 1), ('spacious', 1), ('spade,', 2), ('spade.', 1), ('spade:', 1), ('spades,', 1), ('spake,', 1), ('spark', 1), ('sparrow.', 1), ('speak', 42), ('speak!', 5), ('speak!--stop', 1), (\"speak';\", 1), ('speak,', 6), ('speak.', 4), ('speak:', 1), ('speak;', 3), ('speaks', 4), ('speaks,', 1), ('speaks:', 1), ('special', 3), ('spectators', 1), ('speech', 8), ('speech,', 5), ('speech.', 1), ('speech;', 2), ('speeches', 1), ('speechless,', 1), ('speed', 2), ('speed,', 1), ('speedier,', 1), ('speedy', 1), ('spend', 1), ('spendthrift', 1), ('spent.', 1), ('sphere,', 1), ('sphere;', 1), ('spheres;', 1), ('spies,', 1), ('spills', 1), ('spilt.', 1), ('spirit', 7), ('spirit!--so,', 1), ('spirit,', 3), ('spirit.', 1), ('spirit:', 1), ('spirit;', 1), ('spirits', 3), ('spirits,', 1), ('spirits,--', 1), ('spite,', 1), ('splenetive', 1), ('split', 1), ('spoke', 2), ('spoken', 1), ('spoken,', 1), ('spokes', 2), ('sponge!--what', 1), ('sponge,', 2), ('sport', 3), ('spots', 1), ('spread', 2), ('spring', 2), ('spring!--i', 1), ('springe,', 1), ('springes', 1), ('springs', 1), ('sprinkle', 1), ('sprung', 1), ('spur', 1), ('spurns', 2), ('squeak', 1), ('squeezing', 1), ('staff', 1), ('stage', 2), ('stage;', 1), ('stages,--so', 1), (\"stain'd,\", 1), ('stairs', 1), ('stake.', 1), ('stale,', 1), ('stalk', 1), ('stalks', 1), ('stamp', 2), ('stand', 12), ('stand,', 1), ('stand,--', 1), ('stand.', 1), ('standing', 1), ('stands', 2), ('stands,', 2), ('star', 3), ('star,', 1), ('star,--', 1), ('stars', 2), ('stars,', 2), ('start', 4), ('started,', 1), ('state', 6), ('state!', 1), ('state,', 3), ('state,--', 1), ('state.', 3), ('state;', 1), ('stately', 1), ('station', 2), ('statists', 1), ('statutes,', 1), ('stay', 7), ('stay!', 1), (\"stay'd\", 3), ('stay,', 1), ('stays:', 1), ('steal', 1), ('stealers.', 1), ('stealing', 1), ('steals', 1), ('steel,', 2), ('steel;', 1), ('steep', 1), (\"steep'd,\", 1), ('step', 2), ('steps,', 1), ('sterile', 1), ('sterling.', 1), ('stern', 1), (\"stew'd\", 1), ('steward,', 1), ('stick', 2), ('stick:', 1), ('sticks', 1), ('stiffly', 1), ('still', 13), ('still,', 4), ('still.--', 1), ('still;', 2), ('sting', 2), ('stir', 4), ('stir,', 1), (\"stirr'd\", 1), ('stirring.', 1), ('stithy.', 1), ('stock', 1), ('stockings', 1), ('stole', 2), ('stole,', 1), ('stomach', 1), ('stone,', 1), ('stone.', 1), ('stones,', 1), ('stonish', 1), ('stood', 4), ('stood,', 1), ('stood;', 1), ('stooping', 1), ('stoops', 1), ('stop', 3), ('stopping', 1), ('stops.', 1), ('stops;', 1), ('storm,', 1), ('story', 1), ('story,', 1), ('story.--', 1), ('stoup', 1), ('stoups', 1), ('stowed.', 1), ('straight.', 2), ('straight:', 2), ('strange', 4), ('strange!', 1), ('strange,', 1), ('strange.', 2), ('strange;', 1), ('strangely,', 1), ('strangely?', 1), ('stranger', 1), ('straw', 1), ('straw:', 1), ('straws', 1), ('straws;', 1), ('stream;', 1), ('streets,', 1), ('streets;', 1), ('strength', 1), ('strength,', 1), ('strengthen', 1), ('strew', 1), (\"strew'd\", 1), ('strewments,', 1), ('strict', 2), ('strife,', 1), ('strike', 1), ('strike,', 1), ('strikes', 1), ('striking', 1), ('strings', 1), ('strokes:', 1), ('strong', 3), ('strong.', 1), ('stronger', 4), ('strongest', 1), ('struck', 4), ('struck.', 1), ('struck?', 1), ('strucken', 1), ('struggling', 1), ('strumpet,', 1), ('strumpet.', 1), ('strutted', 1), ('stubborn', 1), ('stubbornness;', 1), ('stuck,', 1), ('study', 1), ('stuff', 2), ('stuff;', 1), ('stung', 1), ('sty,--', 1), ('subject', 2), ('subject:--and', 1), (\"subscrib'd\", 1), ('substance', 2), ('succession', 1), ('succession?', 1), ('successive', 1), ('such', 51), ('such,', 1), (\"such-a-one's\", 1), ('such-a-one,', 1), ('such-like', 1), ('such.', 1), ('such;', 1), (\"suck'd\", 2), ('sudden', 5), ('suddenly', 1), ('suffer', 3), ('suffered', 1), ('suffering', 1), ('suffers', 3), ('sugar', 1), ('suit', 2), ('suit;', 1), ('suiting', 1), ('suits', 2), ('suits,', 1), ('sullies', 1), (\"sulph'uous\", 1), ('sultry', 1), ('sultry,--as', 1), ('sum', 1), ('sum.--what', 1), ('summit', 2), ('summons.', 1), ('sun', 4), ('sun,', 1), ('sun.', 1), ('sun:', 1), ('sun;', 1), ('sunday', 1), ('sundays:--o,', 1), ('superfluous', 1), ('supervise,', 1), ('supper!', 1), ('supper.', 1), ('suppliance', 1), ('supply', 1), ('supposal', 1), ('suppress', 2), ('sure', 4), ('sure,', 5), ('surely,', 1), ('surmise.', 1), ('surrender', 1), ('survivor', 1), ('suspiration', 1), ('sustain', 1), ('swaddling', 1), ('swaggering', 1), ('swallowed:', 1), ('swear', 3), (\"swear't.\", 1), ('swear.', 6), ('swearing,', 1), ('swearing;', 1), ('sweat', 2), ('sweaty', 1), ('sweep', 2), ('sweepstake,', 1), ('sweet', 20), ('sweet,', 4), ('sweet:', 1), ('sweet;', 1), ('sweets', 1), ('swift', 2), ('swinish', 1), ('switzers?', 1), ('swoons', 1), ('sword', 4), ('sword,', 7), ('sword.', 4), ('sword:', 1), ('swords,', 1), ('swore,', 1), (\"sworn't.\", 1), ('sworn,', 1), ('sworn.', 1), ('synod,', 1), (\"t'is\", 1), (\"t'other\", 1), (\"ta'en\", 3), ('table', 2), ('table!', 1), ('table,--', 1), ('table-book,', 1), ('table:', 1), ('tables,--meet', 1), ('tables.', 1), ('taint', 1), ('taints', 1), ('take', 36), ('taken', 2), ('takes', 7), ('takes,', 2), ('tale', 4), ('talk', 2), (\"talk'd\", 2), ('tame', 1), ('tame,', 2), (\"tann'd\", 1), ('tanner', 1), ('tardy', 2), ('target;', 1), ('tarre', 1), ('task', 1), ('taste', 1), ('tatters,', 1), ('tax', 1), (\"tax'd\", 1), ('teach', 5), ('tear', 2), ('tear.--', 1), ('tears', 6), ('tears:', 1), ('tears;--why', 1), ('tedious', 2), ('tediousness', 1), ('teeth', 1), ('teeth,', 1), ('tell', 39), ('tell.', 2), ('tell;', 1), ('tells', 1), (\"tellus'\", 1), (\"temper'd\", 1), ('temperance', 1), ('temperately', 1), ('tempest,', 1), ('temple', 1), ('tempt', 3), ('ten', 4), ('tenable', 1), ('tenantless,', 1), ('tenants.', 1), ('tend,', 1), ('tend.', 1), ('tend:', 1), ('tend;', 1), ('tender', 3), ('tender,', 1), ('tenders', 2), ('tenders,', 1), (\"tennis':\", 1), ('tent', 1), ('tenures,', 1), ('term', 2), ('termagant;', 1), ('terms', 3), ('terms,', 1), ('terms,--', 1), ('test,', 1), ('tether', 1), ('tetter', 1), (\"th'\", 5), ('than', 51), ('thank', 9), ('thanks', 2), ('thanks,', 3), ('thanks.', 1), ('thanks:', 2), ('thanks;', 1), ('thanks?', 1), ('that', 337), (\"that's\", 16), ('that,', 28), ('that--', 1), ('that.', 5), (\"that.--pr'ythee,\", 1), ('that:', 2), ('that:--you', 1), ('that;', 2), ('that?', 6), ('that?--[aside.]', 1), ('thaw,', 1), ('the', 1136), ('theatre', 1), ('thee', 34), ('thee!', 4), ('thee,', 9), ('thee.', 5), ('thee.--', 1), ('thee.--something', 1), ('thee:', 2), ('thee;', 1), ('thee?', 2), ('theft.', 1), ('their', 57), ('them', 44), ('them,', 8), ('them,--that', 1), ('them.', 10), ('them.--but,', 1), ('them.--stand,', 1), ('them.]', 1), ('them:', 4), ('them;', 2), ('them?', 3), ('them?--to', 1), ('theme', 2), ('theme?', 1), ('themselves', 5), ('then', 36), ('then,', 16), ('then.', 1), ('then:', 1), ('then;', 5), ('then?', 4), ('thence', 3), ('thence,', 1), ('there', 50), ('there!', 2), (\"there's\", 16), ('there,', 6), ('there,--my', 1), ('there.', 6), ('there.--be', 1), ('there:', 1), ('there;', 4), ('there?', 4), ('thereabout', 1), ('therefore', 14), ('therefore,', 1), ('therein', 1), ('thereof', 1), ('thereon', 1), ('thereto', 1), ('thereunto,', 1), ('these', 44), ('these,', 3), ('these?', 1), ('thews', 1), ('they', 93), (\"they'll\", 1), ('they,', 1), ('they?', 1), ('thick', 2), ('thick,', 1), ('thicker', 1), ('thieves', 1), ('thin', 1), ('thine', 9), ('thine,', 2), ('thine:', 1), ('thine;', 1), ('thing', 13), (\"thing's\", 1), ('thing,', 2), ('thing,--', 1), ('thing.', 1), ('thing?', 1), ('things', 11), ('think', 39), (\"think't.\", 1), ('think,', 4), ('think,--or', 1), ('think.', 2), ('think?', 1), ('thinking', 4), (\"thinks't\", 1), ('third', 2), ('third,', 1), ('thirties', 1), ('thirty', 3), ('this', 250), ('this!', 3), ('this,', 17), ('this,--', 4), ('this,--he', 1), ('this.', 5), ('this.--', 1), ('this.--the', 1), ('this:', 2), ('this;', 2), ('this?', 11), ('thither', 2), ('thither.', 1), ('thorns', 1), ('thorny', 1), ('those', 21), ('thou', 95), ('thou!', 1), (\"thou'lt\", 2), (\"thou'rt\", 1), ('thou,', 5), ('thou,--', 1), ('thou.', 1), (\"thou.'\", 1), ('though', 22), ('thought', 8), ('thought,', 2), ('thought-sick', 1), ('thought;', 1), ('thoughts', 13), ('thoughts.', 2), ('thoughts;', 1), ('thousand', 10), ('thousand.', 1), (\"thrall'd\", 1), ('threaten', 1), ('threatening', 1), ('threats', 1), ('three', 8), ('three-and-twenty', 1), ('thrice', 4), ('thrift', 1), ('thrift,', 3), ('throat', 3), ('throat;', 1), ('throne', 1), ('throne;', 1), ('through', 9), ('throughly', 1), ('throw', 4), ('throw,', 1), ('throwing', 1), ('thrown', 2), ('thumb,', 1), ('thunder', 1), ('thunder.', 1), ('thunders', 1), ('thus', 29), ('thus,', 4), (\"thus,--you'll\", 1), ('thus.', 2), ('thus:', 2), (\"thus:--'i\", 1), ('thus?', 2), ('thy', 86), ('thyself', 1), ('thyself,--', 1), ('thyself:', 1), ('thyself;', 1), ('thyself?', 1), ('tickle', 1), ('till', 20), (\"timber'd\", 1), ('time', 30), ('time,', 5), ('time,--as', 1), (\"time,--i'd\", 1), ('time.', 5), ('time:', 1), ('time;', 1), ('times', 7), ('times;', 1), ('tinct.', 1), ('tithe', 1), ('to', 720), (\"to't\", 3), (\"to't,\", 1), (\"to't.\", 3), (\"to't;\", 1), ('to,', 2), (\"to,--'tis\", 1), ('to-day', 1), ('to-day,', 1), ('to-morrow', 3), ('to-morrow.', 1), ('to-night', 3), ('to-night!', 1), ('to-night,', 1), ('to-night.', 1), ('to-night:', 1), ('to-night;', 2), ('to-night?', 2), ('to.', 3), ('toe', 1), ('toe?', 1), ('together', 9), ('together.', 1), ('together:', 1), ('together;', 1), ('toil?', 1), ('toils', 1), ('tokens.', 1), ('told', 5), ('tomb', 1), ('tongue', 6), ('tongue!', 1), ('tongue,', 3), ('tongue.', 2), ('tongue:', 2), ('tongue?', 1), ('tongues', 2), ('tongues,', 1), ('too', 35), ('too!--', 1), ('too,', 5), ('too-much-changed', 1), ('too.', 5), ('too;', 3), ('too;--at', 1), ('took', 4), ('top', 6), ('top,', 1), (\"topp'd\", 1), ('tormenting', 1), ('torrent,', 1), ('total', 1), ('touch', 4), (\"touch'd,\", 1), ('touch,', 2), ('touches', 1), ('touching', 3), ('toward', 5), ('toward,', 1), ('towering', 1), ('town', 1), ('toy', 2), ('toys', 1), ('trace', 2), ('trade', 2), (\"traduc'd\", 1), ('tragedians', 1), ('tragedy,', 2), ('tragical-comical-historical-pastoral,', 1), ('tragical-historical,', 1), ('trail', 2), ('trains', 1), ('trains,', 1), ('traitorous', 1), ('transform', 1), ('transformation;', 1), ('translate', 1), ('translate:', 1), ('transports', 1), ('trappings', 1), ('travel', 1), ('travel?', 1), ('traveller', 1), ('treacherous', 1), ('treacherous,', 1), ('treachery!', 1), ('treachery.', 1), ('tread', 1), ('treads', 1), ('treason', 3), ('treason!', 2), ('treasure', 4), ('treble', 2), ('tree;', 1), ('tremble', 2), ('trespass,', 1), ('trial', 1), ('trial,', 1), ('trial.', 1), ('tributary;', 1), ('tribute', 1), ('tribute:', 1), ('trick', 2), (\"trick'd\", 1), ('trick;', 1), ('tricks', 1), ('tricks,', 1), ('tricks?', 1), ('tried,', 1), ('trifle,', 1), ('trifling', 1), ('trip', 1), ('trippingly', 1), ('tristful', 1), ('triumph', 1), ('trivial', 1), ('trophies', 1), ('trophy,', 1), ('tropically.', 1), ('trouble', 2), ('troubles', 1), ('troubles,', 1), ('truant', 1), ('truant.', 1), ('true', 14), ('true!', 1), ('true,', 1), ('true-love', 1), ('true.', 1), ('true:', 2), ('true;', 4), ('truepenny?--', 1), ('truly', 5), ('truly,', 1), ('truly:', 1), ('truly;', 1), ('trumpet', 4), ('trumpet;', 1), ('trumpets', 1), ('trumpets,', 1), (\"truncheon's\", 1), ('trust', 2), ('truster', 1), ('truth', 4), ('truth.', 1), ('truth:', 1), ('try', 5), ('try,', 1), ('tumbled', 1), ('tune', 2), ('tunes;', 1), ('turbulent', 1), ('turf,', 1), ('turk', 1), ('turn', 5), (\"turn'd\", 4), (\"turn'st\", 1), ('turn.', 1), ('turn?', 1), ('turneth', 1), ('turns', 1), ('tush,', 2), ('tutor:', 1), ('twain!', 1), ('twain.', 1), ('tweaks', 1), ('twelve', 2), ('twelve,', 1), ('twelve.', 2), ('twentieth', 1), ('twenty', 2), ('twenty,', 1), ('twice', 4), ('two', 19), ('two:', 1), ('twofold', 1), ('tyrannically', 1), ('tyrannous', 1), ('tyrant,', 1), ('ubique?', 1), ('ugly', 1), ('ulcer:--', 1), ('ulcerous', 1), ('umbrage,', 1), (\"unanel'd;\", 1), ('unbated', 1), ('unbated,', 1), (\"unbrac'd;\", 1), ('uncharge', 1), ('uncle', 4), ('uncle!', 1), (\"uncle's\", 1), ('uncle,', 2), ('uncle-father', 1), ('uncle:', 2), ('unction', 2), ('uncurrent', 1), ('under', 4), ('undergo,--', 1), ('understand', 7), ('understanding', 2), ('understanding,', 1), ('undertake', 2), ('undertakings,', 1), (\"undiscover'd\", 1), ('undo', 1), ('uneffectual', 1), ('unequal', 1), ('unfellowed.', 1), (\"unfledg'd\", 1), ('unfold', 2), ('unfold.', 1), (\"unforc'd\", 1), ('unfortified,', 1), ('ungalled', 1), (\"ungart'red,\", 1), (\"ungor'd.\", 1), ('ungracious', 1), ('unhappily.', 1), ('unholy', 1), (\"unhous'led,\", 1), ('unimproved', 1), ('union', 2), ('unite', 1), ('university,', 1), ('unkennel', 1), ('unkind.', 1), ('unknowing', 1), ('unknown,', 2), ('unless', 3), ('unlimited:', 1), ('unmanly', 1), ('unmannerly.', 1), ('unmask', 1), (\"unmaster'd\", 1), (\"unmatch'd\", 1), (\"unmix'd\", 1), ('unnatural', 2), ('unnatural.', 1), ('unnatural;', 1), ('unnerved', 1), ('unpack', 1), ('unpeg', 1), ('unpolluted', 1), ('unpregnant', 1), ('unprevailing', 1), ('unprofitable', 1), (\"unproportion'd\", 1), ('unreclaimed', 1), ('unrighteous', 1), ('unripe,', 1), ('unsanctified', 1), ('unsatisfied.', 1), (\"unschool'd;\", 1), ('unseal', 1), ('unseen', 1), ('unseen,', 1), ('unseen.', 1), ('unshaken', 1), ('unshaped', 1), ('unsifted', 1), (\"unsinew'd,\", 1), ('unskilful', 1), ('unsmirched', 1), ('unsure', 1), ('until', 1), ('untimely', 1), ('unto', 8), (\"unus'd.\", 1), (\"unvalu'd\", 1), (\"unwatch'd\", 1), ('unweeded', 1), ('unwholesome', 1), ('unwilling', 1), ('unworthiest', 1), ('unworthy', 2), ('unwrung.', 1), ('unyoke.', 1), ('up', 27), ('up,', 3), ('up-spring', 1), ('up.', 2), ('up.--remember', 1), ('up:', 1), ('up;', 2), ('up;--', 1), ('uphoarded', 1), ('upon', 53), (\"upon't!\", 1), (\"upon't,--\", 1), ('upon,--', 1), ('upon.', 1), ('upshot,', 1), ('us', 46), ('us!--', 1), (\"us'd\", 1), ('us,', 14), ('us,--thou', 1), ('us.', 5), ('us:', 1), ('us;', 1), ('us?', 1), ('use', 15), ('use;', 1), ('used;', 1), ('uses', 3), ('usual', 1), ('usurp', 1), (\"usurp'st\", 1), ('utter', 1), (\"utter'd:\", 1), ('utterance', 1), ('v.', 3), ('vacancy,', 1), ('vailed', 1), ('vain', 1), (\"valanc'd\", 1), (\"valentine's\", 1), ('valentine.', 1), ('valiant', 2), ('validity:', 1), ('valour,', 1), (\"vanish'd\", 1), ('vanquisher;', 1), ('vantage', 1), ('vantage.', 1), ('vapours.', 1), ('variable', 2), ('varnish', 1), ('vast', 1), ('vengeance', 1), ('vengeance!', 1), ('venom', 1), (\"venom'd\", 1), ('venom,', 1), ('ventages', 1), ('verity', 1), ('verse', 1), ('very', 64), ('very,', 1), ('very--pajock.', 1), ('vi.', 1), ('vial,', 1), ('vice', 3), ('vicious', 1), ('videlicet,', 1), ('vienna:', 1), ('view', 1), ('view;', 1), ('vigour', 1), ('vii.', 1), ('vile', 6), ('villain', 3), ('villain!', 3), ('villain,', 2), ('villain;', 2), ('villain?', 1), ('villanies,--', 1), ('villanous', 1), ('villany!--ho!', 1), ('violence', 1), ('violence,', 1), ('violence:', 1), ('violence;', 1), ('violent', 4), ('violet', 1), ('violets', 1), ('violets,', 1), ('virgin', 1), ('virtue', 10), ('virtue,', 2), ('virtue;', 1), ('virtues', 2), ('visage', 3), ('visage,', 2), ('vision', 1), ('visit', 5), ('visitation', 2), ('visitation?', 1), ('voice', 5), ('voice,', 4), ('voice:', 2), ('voice;', 1), ('volley.', 1), ('volt.', 2), ('voltimand', 3), ('voltimand,', 4), ('volume', 1), ('vouch', 1), ('vouchers', 1), ('vouchers,', 1), ('vouchsafe', 3), ('vow', 2), ('vows', 1), ('vows,', 2), ('vows:', 1), ('vows;', 1), ('voyage,', 1), ('voyage;', 1), (\"vulcan's\", 1), ('vulgar', 1), ('vulgar.', 1), ('wag', 1), ('wag.', 1), ('wager', 4), (\"wager'd\", 1), ('wager,', 1), ('wager?', 1), ('wail', 1), ('waist,', 1), ('wait', 2), ('waits', 1), ('wake', 1), ('walk', 8), (\"walk'd\", 1), ('walk.', 1), ('walks', 2), ('wall', 1), (\"wan'd;\", 1), ('wandering', 1), ('want', 2), ('wanton', 2), ('wanton,', 1), ('wantonness', 1), ('wants', 2), ('war', 1), ('war;', 1), ('wards,', 1), ('warlike', 5), ('warms', 1), ('warning,', 1), (\"warr'nt\", 1), ('warrant', 3), ('warrant:', 1), ('warranties:', 1), ('wars,', 1), ('wars.', 1), ('wart!', 1), ('wary', 2), ('was', 73), (\"was't\", 2), (\"was't?\", 1), ('was,', 5), ('was,--as', 1), (\"was--'\", 1), ('was.', 1), ('was:', 1), ('was?', 1), ('wash', 2), ('wassail,', 1), ('waste', 1), ('wastein', 1), ('watch', 7), (\"watch'd.\", 1), ('watch,', 4), ('watch.', 1), ('watch:', 1), ('watch;', 2), ('watchman', 1), ('water', 5), ('water-fly?', 1), ('water;', 1), ('waves', 3), ('waving', 1), ('wax', 1), ('wax,', 1), ('waxes', 1), ('waxes,', 1), ('way', 8), ('way.', 1), ('way:', 1), ('way;', 1), ('ways', 1), ('ways.', 2), ('we', 132), ('we!', 1), (\"we'll\", 13), ('we,', 2), ('we.', 1), ('weak', 2), ('weaker', 1), ('weakest', 1), ('weakness', 1), ('weakness;', 1), ('weal', 1), ('wealth', 1), ('weapon;', 1), ('weapon?', 1), ('weapons:--but', 1), ('wear', 4), ('wearing', 1), ('wears', 2), ('weary', 1), ('weary,', 1), ('weasel.', 2), ('wed', 1), ('wed.', 1), ('wed;', 1), ('wedding.', 1), ('weed', 1), ('weeds', 2), ('weeds,', 2), ('weedy', 1), ('week;', 1), ('weep', 1), ('weep,', 2), ('weep?', 1), ('weeping', 1), ('weeps', 1), ('weigh', 2), (\"weigh'd,\", 2), ('weighing', 1), ('weight,', 1), ('welcome', 5), ('welcome,', 5), ('welcome,--his', 1), ('welcome.', 3), ('welcome:', 1), ('well', 30), ('well,', 21), ('well-took', 1), ('well.', 9), (\"well.'\", 1), ('well.--follow', 1), ('well.--welcome,', 1), ('well:', 5), ('well;', 4), ('well;--again.', 1), ('well?', 2), ('went', 5), ('were', 27), ('west', 1), ('westward', 1), ('whale.', 2), ('wharf,', 1), ('what', 183), (\"what's\", 12), ('what,', 15), ('what?', 2), ('whatsoever', 1), ('wheaten', 1), ('wheel', 1), ('wheel,', 2), ('when', 54), ('when,', 1), ('whence', 1), ('whensoever,', 1), ('where', 49), (\"where's\", 2), ('where,', 2), ('where?', 2), ('whereat', 1), ('wherefore', 2), ('wherefore?', 1), ('wherein', 7), ('whereof', 1), ('whereof,', 1), ('whereon', 5), ('whereto', 4), ('whet', 1), ('whether', 7), ('which', 55), ('which,', 8), ('which,--', 1), ('whiff', 1), ('while', 7), ('while,', 1), ('while.', 1), ('while;', 1), ('whilst', 5), ('whilst,', 1), ('whine?', 1), ('whipped', 1), ('whipping?', 1), ('whips', 2), ('whirling', 1), ('whirlwind', 1), ('whisper', 2), ('whispers', 1), ('whit,', 1), ('white', 4), ('whither', 1), ('who', 32), (\"who's\", 1), ('who,', 9), ('who?', 2), ('whole', 7), ('wholesome', 6), ('wholesome;', 1), ('whom', 6), (\"whor'd\", 1), ('whore,', 1), ('whoreson', 1), ('whoreson,', 1), ('whose', 31), ('why', 29), ('why,', 26), ('why--', 2), ('why;', 1), ('why?', 1), (\"wi'\", 4), ('wick', 1), ('wicked', 6), ('wide', 2), ('wide;', 2), ('widow,', 1), ('wife', 1), ('wife!', 1), ('wife,', 2), ('wife.', 1), ('wife;', 3), ('wild', 1), ('wild,', 1), ('wild:', 1), ('wild;', 1), ('wildly', 2), ('wildness:', 1), ('wilfully', 1), ('will', 149), ('will!--', 1), (\"will't\", 1), ('will,', 9), ('will.', 7), ('will.--tell', 1), ('will:', 3), ('william', 1), ('willing,', 2), ('willingly', 2), ('willow', 1), ('wills', 1), ('wilt', 8), ('win', 2), ('win.', 1), ('wince;', 1), ('wind', 9), ('wind,', 2), ('windlaces,', 1), ('window,', 1), ('winds', 3), ('windy', 1), ('wine', 1), ('wing,--', 1), ('wings', 1), ('wings,', 1), ('winking,', 1), ('winks,', 1), ('winner', 1), ('winnowed', 1), (\"winter's\", 1), ('wipe', 2), ('wisdom', 5), ('wisdom,', 1), ('wisdoms,', 1), ('wise', 1), ('wise,', 1), ('wisely', 1), ('wisely,', 1), ('wiseness', 1), ('wisest', 3), ('wish', 3), (\"wish'd.\", 1), ('wishes', 1), ('wit', 2), (\"wit's\", 1), ('wit,', 3), ('witch', 1), ('witchcraft', 2), ('witching', 1), ('with', 264), ('with,', 2), ('with:', 1), ('with;', 1), ('withal,', 1), ('withal,--except', 1), ('withal.', 3), ('withal:', 1), ('withdraw', 1), ('withdraw,', 1), ('withdrew', 1), (\"wither'd\", 1), ('withers', 1), ('within', 13), ('within,', 1), ('within.]', 7), ('without', 17), ('without,', 2), ('without.', 1), ('witness', 2), ('wits', 2), ('wits,', 1), ('wits.', 1), ('wittenberg,', 2), ('wittenberg.', 1), ('wittenberg?', 1), ('wittingly,', 1), ('wittingly.', 1), ('woe', 5), ('woe.', 1), ('woe;', 2), ('woman', 3), ('woman!', 1), ('woman!--', 1), (\"woman's\", 1), ('woman,', 1), ('woman.', 1), ('womb', 1), (\"women's\", 1), ('wonder,', 2), ('wonder-wounded', 1), ('wonder.', 1), ('wonderful', 1), ('wonderful!', 1), ('wondrous', 3), ('wont', 3), ('wonted', 2), ('woo', 1), ('wood', 1), ('woodcock', 1), ('woodcocks.', 1), ('wooes', 1), ('word', 6), ('word,', 2), ('word.', 1), ('word.--', 1), ('word:', 1), ('word;', 1), ('words', 14), ('words,', 3), ('words.', 1), ('words:', 1), ('words?', 1), ('wore', 1), ('work', 5), ('work,', 1), ('work.', 1), ('work:', 1), ('work;', 1), ('work?', 1), ('working', 1), ('working,', 1), ('works,--', 1), ('world', 17), ('world!', 2), (\"world's\", 2), ('world,', 2), ('world.', 1), ('world:', 2), ('worlds,', 1), ('worm', 2), (\"worm's;\", 1), ('worm.', 1), ('worms', 1), ('wormwood!', 1), ('wormwood,', 1), ('worn.', 1), ('worse', 2), ('worse.', 1), ('worser', 1), ('worst.', 1), ('worth!', 1), ('worth,', 2), ('worthy', 1), (\"wot,'\", 1), (\"woul't\", 5), ('would', 74), (\"would';--\", 1), ('would,', 2), ('would;', 1), ('wouldst', 6), ('wounded', 1), ('woundless', 1), ('wounds', 2), ('wrap', 1), ('wrath', 1), ('wreck', 1), ('wretch', 3), ('wretched', 2), ('wretched,', 1), ('wring', 1), ('wringing', 1), ('wrinkled;', 1), ('wrist,', 1), ('writ', 5), ('write', 1), ('writers', 1), ('written', 1), ('wrong', 3), (\"wrong'd\", 1), (\"wrong'd;\", 1), ('wrong,', 2), ('wrong:', 1), ('wronging', 1), ('wrote', 1), ('wrote?', 1), ('wrung', 1), ('yard', 1), ('yaughan;', 1), ('yaw', 1), ('yawn,', 1), ('ye', 2), ('ye!', 1), ('ye.', 1), ('yea,', 4), ('year', 1), ('year,', 1), ('year.', 1), ('year:', 2), ('years', 1), ('years.', 2), (\"yeoman's\", 1), ('yes,', 5), ('yesterday,', 1), ('yesternight.', 1), ('yesty', 1), ('yet', 35), ('yet,', 5), ('yet?', 1), ('yield', 2), ('yielding', 1), ('yon', 1), ('yond', 1), ('yonder', 2), ('yorick!--i', 1), (\"yorick's\", 1), ('you', 412), ('you!', 1), (\"you'll\", 3), (\"you're\", 1), ('you,', 66), ('you,--', 2), ('you.', 22), ('you.--for', 1), ('you.--good', 1), ('you.--if', 1), ('you:', 12), ('you:--', 2), ('you:--keep', 1), ('you:--why', 1), ('you;', 9), ('you;--though,', 1), ('you?', 13), ('young', 16), ('young;', 1), ('younger', 1), ('your', 241), ('yours', 1), ('yours,', 2), ('yours.', 2), ('yours:', 1), ('yourself', 7), ('yourself,', 3), ('yourself.', 3), ('yourself:', 1), ('yourselves', 1), ('youth', 12), ('youth,', 3), ('youth:', 1), ('zone,', 1), ('\\ufeffxxxx', 1)]\n"
     ]
    }
   ],
   "source": [
    "print (sorted(worddict.items()))\n",
    "top100words = []\n"
   ]
  },
  {
   "cell_type": "code",
   "execution_count": 96,
   "metadata": {
    "collapsed": true
   },
   "outputs": [],
   "source": [
    "top100words = sorted(worddict.items(), key = lambda word: word[1], reverse = True )[0:100]"
   ]
  },
  {
   "cell_type": "code",
   "execution_count": 97,
   "metadata": {},
   "outputs": [
    {
     "data": {
      "text/plain": [
       "[('the', 1136),\n",
       " ('and', 943),\n",
       " ('to', 720),\n",
       " ('of', 667),\n",
       " ('a', 527),\n",
       " ('my', 512),\n",
       " ('i', 510),\n",
       " ('in', 420),\n",
       " ('you', 412),\n",
       " ('ham.', 358),\n",
       " ('that', 337),\n",
       " ('it', 324),\n",
       " ('is', 320),\n",
       " ('his', 295),\n",
       " ('not', 270),\n",
       " ('with', 264),\n",
       " ('this', 250),\n",
       " ('your', 241),\n",
       " ('for', 231),\n",
       " ('but', 228),\n",
       " ('as', 216),\n",
       " ('he', 202),\n",
       " ('be', 201),\n",
       " ('what', 183),\n",
       " ('have', 174),\n",
       " ('will', 149),\n",
       " ('so', 143),\n",
       " ('me', 142),\n",
       " ('we', 132),\n",
       " ('do', 128),\n",
       " ('are', 126),\n",
       " ('him', 122),\n",
       " ('our', 119),\n",
       " ('king.', 113),\n",
       " ('by', 111),\n",
       " ('hor.', 110),\n",
       " ('or', 109),\n",
       " ('if', 109),\n",
       " ('on', 109),\n",
       " ('no', 107),\n",
       " ('shall', 106),\n",
       " ('all', 95),\n",
       " ('from', 95),\n",
       " ('thou', 95),\n",
       " ('they', 93),\n",
       " ('let', 92),\n",
       " ('good', 88),\n",
       " ('at', 86),\n",
       " ('pol.', 86),\n",
       " ('thy', 86),\n",
       " ('how', 84),\n",
       " ('most', 82),\n",
       " ('lord,', 81),\n",
       " ('more', 76),\n",
       " ('queen.', 76),\n",
       " ('her', 76),\n",
       " ('like', 75),\n",
       " ('would', 74),\n",
       " ('was', 73),\n",
       " (\"'tis\", 70),\n",
       " ('you,', 66),\n",
       " ('may', 65),\n",
       " ('very', 64),\n",
       " ('hath', 62),\n",
       " ('laer.', 62),\n",
       " ('[enter', 61),\n",
       " ('lord.', 60),\n",
       " ('did', 59),\n",
       " ('oph.', 58),\n",
       " ('must', 58),\n",
       " ('give', 58),\n",
       " ('their', 57),\n",
       " ('know', 57),\n",
       " ('o,', 57),\n",
       " (\"i'll\", 56),\n",
       " ('should', 55),\n",
       " ('which', 55),\n",
       " ('an', 55),\n",
       " ('come', 54),\n",
       " ('when', 54),\n",
       " ('some', 54),\n",
       " ('upon', 53),\n",
       " ('make', 53),\n",
       " ('am', 52),\n",
       " ('such', 51),\n",
       " ('than', 51),\n",
       " ('ros.', 51),\n",
       " ('there', 50),\n",
       " ('where', 49),\n",
       " ('now', 48),\n",
       " ('go', 48),\n",
       " ('o', 46),\n",
       " ('us', 46),\n",
       " ('clown.', 45),\n",
       " ('much', 44),\n",
       " ('had', 44),\n",
       " ('these', 44),\n",
       " ('them', 44),\n",
       " ('she', 43),\n",
       " ('out', 43)]"
      ]
     },
     "execution_count": 97,
     "metadata": {},
     "output_type": "execute_result"
    }
   ],
   "source": [
    "top100words"
   ]
  },
  {
   "cell_type": "code",
   "execution_count": 98,
   "metadata": {
    "collapsed": true
   },
   "outputs": [],
   "source": [
    "import matplotlib\n",
    "import matplotlib.pyplot as plt"
   ]
  },
  {
   "cell_type": "code",
   "execution_count": 102,
   "metadata": {},
   "outputs": [
    {
     "data": {
      "text/plain": [
       "<matplotlib.text.Text at 0x117ba6ef0>"
      ]
     },
     "execution_count": 102,
     "metadata": {},
     "output_type": "execute_result"
    },
    {
     "data": {
      "image/png": "[encoded data removed]",
      "text/plain": [
       "<matplotlib.figure.Figure at 0x117926240>"
      ]
     },
     "metadata": {},
     "output_type": "display_data"
    }
   ],
   "source": [
    "%matplotlib inline\n",
    "import matplotlib.pyplot as plt\n",
    "topfreq = top100words[:10]\n",
    "pos = range(len(topfreq)) # get positions on graph\n",
    "plt.bar(pos, [e[1] for e in topfreq]); # get second members of tuples, plot against positions\n",
    "plt.xticks([e+0.4 for e in pos], [e[0] for e in topfreq]); # get labels as first members of tuples\n",
    "plt.ylabel('Frequency')"
   ]
  },
  {
   "cell_type": "code",
   "execution_count": 103,
   "metadata": {},
   "outputs": [
    {
     "data": {
      "text/plain": [
       "[1136, 943, 720, 667, 527, 512, 510, 420, 412, 358]"
      ]
     },
     "execution_count": 103,
     "metadata": {},
     "output_type": "execute_result"
    }
   ],
   "source": [
    "[e[1] for e in topfreq]"
   ]
  },
  {
   "cell_type": "code",
   "execution_count": 104,
   "metadata": {},
   "outputs": [
    {
     "data": {
      "text/plain": [
       "[0.4, 1.4, 2.4, 3.4, 4.4, 5.4, 6.4, 7.4, 8.4, 9.4]"
      ]
     },
     "execution_count": 104,
     "metadata": {},
     "output_type": "execute_result"
    }
   ],
   "source": [
    "[e+0.4 for e in pos]"
   ]
  },
  {
   "cell_type": "code",
   "execution_count": 105,
   "metadata": {},
   "outputs": [
    {
     "data": {
      "text/plain": [
       "['the', 'and', 'to', 'of', 'a', 'my', 'i', 'in', 'you', 'ham.']"
      ]
     },
     "execution_count": 105,
     "metadata": {},
     "output_type": "execute_result"
    }
   ],
   "source": [
    "[e[0] for e in topfreq]"
   ]
  },
  {
   "cell_type": "code",
   "execution_count": null,
   "metadata": {
    "collapsed": true
   },
   "outputs": [],
   "source": []
  }
 ],
 "metadata": {
  "kernelspec": {
   "display_name": "Python 3",
   "language": "python",
   "name": "python3"
  },
  "language_info": {
   "codemirror_mode": {
    "name": "ipython",
    "version": 3
   },
   "file_extension": ".py",
   "mimetype": "text/x-python",
   "name": "python",
   "nbconvert_exporter": "python",
   "pygments_lexer": "ipython3",
   "version": "3.6.1"
  }
 },
 "nbformat": 4,
 "nbformat_minor": 2
}
